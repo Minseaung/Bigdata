{
 "cells": [
  {
   "cell_type": "markdown",
   "id": "910caf15",
   "metadata": {},
   "source": [
    "#####\n",
    "- 아래의 다섯개는 무조건 들어감!\n",
    "- 1줄과 2줄은 라이브러리 임포트\n",
    "- 3줄은 웹페이지 가져오기\n",
    "- 4줄은 웹페이지 파싱하기\n",
    "- 5줄은 필요한 데이터 추출하기\n",
    "- 6줄은 추출한 데이터 활용하기"
   ]
  },
  {
   "cell_type": "code",
   "execution_count": 1,
   "id": "c09d4eb8",
   "metadata": {},
   "outputs": [
    {
     "name": "stdout",
     "output_type": "stream",
     "text": [
      "잔금대출에도 DTI 규제 적용 검토\n"
     ]
    }
   ],
   "source": [
    "import requests\n",
    "from bs4 import BeautifulSoup\n",
    "res = requests.get('http://v.media.daum.net/v/20170615203441266')\n",
    "soup = BeautifulSoup(res.content, 'html.parser')\n",
    "mydata = soup.find('title')\n",
    "print(mydata.get_text())"
   ]
  },
  {
   "cell_type": "code",
   "execution_count": 2,
   "id": "2fcc19a3",
   "metadata": {},
   "outputs": [
    {
     "data": {
      "text/plain": [
       "b'<!doctype html>\\n<html lang=\"ko\"> \\n <head data-cloud-area=\"head\"> \\n  <meta charset=\"utf-8\"> \\n  <meta http-equiv=\"X-UA-Compatible\" content=\"IE=edge\"> \\n  <style>\\n            @import url(\\'//t1.daumcdn.net/harmony_static/cloud/page/3e96c93f90d4df7aca693bfb2ba2ea76d2d14d92.css\\');\\n            @import url(\\'//t1.daumcdn.net/harmony_static/cloud/2021/05/03/common.4fa0ea63845693bada8b.css\\')\\n        </style> \\n  <style>\\n            /* \\xeb\\x8b\\xa4\\xec\\x9d\\x8c \\xec\\xb9\\xb4\\xed\\x8e\\x98 \\xec\\x86\\x8c\\xec\\x85\\x9c \\xec\\x89\\x90\\xec\\x96\\xb4 \\xec\\x9e\\x84\\xec\\x8b\\x9c \\xeb\\xb9\\x84\\xed\\x99\\x9c\\xec\\x84\\xb1\\xed\\x99\\x94 */\\n            .list_sns li:nth-child(6) {\\n                display: none;\\n            }\\n        </style> \\n  <meta property=\"mccp:docId\" content=\"nkhSoinQsa\"> \\n  <meta property=\"og:site_name\" content=\"\\xeb\\x8b\\xa4\\xec\\x9d\\x8c\\xeb\\x89\\xb4\\xec\\x8a\\xa4\"> \\n  <meta property=\"og:title\" content=\"\\xec\\x9e\\x94\\xea\\xb8\\x88\\xeb\\x8c\\x80\\xec\\xb6\\x9c\\xec\\x97\\x90\\xeb\\x8f\\x84 DTI \\xea\\xb7\\x9c\\xec\\xa0\\x9c \\xec\\xa0\\x81\\xec\\x9a\\xa9 \\xea\\xb2\\x80\\xed\\x86\\xa0\"> \\n  <meta property=\"og:regDate\" content=\"20170615203440\"> \\n  <meta property=\"og:type\" content=\"article\"> \\n  <meta property=\"og:url\" content=\"https://news.v.daum.net/v/nkhSoinQsa\"> \\n  <meta property=\"og:image\" content=\"https://img1.daumcdn.net/thumb/S1200x630/?fname=https://t1.daumcdn.net/news/201706/15/hankooki/20170615044256378kzbd.jpg\"> \\n  <meta property=\"og:image:width\" content=\"1200\"> \\n  <meta property=\"og:image:height\" content=\"630\"> \\n  <meta property=\"og:description\" content=\"\\xeb\\x82\\xb4\\xec\\xa3\\xbc \\xeb\\xb6\\x80\\xeb\\x8f\\x99\\xec\\x82\\xb0 \\xec\\xa2\\x85\\xed\\x95\\xa9\\xeb\\x8c\\x80\\xec\\xb1\\x85 \\xeb\\xb0\\x9c\\xed\\x91\\x9c \\xec\\xa7\\x91\\xea\\xb0\\x92 \\xec\\x83\\x81\\xec\\x8a\\xb9 \\xeb\\x85\\xb8\\xeb\\xa6\\xb0 \\xed\\x88\\xac\\xea\\xb8\\xb0 \\xeb\\xb6\\x84\\xec\\x96\\x91 \\xec\\xb0\\xa8\\xeb\\x8b\\xa8 LTV\\xe3\\x86\\x8dDTI \\xea\\xb7\\x9c\\xec\\xa0\\x9c \\xeb\\x8b\\xa4\\xec\\x8b\\x9c \\xea\\xb0\\x95\\xed\\x99\\x94\\xed\\x95\\xa0 \\xeb\\x93\\xaf \\xec\\xa0\\x80\\xec\\x86\\x8c\\xeb\\x93\\x9d \\xec\\x8b\\xa4\\xec\\x88\\x98\\xec\\x9a\\x94\\xec\\x9e\\x90 \\xed\\x94\\xbc\\xed\\x95\\xb4 \\xec\\x9a\\xb0\\xeb\\xa0\\xa4\\xeb\\x8f\\x84 \\xea\\xb8\\x88\\xec\\x9c\\xb5\\xeb\\x8b\\xb9\\xea\\xb5\\xad\\xec\\x9d\\xb4 \\xea\\xb8\\x89\\xec\\xa6\\x9d\\xed\\x95\\x98\\xeb\\x8a\\x94 \\xea\\xb0\\x80\\xea\\xb3\\x84\\xeb\\xb6\\x80\\xec\\xb1\\x84 \\xec\\xa6\\x9d\\xea\\xb0\\x80\\xec\\x84\\xb8\\xeb\\xa5\\xbc \\xeb\\xa7\\x89\\xea\\xb8\\xb0 \\xec\\x9c\\x84\\xed\\x95\\xb4 \\xec\\x95\\x84\\xed\\x8c\\x8c\\xed\\x8a\\xb8 \\xec\\x9e\\x94\\xea\\xb8\\x88\\xeb\\x8c\\x80\\xec\\xb6\\x9c\\xec\\x97\\x90\\xeb\\x8f\\x84 \\xec\\x86\\x8c\\xeb\\x93\\x9d\\xec\\x9d\\x84 \\xeb\\x94\\xb0\\xec\\xa0\\xb8 \\xeb\\x8c\\x80\\xec\\xb6\\x9c\\xed\\x95\\x9c\\xeb\\x8f\\x84\\xeb\\xa5\\xbc \\xec\\xa0\\x95\\xed\\x95\\x98\\xeb\\x8a\\x94 \\xec\\xb4\\x9d\\xeb\\xb6\\x80\\xec\\xb1\\x84\\xec\\x83\\x81\\xed\\x99\\x98\\xeb\\xb9\\x84\\xec\\x9c\\xa8(DTI)\\xec\\x9d\\x84 \\xec\\xa0\\x81\\xec\\x9a\\xa9\\xed\\x95\\x98\\xeb\\x8a\\x94 \\xeb\\xb0\\xa9\\xec\\x95\\x88\\xec\\x9d\\x84 \\xec\\x9c\\xa0\\xeb\\xa0\\xa5\\xed\\x95\\x98\\xea\\xb2\\x8c \\xea\\xb2\\x80\\xed\\x86\\xa0\\xed\\x95\\x98\\xea\\xb3\\xa0 \\xec\\x9e\\x88\\xeb\\x8b\\xa4. \\xec\\xa7\\x80\\xea\\xb8\\x88\\xec\\x9d\\x80 \\xec\\xa7\\x91\\xea\\xb0\\x92\\xec\\x9d\\x84 \\xea\\xb8\\xb0\\xec\\xa4\\x80\\xec\\x9c\\xbc\\xeb\\xa1\\x9c \\xeb\\x8c\\x80\\xec\\xb6\\x9c\\xed\\x95\\x9c\\xeb\\x8f\\x84\\xeb\\xa5\\xbc \\xeb\\xa7\\xa4\\xea\\xb8\\xb0\\xeb\\x8a\\x94 \\xec\\xa3\\xbc\\xed\\x83\\x9d\\xeb\\x8b\\xb4\\xeb\\xb3\\xb4\\xec\\x9d\\xb8\\xec\\xa0\\x95\\xeb\\xb9\\x84\\xec\\x9c\\xa8(LTV) \\xea\\xb7\\x9c\\xec\\xa0\\x9c\"> \\n  <meta property=\"al:android:url\" content=\"daumapps://web?url=https%3A%2F%2Fnews.v.daum.net/v/nkhSoinQsa\"> \\n  <meta property=\"al:android:package\" content=\"net.daum.android.daum\"> \\n  <meta property=\"al:android:app_name\" content=\"\\xeb\\x8b\\xa4\\xec\\x9d\\x8c\\xec\\x95\\xb1\"> \\n  <meta property=\"al:ios:url\" content=\"daumapps://web?url=https%3A%2F%2Fnews.v.daum.net/v/nkhSoinQsa\"> \\n  <meta property=\"al:ios:app_store_id\" content=\"365494029\"> \\n  <meta property=\"al:ios:app_name\" content=\"\\xeb\\x8b\\xa4\\xec\\x9d\\x8c\\xec\\x95\\xb1\"> \\n  <meta property=\"twitter:card\" content=\"summary_large_image\"> \\n  <meta property=\"twitter:app:url:googleplay\" content=\"daumapps://web?url=https%3A%2F%2Fnews.v.daum.net/v/nkhSoinQsa\"> \\n  <meta property=\"twitter:app:id:googleplay\" content=\"net.daum.android.daum\"> \\n  <meta property=\"twitter:app:name:googleplay\" content=\"\\xeb\\x8b\\xa4\\xec\\x9d\\x8c\\xec\\x95\\xb1\"> \\n  <meta property=\"twitter:app:country\" content=\"KR\"> \\n  <meta property=\"twitter:app:url:iphone\" content=\"daumapps://web?url=https%3A%2F%2Fnews.v.daum.net/v/nkhSoinQsa\"> \\n  <meta property=\"twitter:app:id:iphone\" content=\"365494029\"> \\n  <meta property=\"twitter:app:name:iphone\" content=\"\\xeb\\x8b\\xa4\\xec\\x9d\\x8c\\xec\\x95\\xb1\"> \\n  <meta property=\"twitter:app:url:ipad\" content=\"daumapps://web?url=https%3A%2F%2Fnews.v.daum.net/v/nkhSoinQsa\"> \\n  <meta property=\"twitter:app:id:ipad\" content=\"365494029\"> \\n  <meta property=\"twitter:app:name:ipad\" content=\"\\xeb\\x8b\\xa4\\xec\\x9d\\x8c\\xec\\x95\\xb1\"> \\n  <meta name=\"referrer\" content=\"always\"> \\n  <title>\\xec\\x9e\\x94\\xea\\xb8\\x88\\xeb\\x8c\\x80\\xec\\xb6\\x9c\\xec\\x97\\x90\\xeb\\x8f\\x84 DTI \\xea\\xb7\\x9c\\xec\\xa0\\x9c \\xec\\xa0\\x81\\xec\\x9a\\xa9 \\xea\\xb2\\x80\\xed\\x86\\xa0</title> \\n  <link rel=\"shortcut icon\" href=\"//m2.daumcdn.net/img-media/2010ci/Daum_favicon.ico\"> \\n </head> \\n <body class=\"\">      \\n  <div id=\"kakaoIndex\"> <a href=\"#kakaoBody\">\\xeb\\xb3\\xb8\\xeb\\xac\\xb8 \\xeb\\xb0\\x94\\xeb\\xa1\\x9c\\xea\\xb0\\x80\\xea\\xb8\\xb0</a> <a href=\"#kakaoGnb\">\\xeb\\xa9\\x94\\xeb\\x89\\xb4 \\xeb\\xb0\\x94\\xeb\\xa1\\x9c\\xea\\xb0\\x80\\xea\\xb8\\xb0</a> \\n  </div> \\n  <div id=\"kakaoWrap\" class=\"newsview_media\"> \\n   <div id=\"wrapMinidaum\"></div> \\n   <div id=\"kakaoHead\" role=\"banner\" data-cloud-area=\"header\"> \\n    <div class=\"head_media\" data-cloud=\"pc_header_gnb\"> \\n     <h1> <a href=\"https://www.daum.net\" class=\"link_daum\"> <img src=\"//t1.daumcdn.net/media/news/news2016/retina/logo_daum.jpg\" width=\"45\" height=\"19\" class=\"thumb_g\" alt=\"Daum\"> </a> <a href=\"//news.daum.net\" id=\"kakaoServiceLogo\"><span class=\"ir_wa\">\\xeb\\x89\\xb4\\xec\\x8a\\xa4</span></a> </h1> <strong class=\"screen_out\">\\xea\\xb4\\x80\\xeb\\xa0\\xa8\\xec\\x84\\x9c\\xeb\\xb9\\x84\\xec\\x8a\\xa4</strong> \\n     <ul id=\"kakaoRelServices\"> \\n      <li><a href=\"https://entertain.daum.net/\" class=\"link_services link_services1\"><span class=\"ir_wa\">\\xec\\x97\\xb0\\xec\\x98\\x88</span></a></li> \\n      <li><a href=\"https://sports.daum.net/\" class=\"link_services link_services2\"><span class=\"ir_wa\">\\xec\\x8a\\xa4\\xed\\x8f\\xac\\xec\\xb8\\xa0</span></a></li> \\n     </ul> \\n     <h2 class=\"screen_out\">\\xea\\xb2\\x80\\xec\\x83\\x89</h2> \\n     <div class=\"search_news\" id=\"search_news\"> \\n      <form id=\"kakaoSearch\" name=\"kakaoSearch\" action=\"https://search.daum.net/search\" method=\"get\"> \\n       <fieldset class=\"fld_inside\"> <legend class=\"screen_out\">\\xea\\xb2\\x80\\xec\\x83\\x89\\xec\\x96\\xb4 \\xec\\x9e\\x85\\xeb\\xa0\\xa5\\xed\\x8f\\xbc</legend> \\n        <div class=\"box_searchbar\"> <label for=\"qVal\" class=\"lab_search\">\\xed\\x86\\xb5\\xed\\x95\\xa9\\xea\\xb2\\x80\\xec\\x83\\x89</label> \\n         <input type=\"hidden\" name=\"nil_profile\" value=\"search\"> \\n         <input type=\"hidden\" name=\"nil_src\" value=\"media\"> \\n         <input type=\"hidden\" name=\"DA\" value=\"23A\"> \\n         <input type=\"hidden\" name=\"rtmaxcoll\" value=\"NNS\"> \\n         <input type=\"text\" class=\"tf_keyword\" id=\"qVal\" name=\"q\" value=\"\" title=\"\\xea\\xb2\\x80\\xec\\x83\\x89\\xec\\x96\\xb4 \\xec\\x9e\\x85\\xeb\\xa0\\xa5\" autocomplete=\"off\" spellcheck=\"false\"> <button id=\"kakaoBtnSearch\" class=\"btn_search\" type=\"submit\"><span class=\"ir_wa\">\\xea\\xb2\\x80\\xec\\x83\\x89</span></button> \\n        </div> \\n       </fieldset> \\n       <div id=\"wrap_suggestBox\" class=\"wrap_suggestBox\"> \\n        <div id=\"suggestBox\" class=\"suggestBox box_sub\"> \\n         <div class=\"baseBox bg\" style=\"display: none\"></div> \\n        </div> \\n       </div> \\n      </form> \\n     </div> \\n    </div> \\n    <div id=\"kakaoGnb\" role=\"navigation\" data-cloud=\"pc_header_gnb\"> \\n     <div class=\"inner_gnb\"> \\n      <h2 class=\"screen_out\">\\xeb\\x89\\xb4\\xec\\x8a\\xa4 \\xeb\\xa9\\x94\\xec\\x9d\\xb8\\xeb\\xa9\\x94\\xeb\\x89\\xb4</h2> \\n      <ul class=\"gnb_comm\" data-category=\"economic\"> \\n       <li class=\"home\"><a href=\"//news.daum.net/\" class=\"link_gnb link_gnb1\"><span class=\"ir_wa\">\\xed\\x99\\x88</span><span class=\"bar_gnb\"><span class=\"inner_bar\"></span></span></a></li> \\n       <li class=\"society\"><a href=\"//news.daum.net/society/\" class=\"link_gnb link_gnb2\"><span class=\"ir_wa\">\\xec\\x82\\xac\\xed\\x9a\\x8c</span><span class=\"bar_gnb\"><span class=\"inner_bar\"></span></span></a></li> \\n       <li class=\"politics\"><a href=\"//news.daum.net/politics/\" class=\"link_gnb link_gnb3\"><span class=\"ir_wa\">\\xec\\xa0\\x95\\xec\\xb9\\x98</span><span class=\"bar_gnb\"><span class=\"inner_bar\"></span></span></a></li> \\n       <li class=\"economic\"><a href=\"//news.daum.net/economic/\" class=\"link_gnb link_gnb4\"><span class=\"ir_wa\">\\xea\\xb2\\xbd\\xec\\xa0\\x9c</span><span class=\"bar_gnb\"><span class=\"inner_bar\"></span></span></a></li> \\n       <li class=\"foreign\"><a href=\"//news.daum.net/foreign/\" class=\"link_gnb link_gnb5\"><span class=\"ir_wa\">\\xea\\xb5\\xad\\xec\\xa0\\x9c</span><span class=\"bar_gnb\"><span class=\"inner_bar\"></span></span></a></li> \\n       <li class=\"culture\"><a href=\"//news.daum.net/culture/\" class=\"link_gnb link_gnb6\"><span class=\"ir_wa\">\\xeb\\xac\\xb8\\xed\\x99\\x94</span><span class=\"bar_gnb\"><span class=\"inner_bar\"></span></span></a></li> \\n       <li class=\"digital\"><a href=\"//news.daum.net/digital/\" class=\"link_gnb link_gnb7\"><span class=\"ir_wa\">IT</span><span class=\"bar_gnb\"><span class=\"inner_bar\"></span></span></a></li> \\n       <li class=\"popular\"><a href=\"//news.daum.net/ranking/popular\" class=\"link_gnb link_gnb8\"><span class=\"ir_wa\">\\xeb\\x9e\\xad\\xed\\x82\\xb9</span><span class=\"bar_gnb\"><span class=\"inner_bar\"></span></span></a></li> \\n       <li class=\"series editorial\"><a href=\"//news.daum.net/series\" class=\"link_gnb link_gnb9\"><span class=\"ir_wa\">\\xec\\x97\\xb0\\xec\\x9e\\xac</span><span class=\"bar_gnb\"><span class=\"inner_bar\"></span></span></a></li> \\n       <li class=\"photo\"><a href=\"//news.daum.net/photo\" class=\"link_gnb link_gnb10\"><span class=\"ir_wa\">\\xed\\x8f\\xac\\xed\\x86\\xa0</span><span class=\"bar_gnb\"><span class=\"inner_bar\"></span></span></a></li> \\n       <li class=\"tv\"><a href=\"//news.daum.net/tv\" class=\"link_gnb link_gnb11\"><span class=\"ir_wa\">TV</span><span class=\"bar_gnb\"><span class=\"inner_bar\"></span></span></a></li> \\n      </ul> \\n      <div class=\"gnb_etc\"> \\n       <ul class=\"gnb_with\"> \\n        <li><a href=\"//news.daum.net/1boon\" class=\"link_gnb link_gnb1\"><span class=\"ir_wa\">1boon</span></a></li> \\n        <li><a href=\"//gallery.v.daum.net/p/home\" class=\"link_gnb link_gnb2\"><span class=\"ir_wa\">\\xea\\xb0\\xa4\\xeb\\x9f\\xac\\xeb\\xa6\\xac</span><span class=\"bar_gnb\"><span class=\"inner_bar\"></span></span></a></li> \\n       </ul>  \\n       <div class=\"gnb_weather\"> <strong class=\"screen_out\">\\xeb\\x82\\xa0\\xec\\x94\\xa8 \\xec\\xa0\\x95\\xeb\\xb3\\xb4</strong> \\n        <div id=\"gnb_weather\"> \\n         <ul class=\"list_weather\" data-nightyn=\"N\"></ul> \\n        </div> \\n       </div> \\n      </div> \\n     </div> \\n    </div> \\n    <div id=\"barProgress\" class=\"bar_progress\" data-cloud=\"pc_header_gnb\"></div>          \\n   </div> \\n   <div id=\"dummyKakaoGnb\" style=\"height:137px; display:none;\"></div> \\n   <hr class=\"hide\"> \\n   <div id=\"kakaoContent\" class=\"cont_view\" role=\"main\"> \\n    <h2 id=\"kakaoBody\" class=\"screen_out\">\\xea\\xb2\\xbd\\xec\\xa0\\x9c</h2> \\n    <div id=\"cSub\" data-cloud-area=\"title\"> \\n     <div class=\"head_view\" data-cloud=\"pc_article_title_and_util\"> <em class=\"info_cp\"> <a href=\"http://www.hankookilbo.com\" class=\"link_cp\" target=\"_blank\"> <img src=\"https://t1.daumcdn.net/media/news/news2016/cp/cp_hankooki.gif\" class=\"thumb_g\" alt=\"\\xed\\x95\\x9c\\xea\\xb5\\xad\\xec\\x9d\\xbc\\xeb\\xb3\\xb4\"> </a> </em> \\n      <h3 class=\"tit_view\" data-translation=\"true\">\\xec\\x9e\\x94\\xea\\xb8\\x88\\xeb\\x8c\\x80\\xec\\xb6\\x9c\\xec\\x97\\x90\\xeb\\x8f\\x84 DTI \\xea\\xb7\\x9c\\xec\\xa0\\x9c \\xec\\xa0\\x81\\xec\\x9a\\xa9 \\xea\\xb2\\x80\\xed\\x86\\xa0</h3> <span class=\"info_view\"> <span class=\"txt_info\">\\xea\\xb9\\x80\\xeb\\x8f\\x99\\xec\\x9a\\xb1</span> <span class=\"txt_info\">\\xec\\x9e\\x85\\xeb\\xa0\\xa5 <span class=\"num_date\">2017. 06. 15. 20:34</span></span> <span class=\"txt_info\">\\xec\\x88\\x98\\xec\\xa0\\x95 <span class=\"num_date\">2017. 06. 15. 21:31</span></span> <button id=\"alexCounter\" class=\"emph_g2 link_cmt\">\\xeb\\x8c\\x93\\xea\\xb8\\x80 <span class=\"alex-count-area\">0</span>\\xea\\xb0\\x9c</button> </span> \\n      <div class=\"util_view\"> \\n       <h4 class=\"screen_out\">\\xea\\xb8\\xb0\\xec\\x82\\xac \\xeb\\x8f\\x84\\xea\\xb5\\xac \\xeb\\xaa\\xa8\\xec\\x9d\\x8c</h4>  \\n       <div class=\"btn_util util_summary\"> <button type=\"button\" class=\"btn_summary\" aria-expanded=\"false\"><span class=\"ico_newsview\">\\xec\\x9e\\x90\\xeb\\x8f\\x99\\xec\\x9a\\x94\\xec\\x95\\xbd</span></button> \\n        <div class=\"wrap_setlayer\"> \\n         <div class=\"layer_util layer_summary\"> \\n          <p>\\xea\\xb8\\x88\\xec\\x9c\\xb5\\xeb\\x8b\\xb9\\xea\\xb5\\xad\\xec\\x9d\\xb4 \\xea\\xb8\\x89\\xec\\xa6\\x9d\\xed\\x95\\x98\\xeb\\x8a\\x94 \\xea\\xb0\\x80\\xea\\xb3\\x84\\xeb\\xb6\\x80\\xec\\xb1\\x84 \\xec\\xa6\\x9d\\xea\\xb0\\x80\\xec\\x84\\xb8\\xeb\\xa5\\xbc \\xeb\\xa7\\x89\\xea\\xb8\\xb0 \\xec\\x9c\\x84\\xed\\x95\\xb4 \\xec\\x95\\x84\\xed\\x8c\\x8c\\xed\\x8a\\xb8 \\xec\\x9e\\x94\\xea\\xb8\\x88\\xeb\\x8c\\x80\\xec\\xb6\\x9c\\xec\\x97\\x90\\xeb\\x8f\\x84 \\xec\\x86\\x8c\\xeb\\x93\\x9d\\xec\\x9d\\x84 \\xeb\\x94\\xb0\\xec\\xa0\\xb8 \\xeb\\x8c\\x80\\xec\\xb6\\x9c\\xed\\x95\\x9c\\xeb\\x8f\\x84\\xeb\\xa5\\xbc \\xec\\xa0\\x95\\xed\\x95\\x98\\xeb\\x8a\\x94 \\xec\\xb4\\x9d\\xeb\\xb6\\x80\\xec\\xb1\\x84\\xec\\x83\\x81\\xed\\x99\\x98\\xeb\\xb9\\x84\\xec\\x9c\\xa8(DTI)\\xec\\x9d\\x84 \\xec\\xa0\\x81\\xec\\x9a\\xa9\\xed\\x95\\x98\\xeb\\x8a\\x94 \\xeb\\xb0\\xa9\\xec\\x95\\x88\\xec\\x9d\\x84 \\xec\\x9c\\xa0\\xeb\\xa0\\xa5\\xed\\x95\\x98\\xea\\xb2\\x8c \\xea\\xb2\\x80\\xed\\x86\\xa0\\xed\\x95\\x98\\xea\\xb3\\xa0 \\xec\\x9e\\x88\\xeb\\x8b\\xa4.</p>\\n          <p>\\xec\\xa7\\x80\\xea\\xb8\\x88\\xec\\x9d\\x80 \\xec\\xa7\\x91\\xea\\xb0\\x92\\xec\\x9d\\x84 \\xea\\xb8\\xb0\\xec\\xa4\\x80\\xec\\x9c\\xbc\\xeb\\xa1\\x9c \\xeb\\x8c\\x80\\xec\\xb6\\x9c\\xed\\x95\\x9c\\xeb\\x8f\\x84\\xeb\\xa5\\xbc \\xeb\\xa7\\xa4\\xea\\xb8\\xb0\\xeb\\x8a\\x94 \\xec\\xa3\\xbc\\xed\\x83\\x9d\\xeb\\x8b\\xb4\\xeb\\xb3\\xb4\\xec\\x9d\\xb8\\xec\\xa0\\x95\\xeb\\xb9\\x84\\xec\\x9c\\xa8(LTV) \\xea\\xb7\\x9c\\xec\\xa0\\x9c\\xeb\\xa7\\x8c \\xec\\xa0\\x81\\xec\\x9a\\xa9\\xeb\\x8f\\xbc \\xec\\x86\\x8c\\xeb\\x93\\x9d\\xec\\x9d\\xb4 \\xec\\x97\\x86\\xec\\x96\\xb4\\xeb\\x8f\\x84 \\xec\\xa7\\x91\\xea\\xb0\\x92\\xec\\x9d\\x98 70%\\xeb\\xa5\\xbc \\xeb\\xb9\\x8c\\xeb\\xa0\\xa4 \\xec\\x9e\\x94\\xea\\xb8\\x88\\xec\\x9d\\x84 \\xec\\xb9\\x98\\xeb\\xa5\\xb4\\xeb\\x8a\\x94 \\xea\\xb2\\x8c \\xea\\xb0\\x80\\xeb\\x8a\\xa5\\xed\\x95\\x98\\xeb\\x8b\\xa4.</p>\\n          <p>\\xec\\x95\\x9e\\xec\\x9c\\xbc\\xeb\\xa1\\x9c \\xec\\x9e\\x94\\xea\\xb8\\x88\\xeb\\x8c\\x80\\xec\\xb6\\x9c\\xec\\x97\\x90 DTI\\xea\\xb0\\x80 \\xec\\xa0\\x81\\xec\\x9a\\xa9\\xeb\\x90\\x98\\xeb\\xa9\\xb4 \\xec\\x86\\x8c\\xeb\\x93\\x9d\\xec\\x9d\\xb4 \\xec\\x97\\x86\\xeb\\x8a\\x94 \\xec\\x82\\xac\\xeb\\x9e\\x8c\\xec\\x9d\\x80 \\xec\\xa7\\x91\\xea\\xb0\\x92\\xec\\x9d\\x98 70% \\xeb\\x8c\\x80\\xec\\xb6\\x9c \\xeb\\xb0\\x9b\\xeb\\x8a\\x94 \\xea\\xb2\\x8c \\xec\\x96\\xb4\\xeb\\xa0\\xa4\\xec\\x9b\\x8c\\xec\\xa7\\x84\\xeb\\x8b\\xa4.</p> <span class=\"info_summary\"><span class=\"ico_newsview\"></span>\\xea\\xb8\\xb0\\xec\\x82\\xac \\xec\\xa0\\x9c\\xeb\\xaa\\xa9\\xea\\xb3\\xbc \\xec\\xa3\\xbc\\xec\\x9a\\x94 \\xeb\\xac\\xb8\\xec\\x9e\\xa5\\xec\\x9d\\x84 \\xea\\xb8\\xb0\\xeb\\xb0\\x98\\xec\\x9c\\xbc\\xeb\\xa1\\x9c \\xec\\x9e\\x90\\xeb\\x8f\\x99\\xec\\x9a\\x94\\xec\\x95\\xbd\\xed\\x95\\x9c \\xea\\xb2\\xb0\\xea\\xb3\\xbc\\xec\\x9e\\x85\\xeb\\x8b\\x88\\xeb\\x8b\\xa4. \\xec\\xa0\\x84\\xec\\xb2\\xb4 \\xeb\\xa7\\xa5\\xeb\\x9d\\xbd\\xec\\x9d\\x84 \\xec\\x9d\\xb4\\xed\\x95\\xb4\\xed\\x95\\x98\\xea\\xb8\\xb0 \\xec\\x9c\\x84\\xed\\x95\\xb4\\xec\\x84\\x9c\\xeb\\x8a\\x94 \\xeb\\xb3\\xb8\\xeb\\xac\\xb8 \\xeb\\xb3\\xb4\\xea\\xb8\\xb0\\xeb\\xa5\\xbc \\xea\\xb6\\x8c\\xec\\x9e\\xa5\\xed\\x95\\xa9\\xeb\\x8b\\x88\\xeb\\x8b\\xa4.</span> \\n         </div> \\n        </div> \\n       </div>  \\n       <div class=\"btn_util tts_btn\"> <button type=\"button\" class=\"btn_set btn_tts\" aria-expanded=\"false\"> <span class=\"ico_newsview ico_speak\">\\xec\\x9d\\x8c\\xec\\x84\\xb1 \\xea\\xb8\\xb0\\xec\\x82\\xac \\xeb\\x93\\xa3\\xea\\xb8\\xb0</span> </button> \\n        <div class=\"wrap_setlayer\"> \\n         <div class=\"layer_util layer_set layer_tts\"> <strong class=\"screen_out\">\\xec\\x9d\\x8c\\xec\\x84\\xb1 \\xea\\xb8\\xb0\\xec\\x82\\xac \\xec\\x98\\xb5\\xec\\x85\\x98 \\xec\\xa1\\xb0\\xec\\xa0\\x88 \\xeb\\xa0\\x88\\xec\\x9d\\xb4\\xec\\x96\\xb4</strong> \\n          <ul class=\"list_set list_tts\"> \\n           <li> <input type=\"radio\" id=\"ttsGenderMale\" name=\"ttsGender\" class=\"screen_out\" value=\"Male\"> <label class=\"lab_set\" for=\"ttsGenderMale\"><span class=\"ico_newsview\"></span>\\xeb\\x82\\xa8\\xec\\x84\\xb1</label> </li> \\n           <li> <input type=\"radio\" id=\"ttsGenderFemale\" name=\"ttsGender\" class=\"screen_out\" value=\"Female\"> <label class=\"lab_set\" for=\"ttsGenderFemale\"><span class=\"ico_newsview\"></span>\\xec\\x97\\xac\\xec\\x84\\xb1</label> </li> \\n          </ul> \\n          <ul class=\"list_set list_tts list_ttsspeed\"> \\n           <li> <input type=\"radio\" id=\"ttsSpeedSlow\" name=\"ttsSpeed\" class=\"screen_out\" value=\"slow\"> <label class=\"lab_set\" for=\"ttsSpeedSlow\"><span class=\"ico_newsview\"></span>\\xeb\\x8a\\x90\\xeb\\xa6\\xbc</label> </li> \\n           <li> <input type=\"radio\" id=\"ttsSpeedNormal\" name=\"ttsSpeed\" class=\"screen_out\" value=\"normal\"> <label class=\"lab_set\" for=\"ttsSpeedNormal\"><span class=\"ico_newsview\"></span>\\xeb\\xb3\\xb4\\xed\\x86\\xb5</label> </li> \\n           <li> <input type=\"radio\" id=\"ttsSpeedFast\" name=\"ttsSpeed\" class=\"screen_out\" value=\"fast\"> <label class=\"lab_set\" for=\"ttsSpeedFast\"><span class=\"ico_newsview\"></span>\\xeb\\xb9\\xa0\\xeb\\xa6\\x84</label> </li> \\n          </ul> \\n         </div> \\n        </div> \\n        <audio style=\"display:none\" preload=\"none\" id=\"ttsPlayer\"></audio> \\n       </div>  \\n       <div class=\"btn_util translate_btn\"> <button type=\"button\" class=\"btn_set btn_translate #util #translate #set\" aria-expanded=\"false\"><span class=\"ico_newsview\">\\xeb\\xb2\\x88\\xec\\x97\\xad \\xec\\x84\\xa4\\xec\\xa0\\x95</span></button> \\n        <div class=\"wrap_translatelayer\"> \\n         <div class=\"layer_util layer_translate\"> <strong class=\"tit_translate\">\\xeb\\xb2\\x88\\xec\\x97\\xad<span class=\"ico_newsview\">beta</span> </strong> \\n          <p class=\"desc_translate txt_newsview\">Translated by <a href=\"https://kakao.ai/\" target=\"_blank\" class=\"link_kakaoi #util #translate #kakaoi_link\">kakao i</a></p> <strong class=\"screen_out\">\\xeb\\xb2\\x88\\xec\\x97\\xad\\xed\\x95\\xa0 \\xec\\x96\\xb8\\xec\\x96\\xb4 \\xec\\x84\\xa0\\xed\\x83\\x9d</strong> \\n          <ul class=\"list_lang\"> \\n           <li> <button class=\"btn_lang btn_en #util #translate #lang_en\" name=\"en\"> <span class=\"ico_newsview ico_flag\"></span> <strong class=\"ico_newsview tit_lang\">English</strong> </button> </li> \\n           <li> <button type=\"button\" class=\"btn_lang btn_ch #util #translate #lang_cn\" name=\"cn\"> <span class=\"ico_newsview ico_flag\"></span> <strong class=\"ico_newsview tit_lang\">\\xe7\\xae\\x80\\xe4\\xbd\\x93\\xe4\\xb8\\xad\\xe6\\x96\\x87</strong> </button> </li> \\n           <li> <button type=\"button\" class=\"btn_lang btn_jp #util #translate #lang_jp\" name=\"jp\"> <span class=\"ico_newsview ico_flag\"></span> <strong class=\"ico_newsview tit_lang\">\\xe6\\x97\\xa5\\xe6\\x9c\\xac\\xe8\\xaa\\x9e</strong> </button> </li> \\n           <li> <button type=\"button\" class=\"btn_lang btn_ind #util #translate #lang_id\" name=\"id\"> <span class=\"ico_newsview ico_flag\"></span> <strong class=\"ico_newsview tit_lang\">Bahasa Indonesia</strong> </button> </li> \\n           <li> <button type=\"button\" class=\"btn_lang btn_viet #util #translate #lang_vi\" name=\"vi\"> <span class=\"ico_newsview ico_flag\"></span> <strong class=\"ico_newsview tit_lang\">ti\\xe1\\xba\\xbfng Vi\\xe1\\xbb\\x87t</strong> </button> </li> \\n           <li> <button type=\"button\" class=\"btn_lang btn_ko #util #translate #lang_kr\" name=\"kr\"> <span class=\"ico_newsview ico_flag\"></span> <strong class=\"ico_newsview tit_lang\">\\xed\\x95\\x9c\\xea\\xb5\\xad\\xec\\x96\\xb4</strong> </button> </li> \\n          </ul> \\n         </div> \\n        </div> \\n       </div>  \\n       <div class=\"btn_util share_btn\"> <button id=\"rSocialShareButton\" class=\"btn_set btn_share\" aria-expanded=\"false\"> <span class=\"ico_newsview\">\\xea\\xb3\\xb5\\xec\\x9c\\xa0</span> </button> \\n        <div id=\"rSocialShareLayerContainer\"></div>  \\n       </div>  \\n       <div class=\"btn_util font_btn\"> <button type=\"button\" class=\"btn_set btn_font\" aria-expanded=\"false\"> <span class=\"ico_newsview ico_font\">\\xea\\xb8\\x80\\xec\\x94\\xa8\\xed\\x81\\xac\\xea\\xb8\\xb0 \\xec\\xa1\\xb0\\xec\\xa0\\x88\\xed\\x95\\x98\\xea\\xb8\\xb0</span> </button> \\n        <div class=\"wrap_setlayer\"> \\n         <div class=\"layer_util layer_set layer_font\"> <strong class=\"screen_out\">\\xea\\xb8\\x80\\xec\\x9e\\x90 \\xed\\x81\\xac\\xea\\xb8\\xb0 \\xec\\xa1\\xb0\\xec\\xa0\\x88 \\xeb\\xa0\\x88\\xec\\x9d\\xb4\\xec\\x96\\xb4</strong> \\n          <ul class=\"list_set list_font\"> \\n           <li> <input type=\"radio\" id=\"inpFont17\" name=\"inpFont\" class=\"screen_out\" value=\"17\"> <label class=\"lab_set lab_size0\" for=\"inpFont17\"> <span class=\"ico_newsview\"></span> <span aria-hidden=\"true\">\\xea\\xb0\\x80\\xeb\\x82\\x98\\xeb\\x8b\\xa4\\xeb\\x9d\\xbc\\xeb\\xa7\\x88\\xeb\\xb0\\x94\\xec\\x82\\xac</span> <span class=\"screen_out\">\\xeb\\xa7\\xa4\\xec\\x9a\\xb0 \\xec\\x9e\\x91\\xec\\x9d\\x80 \\xed\\x8f\\xb0\\xed\\x8a\\xb8</span> </label> </li> \\n           <li> <input type=\"radio\" id=\"inpFont18\" name=\"inpFont\" class=\"screen_out\" value=\"18\"> <label class=\"lab_set lab_size1\" for=\"inpFont18\"> <span class=\"ico_newsview\"></span> <span aria-hidden=\"true\">\\xea\\xb0\\x80\\xeb\\x82\\x98\\xeb\\x8b\\xa4\\xeb\\x9d\\xbc\\xeb\\xa7\\x88\\xeb\\xb0\\x94\\xec\\x82\\xac</span> <span class=\"screen_out\">\\xec\\x9e\\x91\\xec\\x9d\\x80 \\xed\\x8f\\xb0\\xed\\x8a\\xb8</span> </label> </li> \\n           <li> <input type=\"radio\" id=\"inpFont19\" name=\"inpFont\" class=\"screen_out\" value=\"19\"> <label class=\"lab_set lab_size2\" for=\"inpFont19\"> <span class=\"ico_newsview\"></span> <span aria-hidden=\"true\">\\xea\\xb0\\x80\\xeb\\x82\\x98\\xeb\\x8b\\xa4\\xeb\\x9d\\xbc\\xeb\\xa7\\x88\\xeb\\xb0\\x94\\xec\\x82\\xac</span> <span class=\"screen_out\">\\xeb\\xb3\\xb4\\xed\\x86\\xb5 \\xed\\x8f\\xb0\\xed\\x8a\\xb8</span> </label> </li> \\n           <li> <input type=\"radio\" id=\"inpFont20\" name=\"inpFont\" class=\"screen_out\" value=\"20\"> <label class=\"lab_set lab_size3\" for=\"inpFont20\"> <span class=\"ico_newsview\"></span> <span aria-hidden=\"true\">\\xea\\xb0\\x80\\xeb\\x82\\x98\\xeb\\x8b\\xa4\\xeb\\x9d\\xbc\\xeb\\xa7\\x88\\xeb\\xb0\\x94\\xec\\x82\\xac</span> <span class=\"screen_out\">\\xed\\x81\\xb0 \\xed\\x8f\\xb0\\xed\\x8a\\xb8</span> </label> </li> \\n           <li> <input type=\"radio\" id=\"inpFont21\" name=\"inpFont\" class=\"screen_out\" value=\"21\"> <label class=\"lab_set lab_size4\" for=\"inpFont21\"> <span class=\"ico_newsview\"></span> <span aria-hidden=\"true\">\\xea\\xb0\\x80\\xeb\\x82\\x98\\xeb\\x8b\\xa4\\xeb\\x9d\\xbc\\xeb\\xa7\\x88\\xeb\\xb0\\x94\\xec\\x82\\xac</span> <span class=\"screen_out\">\\xeb\\xa7\\xa4\\xec\\x9a\\xb0 \\xed\\x81\\xb0 \\xed\\x8f\\xb0\\xed\\x8a\\xb8</span> </label> </li> \\n          </ul> \\n         </div> \\n        </div> \\n       </div>  \\n       <div class=\"btn_util\"> <button type=\"button\" class=\"btn_print\"><span class=\"ico_newsview\">\\xec\\x9d\\xb8\\xec\\x87\\x84\\xed\\x95\\x98\\xea\\xb8\\xb0 \\xec\\x83\\x88\\xec\\xb0\\xbd\\xec\\x97\\xb4\\xeb\\xa6\\xbc</span></button> \\n       </div> \\n      </div> \\n     </div>               \\n    </div> \\n    <div id=\"cMain\"> \\n     <div id=\"mArticle\"> \\n      <div data-cloud-area=\"article\">   \\n       <div id=\"translateNotice\" class=\"status_view\" style=\"display:none;\" data-cloud=\"pc_article_body\"> <span class=\"notice_lang notice_lang_en\" style=\"display:none;\">The copyright belongs to the original writer of the content, and there may be errors in machine translation results.</span> <span class=\"notice_lang notice_lang_cn\" style=\"display:none;\">\\xe7\\x89\\x88\\xe6\\x9d\\x83\\xe5\\xbd\\x92\\xe5\\x86\\x85\\xe5\\xae\\xb9\\xe5\\x8e\\x9f\\xe4\\xbd\\x9c\\xe8\\x80\\x85\\xe6\\x89\\x80\\xe6\\x9c\\x89\\xe3\\x80\\x82\\xe6\\x9c\\xba\\xe5\\x99\\xa8\\xe7\\xbf\\xbb\\xe8\\xaf\\x91\\xe7\\xbb\\x93\\xe6\\x9e\\x9c\\xe5\\x8f\\xaf\\xe8\\x83\\xbd\\xe5\\xad\\x98\\xe5\\x9c\\xa8\\xe9\\x94\\x99\\xe8\\xaf\\xaf\\xe3\\x80\\x82</span> <span class=\"notice_lang notice_lang_jp\" style=\"display:none;\">\\xe5\\x8e\\x9f\\xe6\\x96\\x87\\xe3\\x81\\xae\\xe8\\x91\\x97\\xe4\\xbd\\x9c\\xe6\\xa8\\xa9\\xe3\\x81\\xaf\\xe5\\x8e\\x9f\\xe8\\x91\\x97\\xe8\\x91\\x97\\xe4\\xbd\\x9c\\xe8\\x80\\x85\\xe3\\x81\\xab\\xe3\\x81\\x82\\xe3\\x82\\x8a\\xe3\\x80\\x81\\xe6\\xa9\\x9f\\xe6\\xa2\\xb0\\xe7\\xbf\\xbb\\xe8\\xa8\\xb3\\xe3\\x81\\xae\\xe7\\xb5\\x90\\xe6\\x9e\\x9c\\xe3\\x81\\xab\\xe3\\x82\\xa8\\xe3\\x83\\xa9\\xe3\\x83\\xbc\\xe3\\x81\\x8c\\xe5\\x90\\xab\\xe3\\x81\\xbe\\xe3\\x82\\x8c\\xe3\\x82\\x8b\\xe3\\x81\\x93\\xe3\\x81\\xa8\\xe3\\x81\\x8c\\xe3\\x81\\x82\\xe3\\x82\\x8a\\xe3\\x81\\xbe\\xe3\\x81\\x99\\xe3\\x80\\x82</span> <span class=\"notice_lang notice_lang_id\" style=\"display:none;\">Hak cipta milik penulis asli dari konten, dan mungkin ditemukan kesalahan dalam hasil terjemahan mesin.</span> <span class=\"notice_lang notice_lang_vi\" style=\"display:none;\">B\\xe1\\xba\\xa3n quy\\xe1\\xbb\\x81n thu\\xe1\\xbb\\x99c v\\xe1\\xbb\\x81 t\\xc3\\xa1c gi\\xe1\\xba\\xa3 g\\xe1\\xbb\\x91c c\\xe1\\xbb\\xa7a n\\xe1\\xbb\\x99i dung v\\xc3\\xa0 c\\xc3\\xb3 th\\xe1\\xbb\\x83 c\\xc3\\xb3 l\\xe1\\xbb\\x97i trong k\\xe1\\xba\\xbft qu\\xe1\\xba\\xa3 d\\xe1\\xbb\\x8bch b\\xe1\\xba\\xb1ng m\\xc3\\xa1y.</span> \\n       </div>  \\n       <div class=\"news_view\" style=\"font-size:17px\" data-cloud=\"pc_article_body\"> \\n        <div id=\"harmonyContainer\" class=\"article_view\" data-translation-body=\"true\"> \\n         <section dmcf-sid=\"ndxAvoEFLc\">\\n          <p dmcf-pid=\"nzrJ5KB3Cc\" dmcf-ptype=\"general\">\\xeb\\x82\\xb4\\xec\\xa3\\xbc \\xeb\\xb6\\x80\\xeb\\x8f\\x99\\xec\\x82\\xb0 \\xec\\xa2\\x85\\xed\\x95\\xa9\\xeb\\x8c\\x80\\xec\\xb1\\x85 \\xeb\\xb0\\x9c\\xed\\x91\\x9c</p>\\n          <p dmcf-pid=\"ncFbmYUgSc\" dmcf-ptype=\"general\">\\xec\\xa7\\x91\\xea\\xb0\\x92 \\xec\\x83\\x81\\xec\\x8a\\xb9 \\xeb\\x85\\xb8\\xeb\\xa6\\xb0 \\xed\\x88\\xac\\xea\\xb8\\xb0 \\xeb\\xb6\\x84\\xec\\x96\\x91 \\xec\\xb0\\xa8\\xeb\\x8b\\xa8</p>\\n          <p dmcf-pid=\"naDeB8j0HH\" dmcf-ptype=\"general\">LTV\\xe3\\x86\\x8dDTI \\xea\\xb7\\x9c\\xec\\xa0\\x9c \\xeb\\x8b\\xa4\\xec\\x8b\\x9c \\xea\\xb0\\x95\\xed\\x99\\x94\\xed\\x95\\xa0 \\xeb\\x93\\xaf</p>\\n          <p dmcf-pid=\"ngfl6lJwwk\" dmcf-ptype=\"general\">\\xec\\xa0\\x80\\xec\\x86\\x8c\\xeb\\x93\\x9d \\xec\\x8b\\xa4\\xec\\x88\\x98\\xec\\x9a\\x94\\xec\\x9e\\x90 \\xed\\x94\\xbc\\xed\\x95\\xb4 \\xec\\x9a\\xb0\\xeb\\xa0\\xa4\\xeb\\x8f\\x84</p>\\n          <figure class=\"figure_frm origin_fig\" dmcf-pid=\"nYQ8LWIMpD\" dmcf-ptype=\"figure\">\\n           <p class=\"link_figure\"><img class=\"thumb_g_article\" data-org-src=\"http://t1.daumcdn.net/news/201706/15/hankooki/20170615044256378kzbd.jpg\" data-org-width=\"330\" dmcf-mid=\"nkjJSoPdyb\" dmcf-mtype=\"image\" height=\"auto\" src=\"https://img1.daumcdn.net/thumb/R658x0.q70/?fname=http://t1.daumcdn.net/news/201706/15/hankooki/20170615044256378kzbd.jpg\" width=\"658\"></p>\\n          </figure>\\n          <p dmcf-pid=\"n8guDAko3Z\" dmcf-ptype=\"general\">\\xea\\xb8\\x88\\xec\\x9c\\xb5\\xeb\\x8b\\xb9\\xea\\xb5\\xad\\xec\\x9d\\xb4 \\xea\\xb8\\x89\\xec\\xa6\\x9d\\xed\\x95\\x98\\xeb\\x8a\\x94 \\xea\\xb0\\x80\\xea\\xb3\\x84\\xeb\\xb6\\x80\\xec\\xb1\\x84 \\xec\\xa6\\x9d\\xea\\xb0\\x80\\xec\\x84\\xb8\\xeb\\xa5\\xbc \\xeb\\xa7\\x89\\xea\\xb8\\xb0 \\xec\\x9c\\x84\\xed\\x95\\xb4 \\xec\\x95\\x84\\xed\\x8c\\x8c\\xed\\x8a\\xb8 \\xec\\x9e\\x94\\xea\\xb8\\x88\\xeb\\x8c\\x80\\xec\\xb6\\x9c\\xec\\x97\\x90\\xeb\\x8f\\x84 \\xec\\x86\\x8c\\xeb\\x93\\x9d\\xec\\x9d\\x84 \\xeb\\x94\\xb0\\xec\\xa0\\xb8 \\xeb\\x8c\\x80\\xec\\xb6\\x9c\\xed\\x95\\x9c\\xeb\\x8f\\x84\\xeb\\xa5\\xbc \\xec\\xa0\\x95\\xed\\x95\\x98\\xeb\\x8a\\x94 \\xec\\xb4\\x9d\\xeb\\xb6\\x80\\xec\\xb1\\x84\\xec\\x83\\x81\\xed\\x99\\x98\\xeb\\xb9\\x84\\xec\\x9c\\xa8(DTI)\\xec\\x9d\\x84 \\xec\\xa0\\x81\\xec\\x9a\\xa9\\xed\\x95\\x98\\xeb\\x8a\\x94 \\xeb\\xb0\\xa9\\xec\\x95\\x88\\xec\\x9d\\x84 \\xec\\x9c\\xa0\\xeb\\xa0\\xa5\\xed\\x95\\x98\\xea\\xb2\\x8c \\xea\\xb2\\x80\\xed\\x86\\xa0\\xed\\x95\\x98\\xea\\xb3\\xa0 \\xec\\x9e\\x88\\xeb\\x8b\\xa4. \\xec\\xa7\\x80\\xea\\xb8\\x88\\xec\\x9d\\x80 \\xec\\xa7\\x91\\xea\\xb0\\x92\\xec\\x9d\\x84 \\xea\\xb8\\xb0\\xec\\xa4\\x80\\xec\\x9c\\xbc\\xeb\\xa1\\x9c \\xeb\\x8c\\x80\\xec\\xb6\\x9c\\xed\\x95\\x9c\\xeb\\x8f\\x84\\xeb\\xa5\\xbc \\xeb\\xa7\\xa4\\xea\\xb8\\xb0\\xeb\\x8a\\x94 \\xec\\xa3\\xbc\\xed\\x83\\x9d\\xeb\\x8b\\xb4\\xeb\\xb3\\xb4\\xec\\x9d\\xb8\\xec\\xa0\\x95\\xeb\\xb9\\x84\\xec\\x9c\\xa8(LTV) \\xea\\xb7\\x9c\\xec\\xa0\\x9c\\xeb\\xa7\\x8c \\xec\\xa0\\x81\\xec\\x9a\\xa9\\xeb\\x8f\\xbc \\xec\\x86\\x8c\\xeb\\x93\\x9d\\xec\\x9d\\xb4 \\xec\\x97\\x86\\xec\\x96\\xb4\\xeb\\x8f\\x84 \\xec\\xa7\\x91\\xea\\xb0\\x92\\xec\\x9d\\x98 70%\\xeb\\xa5\\xbc \\xeb\\xb9\\x8c\\xeb\\xa0\\xa4 \\xec\\x9e\\x94\\xea\\xb8\\x88\\xec\\x9d\\x84 \\xec\\xb9\\x98\\xeb\\xa5\\xb4\\xeb\\x8a\\x94 \\xea\\xb2\\x8c \\xea\\xb0\\x80\\xeb\\x8a\\xa5\\xed\\x95\\x98\\xeb\\x8b\\xa4. \\xec\\x95\\x9e\\xec\\x9c\\xbc\\xeb\\xa1\\x9c \\xec\\x9e\\x94\\xea\\xb8\\x88\\xeb\\x8c\\x80\\xec\\xb6\\x9c\\xec\\x97\\x90 DTI\\xea\\xb0\\x80 \\xec\\xa0\\x81\\xec\\x9a\\xa9\\xeb\\x90\\x98\\xeb\\xa9\\xb4 \\xec\\x86\\x8c\\xeb\\x93\\x9d \\xec\\x97\\x86\\xeb\\x8a\\x94 \\xec\\x82\\xac\\xeb\\x9e\\x8c\\xec\\x9d\\xb4 \\xec\\x9e\\x85\\xec\\xa3\\xbc \\xeb\\x92\\xa4 \\xec\\xa7\\x91\\xea\\xb0\\x92 \\xec\\x83\\x81\\xec\\x8a\\xb9\\xec\\x9d\\x84 \\xeb\\x85\\xb8\\xeb\\xa6\\xac\\xea\\xb3\\xa0 \\xeb\\xb6\\x84\\xec\\x96\\x91\\xec\\x8b\\x9c\\xec\\x9e\\xa5\\xec\\x97\\x90 \\xeb\\x9b\\xb0\\xec\\x96\\xb4\\xeb\\x93\\x9c\\xeb\\x8a\\x94 \\xea\\xb2\\x8c \\xec\\x82\\xac\\xec\\x8b\\xa4\\xec\\x83\\x81 \\xeb\\xb6\\x88\\xea\\xb0\\x80\\xeb\\x8a\\xa5\\xed\\x95\\xb4\\xec\\xa7\\x84\\xeb\\x8b\\xa4. </p>\\n          <p dmcf-pid=\"nYPaCCRO1q\" dmcf-ptype=\"general\">\\xea\\xb8\\x88\\xec\\x9c\\xb5\\xeb\\x8b\\xb9\\xea\\xb5\\xad \\xea\\xb3\\xa0\\xec\\x9c\\x84\\xea\\xb4\\x80\\xea\\xb3\\x84\\xec\\x9e\\x90\\xeb\\x8a\\x94 15\\xec\\x9d\\xbc \\xe2\\x80\\x9c\\xec\\x9e\\x94\\xea\\xb8\\x88\\xeb\\x8c\\x80\\xec\\xb6\\x9c\\xec\\x97\\x90\\xeb\\x8f\\x84 DTI\\xeb\\xa5\\xbc \\xec\\xa0\\x81\\xec\\x9a\\xa9\\xed\\x95\\x98\\xeb\\x8a\\x94 \\xeb\\xb0\\xa9\\xec\\x95\\x88\\xec\\x9d\\x84 \\xea\\xb2\\x80\\xed\\x86\\xa0 \\xec\\xa4\\x91\\xe2\\x80\\x9d\\xec\\x9d\\xb4\\xeb\\x9d\\xbc\\xeb\\xa9\\xb0 \\xe2\\x80\\x9c\\xeb\\x8b\\xa4\\xeb\\xa7\\x8c \\xec\\x95\\x84\\xec\\xa7\\x81 \\xec\\xb5\\x9c\\xec\\xa2\\x85 \\xea\\xb2\\xb0\\xeb\\xa1\\xa0\\xec\\x9d\\xb4 \\xeb\\x82\\x9c \\xea\\xb1\\xb4 \\xec\\x95\\x84\\xeb\\x8b\\x88\\xeb\\x8b\\xa4\\xe2\\x80\\x9d\\xea\\xb3\\xa0 \\xeb\\xa7\\x90\\xed\\x96\\x88\\xeb\\x8b\\xa4. \\xec\\xa0\\x95\\xeb\\xb6\\x80\\xeb\\x8a\\x94 \\xeb\\x82\\xb4\\xec\\xa3\\xbc \\xec\\x9d\\xb4 \\xea\\xb0\\x99\\xec\\x9d\\x80 \\xeb\\x82\\xb4\\xec\\x9a\\xa9\\xec\\x9d\\x84 \\xed\\x8f\\xac\\xed\\x95\\xa8\\xed\\x95\\x9c \\xeb\\xb6\\x80\\xeb\\x8f\\x99\\xec\\x82\\xb0 \\xec\\xa2\\x85\\xed\\x95\\xa9 \\xeb\\x8c\\x80\\xec\\xb1\\x85\\xec\\x9d\\x84 \\xeb\\xb0\\x9c\\xed\\x91\\x9c\\xed\\x95\\xa0 \\xec\\x98\\x88\\xec\\xa0\\x95\\xec\\x9d\\xb4\\xeb\\x8b\\xa4. </p>\\n          <p dmcf-pid=\"naZLBbSgoZ\" dmcf-ptype=\"general\">\\xec\\xa0\\x95\\xeb\\xb6\\x80\\xea\\xb0\\x80 \\xec\\x9e\\x94\\xea\\xb8\\x88\\xeb\\x8c\\x80\\xec\\xb6\\x9c DTI \\xec\\xa0\\x81\\xec\\x9a\\xa9 \\xec\\xb9\\xb4\\xeb\\x93\\x9c\\xeb\\xa5\\xbc \\xea\\xba\\xbc\\xeb\\x82\\xb4\\xeb\\x8a\\x94 \\xea\\xb1\\xb4, \\xec\\xa7\\x91\\xeb\\x8b\\xa8\\xeb\\x8c\\x80\\xec\\xb6\\x9c\\xec\\x9d\\x84 \\xec\\x9e\\xa1\\xec\\xa7\\x80 \\xec\\x95\\x8a\\xea\\xb3\\xa0\\xec\\x84\\xa0 \\xea\\xb3\\xbc\\xec\\x97\\xb4\\xeb\\x90\\x9c \\xec\\xa3\\xbc\\xed\\x83\\x9d\\xec\\x8b\\x9c\\xec\\x9e\\xa5\\xec\\x9d\\x84 \\xec\\xa7\\x84\\xec\\xa0\\x95\\xec\\x8b\\x9c\\xed\\x82\\xa4\\xea\\xb8\\xb0 \\xec\\x96\\xb4\\xeb\\xa0\\xb5\\xeb\\x8b\\xa4\\xeb\\x8a\\x94 \\xed\\x8c\\x90\\xeb\\x8b\\xa8\\xec\\x97\\x90\\xec\\x84\\x9c\\xeb\\x8b\\xa4. \\xec\\x8b\\xa4\\xec\\xa0\\x9c \\xec\\xa0\\x95\\xeb\\xb6\\x80\\xeb\\x8a\\x94 \\xec\\xa7\\x80\\xeb\\x82\\x9c\\xed\\x95\\xb4 \\xec\\x9e\\x94\\xea\\xb8\\x88\\xeb\\x8c\\x80\\xec\\xb6\\x9c\\xeb\\x8f\\x84 \\xeb\\x8c\\x80\\xec\\xb6\\x9c \\xec\\xb4\\x88\\xea\\xb8\\xb0\\xeb\\xb6\\x80\\xed\\x84\\xb0 \\xec\\x9b\\x90\\xeb\\xa6\\xac\\xea\\xb8\\x88\\xec\\x9d\\x84 \\xed\\x95\\xa8\\xea\\xbb\\x98 \\xea\\xb0\\x9a\\xeb\\x8f\\x84\\xeb\\xa1\\x9d \\xed\\x95\\x98\\xeb\\x8a\\x94 \\xec\\x97\\xac\\xec\\x8b\\xa0\\xec\\x8b\\xac\\xec\\x82\\xac \\xea\\xb0\\x80\\xec\\x9d\\xb4\\xeb\\x93\\x9c\\xeb\\x9d\\xbc\\xec\\x9d\\xb8\\xec\\x9d\\x84 \\xeb\\x8f\\x84\\xec\\x9e\\x85\\xed\\x96\\x88\\xec\\xa7\\x80\\xeb\\xa7\\x8c \\xec\\x9d\\xb4\\xeb\\xa0\\x87\\xeb\\x8b\\xa4 \\xed\\x95\\xa0 \\xed\\x9a\\xa8\\xea\\xb3\\xbc\\xeb\\xa5\\xbc \\xea\\xb1\\xb0\\xeb\\x91\\x90\\xec\\xa7\\x80 \\xeb\\xaa\\xbb\\xed\\x96\\x88\\xeb\\x8b\\xa4. \\xec\\x98\\xa4\\xed\\x9e\\x88\\xeb\\xa0\\xa4 \\xec\\xa0\\x95\\xeb\\xb6\\x80 \\xeb\\x8c\\x80\\xec\\xb1\\x85\\xec\\x97\\x90\\xeb\\x8f\\x84 \\xeb\\xb6\\x88\\xea\\xb5\\xac, \\xec\\xa7\\x91\\xeb\\x8b\\xa8\\xeb\\x8c\\x80\\xec\\xb6\\x9c \\xec\\xa6\\x9d\\xea\\xb0\\x80\\xec\\x95\\xa1\\xec\\x9d\\x80 \\xeb\\xa7\\xa4\\xeb\\x8b\\xac \\xeb\\x8a\\x98\\xec\\x96\\xb4\\xeb\\x82\\x98\\xeb\\x8a\\x94 \\xec\\xb6\\x94\\xec\\x84\\xb8\\xec\\x9d\\xb8\\xeb\\x8d\\xb0 \\xec\\xa7\\x80\\xeb\\x82\\x9c\\xeb\\x8b\\xac\\xec\\x97\\x94 2\\xec\\xa1\\xb0\\xec\\x9b\\x90\\xec\\x9c\\xbc\\xeb\\xa1\\x9c \\xec\\x98\\xac \\xeb\\x93\\xa4\\xec\\x96\\xb4 \\xec\\xb5\\x9c\\xea\\xb3\\xa0\\xec\\xb9\\x98\\xeb\\xa5\\xbc \\xea\\xb8\\xb0\\xeb\\xa1\\x9d\\xed\\x96\\x88\\xeb\\x8b\\xa4. </p>\\n          <p dmcf-pid=\"nhAfneUtnA\" dmcf-ptype=\"general\">\\xec\\x95\\x84\\xed\\x8c\\x8c\\xed\\x8a\\xb8 \\xeb\\xb6\\x84\\xec\\x96\\x91 \\xec\\xa7\\x91\\xeb\\x8b\\xa8\\xeb\\x8c\\x80\\xec\\xb6\\x9c\\xec\\x9d\\x80 \\xec\\xa4\\x91\\xeb\\x8f\\x84\\xea\\xb8\\x88\\xea\\xb3\\xbc \\xec\\x9e\\x94\\xea\\xb8\\x88\\xeb\\x8c\\x80\\xec\\xb6\\x9c\\xeb\\xa1\\x9c \\xea\\xb5\\xac\\xeb\\xb6\\x84\\xeb\\x90\\x9c\\xeb\\x8b\\xa4. \\xea\\xb3\\x84\\xec\\x95\\xbd\\xea\\xb8\\x88 10%\\xeb\\xa5\\xbc \\xeb\\x82\\xb4\\xeb\\xa9\\xb4 \\xec\\x9e\\x85\\xec\\xa3\\xbc \\xec\\xa0\\x84\\xea\\xb9\\x8c\\xec\\xa7\\x80 \\xec\\xa7\\x91\\xea\\xb0\\x92\\xec\\x9d\\x98 60%\\xeb\\xa5\\xbc \\xec\\xa4\\x91\\xeb\\x8f\\x84\\xea\\xb8\\x88 \\xeb\\x8c\\x80\\xec\\xb6\\x9c\\xeb\\xa1\\x9c \\xeb\\xb0\\x9b\\xec\\x9d\\x84 \\xec\\x88\\x98 \\xec\\x9e\\x88\\xeb\\x8b\\xa4. \\xec\\xa4\\x91\\xeb\\x8f\\x84\\xea\\xb8\\x88 \\xeb\\x8c\\x80\\xec\\xb6\\x9c\\xec\\x9d\\x80 \\xea\\xb1\\xb4\\xec\\x84\\xa4\\xec\\x82\\xac \\xeb\\xb3\\xb4\\xec\\xa6\\x9d\\xec\\x9c\\xbc\\xeb\\xa1\\x9c \\xec\\x9d\\xb4\\xeb\\xa4\\x84\\xec\\xa0\\xb8 \\xec\\x86\\x8c\\xeb\\x93\\x9d\\xec\\x8b\\xac\\xec\\x82\\xac\\xeb\\xa5\\xbc \\xec\\x95\\x88 \\xea\\xb1\\xb0\\xec\\xb9\\x9c\\xeb\\x8b\\xa4. \\xec\\x9e\\x94\\xea\\xb8\\x88\\xeb\\x8c\\x80\\xec\\xb6\\x9c\\xec\\x9d\\x80 \\xea\\xb1\\xb4\\xec\\x84\\xa4\\xec\\x82\\xac\\xea\\xb0\\x80 \\xec\\x95\\x84\\xeb\\x8b\\x8c \\xec\\xa7\\x91\\xec\\x9d\\x84 \\xeb\\x8b\\xb4\\xeb\\xb3\\xb4\\xeb\\xa1\\x9c \\xec\\x9d\\xb4\\xeb\\xa4\\x84\\xec\\xa7\\x80\\xeb\\x8a\\x94 \\xeb\\x8c\\x80\\xec\\xb6\\x9c\\xec\\x9d\\xb4\\xeb\\x8b\\xa4. LTV \\xea\\xb7\\x9c\\xec\\xa0\\x9c\\xeb\\xa7\\x8c \\xec\\xa0\\x81\\xec\\x9a\\xa9\\xeb\\x8f\\xbc \\xec\\x86\\x8c\\xeb\\x93\\x9d\\xec\\x9d\\xb4 \\xec\\x97\\x86\\xec\\x96\\xb4\\xeb\\x8f\\x84 \\xec\\xa7\\x91\\xea\\xb0\\x92\\xec\\x9d\\x98 70%\\xea\\xb9\\x8c\\xec\\xa7\\x80 \\xeb\\x8c\\x80\\xec\\xb6\\x9c\\xec\\x9d\\xb4 \\xea\\xb0\\x80\\xeb\\x8a\\xa5\\xed\\x95\\x98\\xeb\\x8b\\xa4. \\xeb\\x95\\x8c\\xeb\\xac\\xb8\\xec\\x97\\x90 \\xec\\xa7\\x80\\xea\\xb8\\x88\\xec\\x9d\\x80 \\xec\\x9e\\x94\\xea\\xb8\\x88\\xeb\\x8c\\x80\\xec\\xb6\\x9c\\xeb\\xa1\\x9c \\xec\\xa7\\x91\\xea\\xb0\\x92\\xec\\x9d\\x98 70%\\xeb\\xa5\\xbc \\xeb\\x8c\\x80\\xec\\xb6\\x9c\\xeb\\xb0\\x9b\\xec\\x95\\x84 \\xea\\xb8\\xb0\\xec\\xa1\\xb4 \\xec\\xa4\\x91\\xeb\\x8f\\x84\\xea\\xb8\\x88 \\xeb\\x8c\\x80\\xec\\xb6\\x9c\\xec\\x9d\\x84 \\xea\\xb0\\x9a\\xea\\xb3\\xa0 \\xeb\\x82\\x98\\xeb\\xa8\\xb8\\xec\\xa7\\x80 20%\\xeb\\xa7\\x8c \\xeb\\xb3\\xb8\\xec\\x9d\\xb8 \\xeb\\x8f\\x88\\xec\\x9c\\xbc\\xeb\\xa1\\x9c \\xec\\xb6\\xa9\\xeb\\x8b\\xb9\\xed\\x95\\x98\\xeb\\xa9\\xb4 \\xec\\xa7\\x91\\xec\\x9d\\x84 \\xec\\x82\\xb4 \\xec\\x88\\x98 \\xec\\x9e\\x88\\xeb\\x8b\\xa4.</p>\\n          <p dmcf-pid=\"nCcfu6DK1b\" dmcf-ptype=\"general\">\\xec\\x95\\x9e\\xec\\x9c\\xbc\\xeb\\xa1\\x9c \\xec\\x9e\\x94\\xea\\xb8\\x88\\xeb\\x8c\\x80\\xec\\xb6\\x9c\\xec\\x97\\x90 DTI\\xea\\xb0\\x80 \\xec\\xa0\\x81\\xec\\x9a\\xa9\\xeb\\x90\\x98\\xeb\\xa9\\xb4 \\xec\\x86\\x8c\\xeb\\x93\\x9d\\xec\\x9d\\xb4 \\xec\\x97\\x86\\xeb\\x8a\\x94 \\xec\\x82\\xac\\xeb\\x9e\\x8c\\xec\\x9d\\x80 \\xec\\xa7\\x91\\xea\\xb0\\x92\\xec\\x9d\\x98 70% \\xeb\\x8c\\x80\\xec\\xb6\\x9c \\xeb\\xb0\\x9b\\xeb\\x8a\\x94 \\xea\\xb2\\x8c \\xec\\x96\\xb4\\xeb\\xa0\\xa4\\xec\\x9b\\x8c\\xec\\xa7\\x84\\xeb\\x8b\\xa4. \\xec\\x9e\\x85\\xec\\xa3\\xbc \\xeb\\x92\\xa4 \\xec\\xa7\\x91\\xea\\xb0\\x92 \\xec\\x83\\x81\\xec\\x8a\\xb9\\xec\\x9d\\x84 \\xeb\\x85\\xb8\\xeb\\xa6\\xac\\xeb\\x8a\\x94 \\xed\\x88\\xac\\xea\\xb8\\xb0\\xec\\x88\\x98\\xec\\x9a\\x94\\xeb\\xa5\\xbc \\xed\\x99\\x95\\xec\\x8b\\xa4\\xed\\x9e\\x88 \\xea\\xb1\\xb8\\xeb\\x9f\\xac\\xeb\\x82\\xbc \\xec\\xb4\\x88\\xea\\xb0\\x95\\xeb\\xa0\\xa5 \\xeb\\x8c\\x80\\xec\\xb1\\x85\\xec\\x9d\\xb4 \\xeb\\x90\\xa0 \\xec\\x88\\x98 \\xec\\x9e\\x88\\xeb\\x8b\\xa4. \\xed\\x95\\x98\\xec\\xa7\\x80\\xeb\\xa7\\x8c \\xeb\\xb6\\x80\\xec\\x9e\\x91\\xec\\x9a\\xa9\\xeb\\x8f\\x84 \\xec\\x9a\\xb0\\xeb\\xa0\\xa4\\xeb\\x90\\x9c\\xeb\\x8b\\xa4. \\xec\\x86\\x8c\\xeb\\x93\\x9d\\xec\\x9d\\xb4 \\xeb\\x82\\xae\\xec\\x9d\\x80 \\xec\\x82\\xac\\xed\\x9a\\x8c\\xec\\xb4\\x88\\xeb\\x85\\x84\\xec\\x83\\x9d \\xeb\\x93\\xb1\\xec\\x9d\\x80 \\xec\\xb2\\xad\\xec\\x95\\xbd\\xed\\x86\\xb5\\xec\\x9e\\xa5\\xec\\x9d\\x84 \\xea\\xb0\\x96\\xea\\xb3\\xa0\\xeb\\x8f\\x84 \\xeb\\xb6\\x84\\xec\\x96\\x91\\xec\\x8b\\x9c\\xec\\x9e\\xa5\\xec\\x97\\x90 \\xec\\xa7\\x84\\xec\\x9e\\x85\\xed\\x95\\x98\\xeb\\x8a\\x94 \\xea\\xb2\\x8c \\xec\\x96\\xb4\\xeb\\xa0\\xa4\\xec\\x9b\\x8c\\xec\\xa7\\x80\\xea\\xb8\\xb0 \\xeb\\x95\\x8c\\xeb\\xac\\xb8\\xec\\x9d\\xb4\\xeb\\x8b\\xa4. </p>\\n          <p dmcf-pid=\"nzh7QZekII\" dmcf-ptype=\"general\">\\xec\\x9d\\xb4\\xec\\x97\\x90 \\xeb\\x94\\xb0\\xeb\\x9d\\xbc \\xec\\x9e\\x94\\xea\\xb8\\x88\\xeb\\x8c\\x80\\xec\\xb6\\x9c\\xec\\x97\\x90 DTI\\xeb\\xa5\\xbc \\xec\\xa0\\x81\\xec\\x9a\\xa9\\xed\\x95\\x98\\xeb\\x8a\\x94 \\xea\\xb2\\x83 \\xec\\x97\\xad\\xec\\x8b\\x9c \\xec\\xa7\\x80\\xec\\x97\\xad \\xeb\\x93\\xb1\\xec\\x97\\x90 \\xeb\\x94\\xb0\\xeb\\x9d\\xbc \\xec\\x84\\xa0\\xeb\\xb3\\x84\\xec\\xa0\\x81\\xec\\x9c\\xbc\\xeb\\xa1\\x9c \\xec\\x9d\\xb4\\xeb\\xa4\\x84\\xec\\xa7\\x88 \\xea\\xb0\\x80\\xeb\\x8a\\xa5\\xec\\x84\\xb1\\xec\\x9d\\xb4 \\xeb\\x86\\x92\\xeb\\x8b\\xa4. \\xed\\x98\\x84\\xec\\x9e\\xac \\xeb\\x8b\\xb9\\xea\\xb5\\xad\\xec\\x9d\\x80 \\xec\\x8b\\xa0\\xea\\xb7\\x9c \\xeb\\xb6\\x84\\xec\\x96\\x91 \\xeb\\xac\\xbc\\xeb\\x9f\\x89\\xeb\\xb6\\x80\\xed\\x84\\xb0 \\xea\\xb7\\x9c\\xec\\xa0\\x9c\\xeb\\xa5\\xbc \\xec\\xa0\\x81\\xec\\x9a\\xa9\\xed\\x95\\xa0\\xec\\xa7\\x80 \\xec\\x95\\x84\\xeb\\x8b\\x88\\xeb\\xa9\\xb4 \\xea\\xb8\\xb0\\xec\\xa1\\xb4 \\xeb\\xb6\\x84\\xec\\x96\\x91 \\xeb\\xac\\xbc\\xeb\\x9f\\x89\\xea\\xb9\\x8c\\xec\\xa7\\x80 \\xea\\xb7\\x9c\\xec\\xa0\\x9c \\xeb\\xb2\\x94\\xec\\x9c\\x84\\xeb\\xa5\\xbc \\xed\\x99\\x95\\xeb\\x8c\\x80\\xed\\x95\\xa0\\xec\\xa7\\x80\\xeb\\xa5\\xbc \\xeb\\x86\\x93\\xea\\xb3\\xa0 \\xec\\x8b\\x9c\\xeb\\xae\\xac\\xeb\\xa0\\x88\\xec\\x9d\\xb4\\xec\\x85\\x98\\xec\\x9d\\x84 \\xed\\x95\\x98\\xea\\xb3\\xa0 \\xec\\x9e\\x88\\xeb\\x8b\\xa4. </p>\\n          <p dmcf-pid=\"nihh22vlmu\" dmcf-ptype=\"general\">\\xec\\x95\\x84\\xec\\x9a\\xb8\\xeb\\x9f\\xac \\xeb\\x8b\\xb9\\xea\\xb5\\xad\\xec\\x9d\\x80 \\xec\\xa7\\x80\\xeb\\x82\\x9c 2\\xeb\\x85\\x84\\xea\\xb0\\x84 \\xec\\x99\\x84\\xed\\x99\\x94\\xeb\\x90\\x90\\xeb\\x8d\\x98 LTV\\xec\\x99\\x80 DTI\\xeb\\xa5\\xbc \\xeb\\x8b\\xa4\\xec\\x8b\\x9c \\xea\\xb0\\x95\\xed\\x99\\x94\\xed\\x95\\xa0 \\xea\\xb2\\x83\\xec\\x9c\\xbc\\xeb\\xa1\\x9c \\xeb\\xb3\\xb4\\xec\\x9d\\xb8\\xeb\\x8b\\xa4. \\xed\\x98\\x84\\xec\\x9e\\xac LTV(\\xec\\x9d\\x80\\xed\\x96\\x89 \\xea\\xb8\\xb0\\xec\\xa4\\x80)\\xeb\\x8a\\x94 \\xea\\xb8\\xb0\\xec\\xa1\\xb4 50~60%\\xec\\x97\\x90\\xec\\x84\\x9c 70%, DTI\\xeb\\x8a\\x94 50~60%\\xec\\x97\\x90\\xec\\x84\\x9c 60%\\xeb\\xa1\\x9c \\xec\\x99\\x84\\xed\\x99\\x94\\xeb\\x8f\\xbc \\xec\\x9e\\x88\\xeb\\x8a\\x94 \\xec\\x83\\x81\\xed\\x83\\x9c\\xeb\\x8b\\xa4. \\xeb\\x8b\\xb9\\xea\\xb5\\xad\\xec\\x9d\\x80 \\xec\\x9d\\xbc\\xea\\xb4\\x84\\xec\\xa0\\x81\\xec\\x9d\\xb8 \\xec\\xa1\\xb0\\xec\\x9d\\xb4\\xea\\xb8\\xb0\\xeb\\xb3\\xb4\\xeb\\x8b\\xa4 \\xec\\xa7\\x80\\xec\\x97\\xad\\xe3\\x86\\x8d\\xec\\xa7\\x91\\xea\\xb0\\x92 \\xec\\x88\\x98\\xec\\xa4\\x80\\xeb\\xb3\\x84\\xeb\\xa1\\x9c \\xea\\xb8\\xb0\\xec\\xa4\\x80\\xec\\x9d\\x84 \\xeb\\x8b\\xa4\\xeb\\xa5\\xb4\\xea\\xb2\\x8c \\xec\\xa0\\x81\\xec\\x9a\\xa9\\xed\\x95\\x98\\xeb\\x8a\\x94 \\xeb\\xb0\\xa9\\xec\\x8b\\x9d\\xec\\x9d\\x84 \\xeb\\xaa\\xa8\\xec\\x83\\x89\\xed\\x95\\xa0 \\xea\\xb2\\x83\\xec\\x9c\\xbc\\xeb\\xa1\\x9c \\xeb\\xb3\\xb4\\xec\\x9d\\xb8\\xeb\\x8b\\xa4.</p>\\n          <p dmcf-pid=\"naJ5HNfuMQ\" dmcf-ptype=\"general\">\\xea\\xb9\\x80\\xeb\\x8f\\x99\\xec\\x9a\\xb1 \\xea\\xb8\\xb0\\xec\\x9e\\x90 kdw1280@hankookilbo.com</p>\\n         </section> \\n         <p data-translation=\"true\">\\xe2\\x93\\x92\\xed\\x95\\x9c\\xea\\xb5\\xad\\xec\\x9d\\xbc\\xeb\\xb3\\xb4 www.hankookilbo.com (\\xeb\\xac\\xb4\\xeb\\x8b\\xa8\\xeb\\xb3\\xb5\\xec\\xa0\\x9c \\xeb\\xb0\\x8f \\xec\\xa0\\x84\\xec\\x9e\\xac, \\xec\\x9e\\xac\\xeb\\xb0\\xb0\\xed\\x8f\\xac\\xeb\\xa5\\xbc \\xea\\xb8\\x88\\xec\\xa7\\x80\\xed\\x95\\xa9\\xeb\\x8b\\x88\\xeb\\x8b\\xa4)</p> \\n        </div> \\n       </div>  \\n      </div> \\n      <div class=\"foot_view\" data-cloud-area=\"addition\"> \\n       <div class=\"emotion_wrap\" data-cloud=\"alex_action_emotion\"> \\n        <div class=\"emotion_tit\"> <strong class=\"tit_emotion\">\\xec\\x9d\\xb4 \\xea\\xb8\\xb0\\xec\\x82\\xac\\xec\\x97\\x90 \\xeb\\x8c\\x80\\xed\\x95\\xb4 \\xec\\x96\\xb4\\xeb\\x96\\xbb\\xea\\xb2\\x8c \\xec\\x83\\x9d\\xea\\xb0\\x81\\xed\\x95\\x98\\xec\\x8b\\x9c\\xeb\\x82\\x98\\xec\\x9a\\x94?</strong> \\n        </div> \\n        <div class=\"emotion_list\"> \\n         <div class=\"alex-action\" data-selections=\"RECOMMEND,LIKE,IMPRESS,ANGRY,SAD\" data-client-id=\"26BXAvKny5WF5Z09lr5k77Y8\" data-item-key=\"20170615203441266\" data-action-mode=\"REACTION\" data-on-select-animation-type=\"EXPAND\" data-message-channel=\"alex-action-reactions\"> \\n         </div> \\n        </div> \\n       </div>  \\n       <div class=\"relate_series hide\" data-cloud=\"pc_news_cluster\"> <strong class=\"tit_series\"> <em class=\"tag_series\">\\xec\\x97\\xb0\\xec\\x9e\\xac</em> <span class=\"title_series\"></span> </strong> \\n        <ul class=\"list_series\"></ul> <a href=\"#none\" class=\"link_more\">\\xeb\\x8d\\x94\\xeb\\xb3\\xb4\\xea\\xb8\\xb0</a> \\n       </div>   \\n       <div class=\"cp_view\" data-cloud=\"pc_related_news\"> \\n        <div class=\"cp_tit\"> \\n         <h3 class=\"tit_cp\">\\xed\\x95\\x9c\\xea\\xb5\\xad\\xec\\x9d\\xbc\\xeb\\xb3\\xb4 \\xec\\xa3\\xbc\\xec\\x9a\\x94 \\xeb\\x89\\xb4\\xec\\x8a\\xa4</h3> \\n         <p class=\"info_cp\">\\xed\\x95\\xb4\\xeb\\x8b\\xb9 \\xec\\x96\\xb8\\xeb\\xa1\\xa0\\xec\\x82\\xac\\xeb\\xa1\\x9c \\xec\\x97\\xb0\\xea\\xb2\\xb0\\xeb\\x90\\xa9\\xeb\\x8b\\x88\\xeb\\x8b\\xa4.</p> \\n        </div> \\n        <ul class=\"list_relate\"> \\n         <li><a href=\"http://www.hankookilbo.com/v/801b1cc777e5438f9aa8107a27ec29e1\" title=\"[36.5\\xc2\\xb0] \\xec\\x9a\\x95\\xed\\x95\\x98\\xeb\\xa9\\xb4\\xec\\x84\\x9c \\xeb\\x8b\\xae\\xeb\\x8a\\x94 \\xea\\xb2\\x83\\xeb\\x8f\\x84 \\xec\\xa0\\x81\\xed\\x8f\\x90\\xeb\\x8b\\xa4\" class=\"link_txt\" target=\"_blank\" data-type=\"related\">[36.5\\xc2\\xb0] \\xec\\x9a\\x95\\xed\\x95\\x98\\xeb\\xa9\\xb4\\xec\\x84\\x9c \\xeb\\x8b\\xae\\xeb\\x8a\\x94 \\xea\\xb2\\x83\\xeb\\x8f\\x84 \\xec\\xa0\\x81\\xed\\x8f\\x90\\xeb\\x8b\\xa4</a></li> \\n         <li><a href=\"http://www.hankookilbo.com/v/211ec3b6e3f441e394a0710975399045\" title=\"\\xec\\x8b\\xa4\\xec\\xa0\\x9c\\xec\\x99\\x80 \\xeb\\x84\\x88\\xeb\\xac\\xb4 \\xeb\\x8b\\xa4\\xeb\\xa5\\xb8 \\'\\xec\\x84\\x9c\\xec\\x9a\\xb8\\xeb\\xa1\\x9c 7017\\' \\xed\\x99\\x8d\\xeb\\xb3\\xb4 \\xec\\x9d\\xb4\\xeb\\xaf\\xb8\\xec\\xa7\\x80\" class=\"link_txt\" target=\"_blank\" data-type=\"related\">\\xec\\x8b\\xa4\\xec\\xa0\\x9c\\xec\\x99\\x80 \\xeb\\x84\\x88\\xeb\\xac\\xb4 \\xeb\\x8b\\xa4\\xeb\\xa5\\xb8 \\'\\xec\\x84\\x9c\\xec\\x9a\\xb8\\xeb\\xa1\\x9c 7017\\' \\xed\\x99\\x8d\\xeb\\xb3\\xb4 \\xec\\x9d\\xb4\\xeb\\xaf\\xb8\\xec\\xa7\\x80</a></li> \\n         <li><a href=\"http://www.hankookilbo.com/v/04b5627be58645dfa7960e16a4624b22\" title=\"[\\xec\\x98\\x81\\xec\\x83\\x81] \\xeb\\x8f\\x99\\xea\\xb5\\xad\\xeb\\x8c\\x80.\\xec\\xb6\\xa9\\xeb\\xac\\xb4\\xeb\\xa1\\x9c\\xec\\x97\\x90\\xec\\x84\\x9c \\xec\\x9d\\xb8\\xea\\xb8\\xb0 \\xec\\x9e\\x88\\xeb\\x8a\\x94 \\xeb\\xa7\\x9b\\xec\\xa7\\x91 BEST 5\" class=\"link_txt\" target=\"_blank\" data-type=\"related\">[\\xec\\x98\\x81\\xec\\x83\\x81] \\xeb\\x8f\\x99\\xea\\xb5\\xad\\xeb\\x8c\\x80.\\xec\\xb6\\xa9\\xeb\\xac\\xb4\\xeb\\xa1\\x9c\\xec\\x97\\x90\\xec\\x84\\x9c \\xec\\x9d\\xb8\\xea\\xb8\\xb0 \\xec\\x9e\\x88\\xeb\\x8a\\x94 \\xeb\\xa7\\x9b\\xec\\xa7\\x91 BEST 5</a></li> \\n         <li><a href=\"http://www.hankookilbo.com/v/dae59b9e0adfd851dae59b9e0adfd851\" title=\"\\xea\\xb3\\xb5\\xec\\x8a\\xb9\\xec\\x97\\xb0 &quot;\\xec\\x97\\xac\\xec\\xa7\\x84\\xea\\xb5\\xac \\xec\\x98\\xa4\\xeb\\xb9\\xa0 \\xea\\xb0\\x99\\xec\\x95\\x84..\\xec\\x9e\\x98\\xec\\x83\\x9d\\xea\\xb8\\xb0\\xeb\\xa9\\xb4 \\xec\\x98\\xa4\\xeb\\xb9\\xa0&quot;\" class=\"link_txt\" target=\"_blank\" data-type=\"related\">\\xea\\xb3\\xb5\\xec\\x8a\\xb9\\xec\\x97\\xb0 \"\\xec\\x97\\xac\\xec\\xa7\\x84\\xea\\xb5\\xac \\xec\\x98\\xa4\\xeb\\xb9\\xa0 \\xea\\xb0\\x99\\xec\\x95\\x84..\\xec\\x9e\\x98\\xec\\x83\\x9d\\xea\\xb8\\xb0\\xeb\\xa9\\xb4 \\xec\\x98\\xa4\\xeb\\xb9\\xa0\"</a></li> \\n         <li><a href=\"http://www.hankookilbo.com/v/6162946d032e4b53909f80f78ef9b69c\" title=\"\\xec\\xa7\\x80\\xeb\\x93\\x9c\\xeb\\x9e\\x98\\xea\\xb3\\xa4 &quot;\\xeb\\xad\\x90\\xea\\xb0\\x80 \\xeb\\xac\\xb8\\xec\\xa0\\x9c\\xec\\xa3\\xa0?&quot;.. USB \\xec\\x9d\\x8c\\xeb\\xb0\\x98 \\xeb\\x85\\xbc\\xeb\\x9e\\x80 \\xec\\x9d\\xbc\\xea\\xb2\\xa9\" class=\"link_txt\" target=\"_blank\" data-type=\"related\">\\xec\\xa7\\x80\\xeb\\x93\\x9c\\xeb\\x9e\\x98\\xea\\xb3\\xa4 \"\\xeb\\xad\\x90\\xea\\xb0\\x80 \\xeb\\xac\\xb8\\xec\\xa0\\x9c\\xec\\xa3\\xa0?\".. USB \\xec\\x9d\\x8c\\xeb\\xb0\\x98 \\xeb\\x85\\xbc\\xeb\\x9e\\x80 \\xec\\x9d\\xbc\\xea\\xb2\\xa9</a></li> \\n        </ul> \\n       </div> \\n       <div id=\"alex-scroll-area\" data-cloud=\"pc_article_bottom_ad\"></div> \\n       <ins class=\"kakao_ad_area recomm_ad\" style=\"display:block; width: 658px; text-decoration: none; min-width: 658px;\" data-ad-unit=\"DAN-1jezdswwiit7q\" data-ad-width=\"658\" data-ad-height=\"90\" data-ad-onfail=\"cmRenderFailCallBack\" data-cloud=\"pc_article_bottom_ad\"> </ins>  \\n       <div class=\"cmt_news cmt_view\" data-cloud=\"pc_comment\"> \\n        <div id=\"newsviewNotice\" class=\"news_notice\"></div>  \\n        <div id=\"alex-area\" class=\"alex-area\" data-base-url=\"//comment.daum.net\" data-post-id=\"@20170615203441266\" data-client-id=\"26BXAvKny5WF5Z09lr5k77Y8\" data-kakao-appkey=\"9076ba452fea1a434141d6b6a2c11a3c\" data-initial-limit=\"3\" data-page-limit=\"10\" data-sort=\"P\" data-use-my=\"true\" data-max-length=\"300\" data-use-reply=\"true\" data-use-official=\"true\" data-use-emoticon=\"true\" data-use-social-share=\"true\" data-use-attachment=\"false\" data-is-mobile=\"false\" data-show-mask-alert=\"true\" data-use-live-comment-mode=\"notify\" data-use-fold=\"true\" data-use-skin=\"newsView\" data-use-safebot=\"true\"> \\n        </div>    \\n       </div> \\n      </div> \\n     </div> \\n     <div id=\"mAside\" data-cloud-area=\"aside\"> \\n      <ins style=\"display:block;width:250px;height:250px;\" class=\"kakao_ad_area aside_g aside_ad\" data-ad-unit=\"05d24\" data-ad-type=\"D\" data-ad-width=\"250\" data-ad-height=\"250\" data-cloud=\"pc_aside_top_ad\"> </ins> \\n      <div class=\"aside_g aside_popular hide\" data-cloud=\"pc_popular_news\"> \\n       <h3 class=\"txt_newsview\">\\xeb\\xa7\\x8e\\xec\\x9d\\xb4\\xeb\\xb3\\xb8 \\xeb\\x89\\xb4\\xec\\x8a\\xa4</h3> \\n       <ul class=\"tab_aside tab_media\"> \\n        <li class=\"on\"> <a href=\"#none\" class=\"link_tab link_tab2\">\\xeb\\x89\\xb4\\xec\\x8a\\xa4</a> </li> \\n        <li class=\"\"> <a href=\"#none\" class=\"link_tab link_tab3\">\\xec\\x97\\xb0\\xec\\x98\\x88</a> </li> \\n        <li class=\"\"> <a href=\"#none\" class=\"link_tab link_tab4\">\\xec\\x8a\\xa4\\xed\\x8f\\xac\\xec\\xb8\\xa0</a> </li> \\n       </ul> \\n      </div>  \\n      <div class=\"aside_g aside_phototv hide\" data-cloud=\"pc_news_photo_tv\"> \\n       <h3 class=\"txt_newsview\">\\xed\\x8f\\xac\\xed\\x86\\xa0&amp;TV</h3> \\n       <div class=\"cont_aside\"> \\n        <ul class=\"list_phototv\"></ul> \\n       </div> \\n      </div>  \\n      <ins style=\"display:block;width:250px;height:250px;\" class=\"kakao_ad_area aside_g aside_ad\" data-ad-unit=\"0QH44\" data-ad-type=\"D\" data-ad-width=\"250\" data-ad-height=\"250\" data-cloud=\"pc_aside_bottom_ad\"> </ins> \\n     </div> \\n    </div> \\n    <div id=\"cEtc\"> \\n     <div class=\"realtime_view\"> \\n      <div class=\"inner_realtime\"> \\n       <div data-cloud-area=\"etc\"> \\n        <div class=\"realtime_news\" data-cloud=\"pc_realtime_news\"> \\n         <h3 class=\"txt_newsview\">\\xec\\x9d\\xb4 \\xec\\x8b\\x9c\\xea\\xb0\\x81 \\xec\\xb6\\x94\\xec\\xb2\\x9c\\xeb\\x89\\xb4\\xec\\x8a\\xa4</h3> \\n         <ul class=\"list_realtime\"> \\n          <li class=\"item_main item_realtime_news\"></li> \\n          <li class=\"item_main item_realtime_news\"></li> \\n          <li class=\"item_realtime_news\"></li> \\n          <li class=\"item_realtime_news\"></li> \\n          <li class=\"item_realtime_news\"></li> \\n          <li class=\"item_realtime_news\"></li> \\n          <li class=\"item_realtime_news\"></li> \\n          <li class=\"item_realtime_news\"></li> \\n          <li class=\"item_realtime_news\"></li> \\n          <li class=\"item_realtime_news\"></li> \\n          <li class=\"item_realtime_news\"></li> \\n          <li class=\"item_realtime_news\"></li> \\n         </ul> \\n        </div>  \\n       </div> \\n       <div class=\"realtime_aside\" id=\"realtime_aside\" data-cloud-area=\"etc-aside\"> \\n        <ins class=\"kakao_ad_area etc_bottom_ad\" style=\"display: block; width: 100%;\" data-ad-unit=\"DAN-kQxraZPBvpl52CWq\" data-ad-width=\"250\" data-ad-height=\"250\" data-ad-onfail=\"onFailEtcBottomAd\" data-cloud=\"pc_etc_bottom_ad\"> </ins>  \\n       </div> \\n      </div> \\n     </div> \\n     <div data-cloud-area=\"etc-addition\"> \\n     </div> \\n    </div> \\n   </div> \\n   <hr class=\"hide\"> \\n   <div class=\"footer_comm\" id=\"kakaoFoot\" role=\"contentinfo\" data-cloud-area=\"footer\"> \\n    <div class=\"inner_foot\" data-cloud=\"pc_footer\"> \\n     <div class=\"direct_link\"> \\n      <h2 class=\"tit_direct\">\\xeb\\xb0\\x94\\xeb\\xa1\\x9c\\xea\\xb0\\x80\\xea\\xb8\\xb0</h2> \\n      <div class=\"item_bundle\"> <a class=\"link_txt\" href=\"https://news.daum.net/\">\\xeb\\x89\\xb4\\xec\\x8a\\xa4\\xed\\x99\\x88</a> <a class=\"link_txt\" href=\"https://news.daum.net/society/\">\\xec\\x82\\xac\\xed\\x9a\\x8c</a> <a class=\"link_txt\" href=\"https://news.daum.net/politics/\">\\xec\\xa0\\x95\\xec\\xb9\\x98</a> <a class=\"link_txt\" href=\"https://news.daum.net/economic/\">\\xea\\xb2\\xbd\\xec\\xa0\\x9c</a> <a class=\"link_txt\" href=\"https://news.daum.net/foreign/\">\\xea\\xb5\\xad\\xec\\xa0\\x9c</a> <a class=\"link_txt\" href=\"https://news.daum.net/culture/\">\\xeb\\xac\\xb8\\xed\\x99\\x94</a> <a class=\"link_txt\" href=\"https://news.daum.net/digital/\">IT</a> <a class=\"link_txt\" href=\"https://news.daum.net/photo/\">\\xed\\x8f\\xac\\xed\\x86\\xa0</a> <a class=\"link_txt\" href=\"https://news.daum.net/tv/\">TV</a> \\n      </div> \\n      <div class=\"item_bundle\"> <a class=\"link_txt\" href=\"https://news.daum.net/cp\">\\xec\\x96\\xb8\\xeb\\xa1\\xa0\\xec\\x82\\xac\\xeb\\xb3\\x84 \\xeb\\x89\\xb4\\xec\\x8a\\xa4</a> \\n      </div> \\n      <div class=\"item_bundle\"> <a class=\"link_txt\" href=\"https://news.daum.net/newsbox\">\\xeb\\xb0\\xb0\\xec\\x97\\xb4\\xec\\x9d\\xb4\\xeb\\xa0\\xa5</a> \\n      </div> \\n      <div class=\"item_bundle\"> <a class=\"link_txt\" href=\"https://news.daum.net/breakingnews\">\\xec\\xa0\\x84\\xec\\xb2\\xb4\\xeb\\x89\\xb4\\xec\\x8a\\xa4</a> <a class=\"link_txt\" href=\"https://news.daum.net/ranking/popular\">\\xeb\\x9e\\xad\\xed\\x82\\xb9</a> <a class=\"link_txt\" href=\"https://news.daum.net/series\">\\xec\\x97\\xb0\\xec\\x9e\\xac</a> <a class=\"link_txt\" href=\"https://news.daum.net/1boon\">1boon</a> \\n      </div> <button class=\"btn_fold\" type=\"button\"><span class=\"ico_news\">\\xeb\\xb0\\x94\\xeb\\xa1\\x9c\\xea\\xb0\\x80\\xea\\xb8\\xb0 \\xeb\\xa7\\x81\\xed\\x81\\xac \\xeb\\x8d\\x94\\xeb\\xb3\\xb4\\xea\\xb8\\xb0/\\xec\\xa0\\x91\\xea\\xb8\\xb0</span></button> \\n     </div> \\n     <h2 class=\"screen_out\">\\xec\\x84\\x9c\\xeb\\xb9\\x84\\xec\\x8a\\xa4 \\xec\\x9d\\xb4\\xec\\x9a\\xa9\\xec\\xa0\\x95\\xeb\\xb3\\xb4</h2> \\n     <div class=\"footer_link\"> <a class=\"link_info\" href=\"https://news.daum.net/info/intro\">\\xeb\\x8b\\xa4\\xec\\x9d\\x8c\\xeb\\x89\\xb4\\xec\\x8a\\xa4 \\xec\\x86\\x8c\\xea\\xb0\\x9c</a> <span class=\"txt_dot\"> \\xe3\\x83\\xbb </span> <a class=\"link_info\" href=\"https://news.daum.net/notice\">\\xea\\xb3\\xb5\\xec\\xa7\\x80\\xec\\x82\\xac\\xed\\x95\\xad</a> <span class=\"txt_dot\"> \\xe3\\x83\\xbb </span> <a class=\"link_info\" href=\"https://news.daum.net/info/bbsrule\">\\xea\\xb2\\x8c\\xec\\x8b\\x9c\\xeb\\xac\\xbc \\xec\\x9a\\xb4\\xec\\x98\\x81\\xec\\x9b\\x90\\xec\\xb9\\x99</a> <span class=\"txt_dot\"> \\xe3\\x83\\xbb </span> <a class=\"link_info\" href=\"https://policy.daum.net/info/info\">\\xec\\x84\\x9c\\xeb\\xb9\\x84\\xec\\x8a\\xa4 \\xec\\x95\\xbd\\xea\\xb4\\x80/\\xec\\xa0\\x95\\xec\\xb1\\x85</a> <span class=\"txt_dot\"> \\xe3\\x83\\xbb </span> <a class=\"link_info\" href=\"https://with.kakao.com/media\">\\xeb\\x89\\xb4\\xec\\x8a\\xa4\\xec\\xa0\\x9c\\xed\\x9c\\xb4</a> <span class=\"txt_dot\"> \\xe3\\x83\\xbb </span> <a class=\"link_info\" href=\"https://business.kakao.com/\">\\xeb\\xb9\\x84\\xec\\xa6\\x88\\xeb\\x8b\\x88\\xec\\x8a\\xa4</a> <span class=\"txt_dot\"> \\xe3\\x83\\xbb </span> <a class=\"link_info\" href=\"https://cs.daum.net/redbell/top.html\">\\xea\\xb6\\x8c\\xeb\\xa6\\xac\\xec\\xb9\\xa8\\xed\\x95\\xb4\\xec\\x8b\\xa0\\xea\\xb3\\xa0</a> <span class=\"txt_dot\"> \\xe3\\x83\\xbb </span> <a class=\"link_info\" href=\"https://cs.daum.net/faq/63.html\">\\xeb\\x8b\\xa4\\xec\\x9d\\x8c\\xeb\\x89\\xb4\\xec\\x8a\\xa4 \\xea\\xb3\\xa0\\xea\\xb0\\x9d\\xec\\x84\\xbc\\xed\\x84\\xb0</a> \\n     </div> \\n     <div class=\"footer_link\"> <a class=\"link_info\" href=\"https://news.daum.net/info/newscenter24\">24\\xec\\x8b\\x9c\\xea\\xb0\\x84 \\xeb\\x89\\xb4\\xec\\x8a\\xa4\\xec\\x84\\xbc\\xed\\x84\\xb0</a> <span class=\"txt_dot\"> \\xe3\\x83\\xbb </span> <a class=\"link_info\" href=\"https://news.daum.net/info/edit\">\\xec\\x84\\x9c\\xeb\\xb9\\x84\\xec\\x8a\\xa4\\xec\\x9b\\x90\\xec\\xb9\\x99</a> <span class=\"txt_dot\"> \\xe3\\x83\\xbb </span> <a class=\"link_info\" href=\"https://news.daum.net/info/correct\">\\xeb\\xb0\\x94\\xeb\\xa1\\x9c\\xec\\x9e\\xa1\\xec\\x8a\\xb5\\xeb\\x8b\\x88\\xeb\\x8b\\xa4</a> <span class=\"txt_dot\"> \\xe3\\x83\\xbb </span> <span class=\"link_info\">\\xea\\xb8\\xb0\\xec\\x82\\xac\\xeb\\xb0\\xb0\\xec\\x97\\xb4\\xec\\xb1\\x85\\xec\\x9e\\x84\\xec\\x9e\\x90 : \\xea\\xb9\\x80\\xed\\x9d\\xac\\xec\\xa0\\x95</span> <span class=\"txt_dot\"> \\xe3\\x83\\xbb </span> <span class=\"link_info\">\\xec\\xb2\\xad\\xec\\x86\\x8c\\xeb\\x85\\x84\\xeb\\xb3\\xb4\\xed\\x98\\xb8\\xec\\xb1\\x85\\xec\\x9e\\x84\\xec\\x9e\\x90 : \\xec\\x9d\\xb4\\xec\\xa4\\x80\\xeb\\xaa\\xa9</span> \\n     </div> \\n     <div class=\"info_copyright\"> <strong class=\"info_warn\">\\xec\\x9c\\x84 \\xeb\\x82\\xb4\\xec\\x9a\\xa9\\xec\\x97\\x90 \\xeb\\x8c\\x80\\xed\\x95\\x9c \\xec\\xa0\\x80\\xec\\x9e\\x91\\xea\\xb6\\x8c \\xeb\\xb0\\x8f \\xeb\\xb2\\x95\\xec\\xa0\\x81 \\xec\\xb1\\x85\\xec\\x9e\\x84\\xec\\x9d\\x80 \\xec\\x9e\\x90\\xeb\\xa3\\x8c\\xec\\xa0\\x9c\\xea\\xb3\\xb5\\xec\\x82\\xac \\xeb\\x98\\x90\\xeb\\x8a\\x94 <br>\\xea\\xb8\\x80\\xec\\x93\\xb4\\xec\\x9d\\xb4\\xec\\x97\\x90 \\xec\\x9e\\x88\\xec\\x9c\\xbc\\xeb\\xa9\\xb0, Kakao\\xec\\x9d\\x98 \\xec\\x9e\\x85\\xec\\x9e\\xa5\\xea\\xb3\\xbc \\xeb\\x8b\\xa4\\xeb\\xa5\\xbc \\xec\\x88\\x98 \\xec\\x9e\\x88\\xec\\x8a\\xb5\\xeb\\x8b\\x88\\xeb\\x8b\\xa4.</strong> <small class=\"txt_copyright\">Copyright \\xc2\\xa9 <strong class=\"txt_kakao\"><a href=\"https://www.kakaocorp.com\" class=\"link_kakao\">Kakao Corp.</a></strong> All rights reserved.</small> \\n     </div> \\n    </div>   \\n   </div> <samp data-cloud-area=\"util\">           </samp> \\n  </div>  \\n  <script src=\"//t1.daumcdn.net/harmony_static/cloud/2021/05/03/vendor.39958ce6937d202010c7.js\"></script>\\n  <script src=\"//t1.daumcdn.net/harmony_static/cloud/2021/05/03/common.4fa0ea63845693bada8b.js\"></script>\\n  <script src=\"//t1.daumcdn.net/kas/static/ba.min.js\"></script>\\n  <script src=\"//t1.daumcdn.net/kas/static/na.min.js\"></script>\\n  <script src=\"//m1.daumcdn.net/svc/original/U03/cssjs/userAgent/userAgent-1.0.12.min.js\"></script>\\n  <script>\"use strict\";function _classCallCheck(e,t){if(!(e instanceof t))throw new TypeError(\"Cannot call a class as a function\")}function _defineProperties(e,t){for(var a=0;a<t.length;a++){var n=t[a];n.enumerable=n.enumerable||!1,n.configurable=!0,\"value\"in n&&(n.writable=!0),Object.defineProperty(e,n.key,n)}}function _createClass(e,t,a){return t&&_defineProperties(e.prototype,t),a&&_defineProperties(e,a),e}!(function(){var a=\"<li>\\\\n <a href=\\\\\"https://search.daum.net/search?nil_suggest=btn&amp;w=tot&amp;DA=SBC&amp;q=<%= specialRegionName %>%20\\xeb\\x82\\xa0\\xec\\x94\\xa8\\\\\" class=\\\\\"link_cont\\\\\">\\\\n <span class=\\\\\"ico_weather ico_weather<%= weatherIconCode %>\\\\\"><%= specialRegionName %></span> \\\\n <span class=\\\\\"txt_weather\\\\\"><%= specialRegionName %>\\\\n <span class=\\\\\"num_heat\\\\\"><%= temperature %></span> \\\\n <span class=\\\\\"txt_heat\\\\\">\\xe2\\x84\\x83</span>\\\\n </span>\\\\n </a>\\\\n </li>\",t=document.querySelector(\\'.gnb_weather\\'),n=t.querySelector(\\'ul\\'),e=\"\".concat(Conf.api.hadesRest,\"/pc_weather\");axios.get(e).then(function(e){var t=e.data.body.data,e=t.isNightIconYn,t=t.weatherData;n.dataset.nightyn=e,n.innerHTML=t.map(function(e){return _.template(a)(e)}).join(\\'\\');new s(n)}).catch(function(e){t.parentNode.removeChild(t)});var s=(function(){function t(e){_classCallCheck(this,t),this.PAUSE_TIME=4e3,this.TRANSITION_TIME=500,this.list=e,this.frameId=null,this.pause=this.pause.bind(this),this.start=this.start.bind(this),this.moveUp=this.moveUp.bind(this),this.init(),this.start(),this.list.style.marginTop=\\'0px\\'}return _createClass(t,[{key:\"start\",value:function(){this.frameId=setInterval(this.moveUp,this.PAUSE_TIME)}},{key:\"pause\",value:function(){clearInterval(this.frameId)}},{key:\"moveUp\",value:function(){var e=this.list,t=e.firstElementChild.cloneNode(!0);e.classList.add(\\'slidein\\'),e.style.marginTop=\\'-30px\\',setTimeout(function(){e.classList.remove(\\'slidein\\'),e.style.marginTop=\\'0px\\',e.removeChild(e.firstElementChild),e.appendChild(t)},this.TRANSITION_TIME)}},{key:\"init\",value:function(){var t=this,e=this.list;e.addEventListener(\\'mouseenter\\',this.pause),e.addEventListener(\\'mouseleave\\',this.start),e.querySelectorAll(\\'a\\').forEach(function(e){e.addEventListener(\\'focus\\',t.pause),e.addEventListener(\\'blur\\',t.start)})}}]),t})()})();</script>\\n  <script>\"use strict\";!(function(){var e=-1<\\'\\'.indexOf(\\'tv_news\\')?\\'tv\\':\\'economic\\',t=document.querySelector(\\'.gnb_comm\\');(t=e&&t.querySelector(\".\".concat(e)))&&t.setAttribute(\\'class\\',\"\".concat(e,\" on\"))})();</script>\\n  <script src=\"https://t1.daumcdn.net/cssjs/jquery/jquery-1.9.0.min.js\"></script>\\n  <script src=\"https://search1.daumcdn.net/search/suggest_pc/suggest-1.2.16.min.js\"></script>\\n  <script>\"use strict\";!(function(){document.getElementById(\\'search_news\\'),new suggest.Suggest(document.getElementById(\"search_news\"),{inputEl:\\'qVal\\',suggestBoxEl:\\'suggestBox\\',autoFocus:\\'NORMAL\\',suggestLimit:10,isReverse:!1,searchURL:\\'https://search.daum.net/search\\',APIServer:{host:\\'//dapi.kakao.com/suggest/v2/pc.json\\',apiType:suggest.Suggest.APITYPE.DAPISUGGEST,appkey:\\'d7022f6ca2a04430ce1b97b922da58e8\\',queries:{mod:\\'json\\',code:\\'utf_in_out\\'}}}).on(\\'click-item\\',function(){var e=document.getElementById(\\'kakaoSearch\\');e.querySelector(\"input[name=\\'DA\\']\").value=\\'23B\\',e.submit()});var t=document.getElementById(\\'qVal\\');t.addEventListener?(t.addEventListener(\\'focus\\',function(e){e&&e.preventDefault(),0<=t.value.length&&t.parentNode.classList.add(\\'search_on\\')}),t.addEventListener(\\'blur\\',function(e){e&&e.preventDefault(),0===t.value.length&&t.parentNode.classList.remove(\\'search_on\\')})):(t.attachEvent(\\'onfocus\\',function(e){e&&(e.preventDefault?e.preventDefault():e.returnValue=!1),0<=t.value.length&&t.parentNode.setAttribute(\\'class\\',\\'box_searchbar search_on\\')}),t.attachEvent(\\'onblur\\',function(e){e&&(e.preventDefault?e.preventDefault():e.returnValue=!1),0===t.value.length&&t.parentNode.setAttribute(\\'class\\',\\'box_searchbar\\')}))})(jQuery);</script>\\n  <script src=\"//t1.daumcdn.net/daumtop_deco/socialshare/socialshare_nocss_pc-2.4.2.js\"></script>\\n  <script>\"use strict\";!(function(){var t=document.querySelector(\\'.util_summary\\'),r=t.querySelector(\\'.btn_summary\\'),e=t.querySelectorAll(\".layer_summary p\"),n=!1;function i(){t.classList.remove(\\'layer_open\\'),r.setAttribute(\\'aria-expanded\\',!1)}function a(e){if(e.target===r||e.target===r.children[0])return!1;i(),window.removeEventListener(\\'click\\',a)}e.forEach(function(e){return e.classList.add(\"desc_news\")}),r.addEventListener(\\'click\\',function(e){(n=!n)?(t.classList.add(\\'layer_open\\'),r.setAttribute(\\'aria-expanded\\',!0),window.addEventListener(\\'click\\',a)):i()}),r.addEventListener(\\'blur\\',function(e){n=!1,i()})})();</script>\\n  <script>\"use strict\";function _slicedToArray(e,t){return _arrayWithHoles(e)||_iterableToArrayLimit(e,t)||_unsupportedIterableToArray(e,t)||_nonIterableRest()}function _nonIterableRest(){throw new TypeError(\"Invalid attempt to destructure non-iterable instance.\\\\nIn order to be iterable, non-array objects must have a [Symbol.iterator]() method.\")}function _unsupportedIterableToArray(e,t){if(e){if(\"string\"==typeof e)return _arrayLikeToArray(e,t);var n=Object.prototype.toString.call(e).slice(8,-1);return\"Object\"===n&&e.constructor&&(n=e.constructor.name),\"Map\"===n||\"Set\"===n?Array.from(e):\"Arguments\"===n||/^(?:Ui|I)nt(?:8|16|32)(?:Clamped)?Array$/.test(n)?_arrayLikeToArray(e,t):void 0}}function _arrayLikeToArray(e,t){(null==t||t>e.length)&&(t=e.length);for(var n=0,r=new Array(t);n<t;n++)r[n]=e[n];return r}function _iterableToArrayLimit(e,t){if(\"undefined\"!=typeof Symbol&&Symbol.iterator in Object(e)){var n=[],r=!0,o=!1,a=void 0;try{for(var i,s=e[Symbol.iterator]();!(r=(i=s.next()).done)&&(n.push(i.value),!t||n.length!==t);r=!0);}catch(e){o=!0,a=e}finally{try{r||null==s[\"return\"]||s[\"return\"]()}finally{if(o)throw a}}return n}}function _arrayWithHoles(e){if(Array.isArray(e))return e}!(function(){var t,e,n,r,o,a=\\'VIEW_TTS\\',i=\\'v.daum.net\\',s={slow_Male:\\'http://k-v1.kakaocdn.net/dn/NOgW7/btqgKWvtqGv/CQTdjDUR8uSGZXdMgPZ7A1/original.m4a\\',normal_Male:\\'http://k-v1.kakaocdn.net/dn/cXPoNE/btqgLdpZ1XH/0kIcLNoARmcaqkhk2SHU4K/original.m4a\\',fast_Male:\\'http://k-v1.kakaocdn.net/dn/b66M8d/btqgLjKgomG/D2ix5CwksQaIhaKc9AfHL1/original.m4a\\',slow_Female:\\'http://k-v1.kakaocdn.net/dn/9mKZv/btqgLi5D021/JsjWeBVKUi4p9QRJq2yB40/original.m4a\\',normal_Female:\\'http://k-v1.kakaocdn.net/dn/l2fEG/btqgLdXP5vd/SuJrPdCJIMDyKW75c5vnk1/original.m4a\\',fast_Female:\\'http://k-v1.kakaocdn.net/dn/bn9fI7/btqgLkColIa/XkhP2boJTxpSGpaZ0Nnsjk/original.m4a\\'},l=document.querySelector(\\'.util_view .tts_btn\\'),c=l.querySelectorAll(\\'.list_tts input\\'),u=l.querySelector(\\'.btn_tts\\'),d=l.querySelector(\\'.ico_speak\\'),y=l.querySelector(\\'.wrap_setlayer\\').querySelectorAll(\\'.ico_newsview\\'),f=l.querySelector(\\'#ttsPlayer\\');function m(){var e,t,n,r,o=(e=l.querySelector(\\'input[name=ttsSpeed]:checked\\').value,t=l.querySelector(\\'input[name=ttsGender]:checked\\').value,\"\".concat(e,\"_\").concat(t));f.setAttribute(\\'src\\',s[o]),n=o,Cookies.set(a,\\'\\',{expires:-1}),Cookies.set(a,n,{domain:i,expires:new Date(1*new Date+365*864e5)}),r=o,u.className=\\'btn_set btn_tts #util #tts #p_\\'+r}function p(e){\\'playOptions\\'==e?(m(),f.load(),f.play(),d.textContent=\\'\\xec\\x9d\\x8c\\xec\\x84\\xb1 \\xea\\xb8\\xb0\\xec\\x82\\xac \\xec\\xa0\\x95\\xec\\xa7\\x80\\'):\\'play\\'==e?(f.load(),f.play(),d.textContent=\\'\\xec\\x9d\\x8c\\xec\\x84\\xb1 \\xea\\xb8\\xb0\\xec\\x82\\xac \\xec\\xa0\\x95\\xec\\xa7\\x80\\'):(f[e](),d.textContent=\\'\\xec\\x9d\\x8c\\xec\\x84\\xb1 \\xea\\xb8\\xb0\\xec\\x82\\xac \\xeb\\x93\\xa3\\xea\\xb8\\xb0\\')}function v(){clearTimeout(n),t.classList.add(\\'layer_open\\'),e.setAttribute(\\'aria-expanded\\',!0)}function _(){r||(n=setTimeout(b,100))}function b(){t.classList.remove(\\'layer_open\\'),e.setAttribute(\\'aria-expanded\\',!1)}function L(e){e?t.classList.add(\\'on\\'):t.classList.remove(\\'on\\')}function h(e,t){document.getElementById(\"ttsSpeed\".concat(e)).checked=!0,document.getElementById(\"ttsGender\".concat(t)).checked=!0}t=(o={layer:l,btn:u,radios:c}).layer,e=o.btn,o=o.radios,r=!(n=0),t.addEventListener(\\'mouseover\\',function(e){r=!0,v()}),t.addEventListener(\\'mouseleave\\',function(e){r=!1,_()}),e.addEventListener(\\'keydown\\',function(e){13===e.keyCode&&((r=!r)?v:b)()}),t.addEventListener(\\'blur\\',function(e){r=!1,_()}),e.addEventListener(\\'click\\',function(e){f.paused?(L(!0),p(\\'play\\')):(L(!1),p(\\'pause\\'))}),o.forEach(function(e){e.addEventListener(\\'change\\',function(e){t.classList.add(\\'on\\'),p(\\'playOptions\\')}),e.addEventListener(\\'blur\\',function(e){r=!1,_()}),e.addEventListener(\\'focus\\',function(e){r=!0,v()})}),y=(o={icons:y,radios:c}).icons,c=o.radios,y.forEach(function(e){e.addEventListener(\\'mouseover\\',function(e){this.classList.add(\\'ico_focused\\')}),e.addEventListener(\\'mouseleave\\',function(e){this.classList.remove(\\'ico_focused\\')})}),c.forEach(function(e){e.addEventListener(\\'focus\\',function(e){this.nextElementSibling.querySelector(\\'span\\').classList.add(\\'ico_focused\\')}),e.addEventListener(\\'blur\\',function(e){this.nextElementSibling.querySelector(\\'span\\').classList.remove(\\'ico_focused\\')})}),f.addEventListener(\\'ended\\',function(e){l.classList.remove(\\'on\\')}),void 0===(o=Cookies.get(a))||o.includes(\\'undefined\\')?h(\\'Normal\\',\\'Male\\'):(c=(y=_slicedToArray(o.split(\\'_\\'),2))[0],y=y[1],h(c=(o=c).charAt(0).toUpperCase()+o.slice(1),y)),m()})();</script>\\n  <script>\"use strict\";!(function(){var n=document.createElement(\\'DIV\\');n.innerHTML=\"\\\\n <div id=\\\\\"translatingLayer\\\\\" class=\\\\\"translate_layer\\\\\">\\\\n <div class=\\\\\"inner_translate_layer\\\\\">\\\\n <div class=\\\\\"layer_body\\\\\">\\\\n <strong class=\\\\\"tit_translate\\\\\">\\\\n \\xeb\\xb2\\x88\\xec\\x97\\xad\\xec\\xa4\\x91 <span class=\\\\\"eng_tit\\\\\">Now in translation</span>\\\\n </strong>\\\\n </div>\\\\n </div>\\\\n </div>\\\\n\\\\n <div id=\\\\\"translateErrorLayer\\\\\" class=\\\\\"translate_layer\\\\\">\\\\n <div class=\\\\\"inner_translate_layer inner_error_layer\\\\\">\\\\n <div class=\\\\\"layer_body\\\\\">\\\\n <span class=\\\\\"ico_newsview ico_error\\\\\"></span>\\\\n <strong class=\\\\\"tit_translate\\\\\">\\\\n \\xec\\x9e\\xa0\\xec\\x8b\\x9c \\xed\\x9b\\x84 \\xeb\\x8b\\xa4\\xec\\x8b\\x9c \\xec\\x8b\\x9c\\xeb\\x8f\\x84\\xed\\x95\\xb4 \\xec\\xa3\\xbc\\xec\\x84\\xb8\\xec\\x9a\\x94 <span class=\\\\\"eng_tit\\\\\">Please try again in a moment</span>\\\\n </strong>\\\\n </div>\\\\n </div>\\\\n </div>\\\\n \",document.body.querySelector(\"#kakaoWrap\").appendChild(n)})();</script>\\n  <script>\"use strict\";function _toConsumableArray(e){return _arrayWithoutHoles(e)||_iterableToArray(e)||_unsupportedIterableToArray(e)||_nonIterableSpread()}function _nonIterableSpread(){throw new TypeError(\"Invalid attempt to spread non-iterable instance.\\\\nIn order to be iterable, non-array objects must have a [Symbol.iterator]() method.\")}function _unsupportedIterableToArray(e,t){if(e){if(\"string\"==typeof e)return _arrayLikeToArray(e,t);var n=Object.prototype.toString.call(e).slice(8,-1);return\"Object\"===n&&e.constructor&&(n=e.constructor.name),\"Map\"===n||\"Set\"===n?Array.from(e):\"Arguments\"===n||/^(?:Ui|I)nt(?:8|16|32)(?:Clamped)?Array$/.test(n)?_arrayLikeToArray(e,t):void 0}}function _iterableToArray(e){if(\"undefined\"!=typeof Symbol&&Symbol.iterator in Object(e))return Array.from(e)}function _arrayWithoutHoles(e){if(Array.isArray(e))return _arrayLikeToArray(e)}function _arrayLikeToArray(e,t){(null==t||t>e.length)&&(t=e.length);for(var n=0,r=new Array(t);n<t;n++)r[n]=e[n];return r}!(function(){var e,t,n,r,a=document.querySelector(\\'.translate_btn\\'),o=a.querySelector(\\'.btn_translate\\'),l=a.querySelector(\\'.link_kakaoi\\'),s=a.querySelectorAll(\\'.btn_lang\\'),i=document.getElementById(\\'translatingLayer\\'),c=document.getElementById(\\'translateErrorLayer\\'),y=document.getElementById(\\'kakaoWrap\\');function u(){i.style.display=\\'none\\',c.style.display=\\'none\\',document.body.style.overflow=\\'\\'}function d(){clearTimeout(e),t.classList.add(\\'layer_open\\'),n.setAttribute(\\'aria-expanded\\',!0)}function f(){t.classList.remove(\\'layer_open\\'),n.setAttribute(\\'aria-expanded\\',!1)}function p(){r||(e=setTimeout(f,1))}function m(e){var t=e.currentTarget.name;u(),i.style.display=\\'block\\',document.body.style.overflow=\\'hidden\\';try{HarmonyTranslator.translate(\\'kr\\',t,_,b)}catch(e){console.error(\\'\\xeb\\xb2\\x88\\xec\\x97\\xad \\xec\\x97\\x90\\xeb\\x9f\\xac:\\',e)}}function _(e){var t=document.querySelector(\\'#translateNotice\\'),e=e.targetLang;switch(e){case\\'en\\':case\\'id\\':y.classList.add(\\'lang_type1\\'),y.classList.remove(\\'lang_type2\\'),y.classList.remove(\\'lang_type3\\');break;case\\'cn\\':case\\'jp\\':y.classList.remove(\\'lang_type1\\'),y.classList.add(\\'lang_type2\\'),y.classList.remove(\\'lang_type3\\');break;case\\'vi\\':y.classList.remove(\\'lang_type1\\'),y.classList.remove(\\'lang_type2\\'),y.classList.add(\\'lang_type3\\');break;default:y.classList.remove(\\'lang_type1\\'),y.classList.remove(\\'lang_type2\\'),y.classList.remove(\\'lang_type3\\')}\\'kr\\'==e?(t.querySelectorAll(\\'.notice_lang\\').forEach(function(e){e.style.display=\\'none\\'}),t.style.display=\\'none\\'):(t.querySelectorAll(\".notice_lang:not(.notice_lang_\".concat(e,\")\")).forEach(function(e){e.style.display=\\'none\\'}),t.querySelector(\".notice_lang.notice_lang_\".concat(e)).style.display=\\'block\\',t.style.display=\\'block\\'),setTimeout(function(){u()},500)}function b(e,t){u(),c.style.display=\\'block\\',document.body.style.overflow=\\'hidden\\',setTimeout(function(){u()},2e3)}l={layer:a,btn:o,inputs:[l].concat(_toConsumableArray(s))},t=l.layer,n=l.btn,l=l.inputs,r=!1,n.addEventListener(\\'click\\',function(){((r=!r)?d:p)()}),t.addEventListener(\\'mouseover\\',function(){r=!0,d()}),t.addEventListener(\\'mouseleave\\',function(){r=!1,f()}),l.forEach(function(e){e.addEventListener(\\'focus\\',function(e){r=!0,d()}),e.addEventListener(\\'blur\\',function(e){r=!1,p()})}),s.forEach(function(e){e.addEventListener(\\'click\\',m)})})();</script>\\n  <script>\"use strict\";!(function(){var e,t=(o=\\'\\xec\\x9e\\x94\\xea\\xb8\\x88\\xeb\\x8c\\x80\\xec\\xb6\\x9c\\xec\\x97\\x90\\xeb\\x8f\\x84 DTI \\xea\\xb7\\x9c\\xec\\xa0\\x9c \\xec\\xa0\\x81\\xec\\x9a\\xa9 \\xea\\xb2\\x80\\xed\\x86\\xa0\\',(c=document.createElement(\\'div\\')).innerHTML=o,c.textContent),a=\\'20170615203441266\\'||\\'nkhSoinQsa\\',n=\"\".concat(location.protocol,\"//\").concat(location.host,\"/v/\").concat(a),o=\"http://scrap.cafe.daum.net/_dss_/scrap?folder_id=100000&source_location_code=10&target_location_code=1&data_id=\".concat(a),c={shareType:\\'sendScrap\\',shareData:{requestUrl:n,templateId:7952,installTalk:!0,templateArgs:{\\'${EncodingUrl}\\':encodeURIComponent(n),\\'${webUrl}\\':n+\\'?f=p\\',\\'${mobileWebUrl}\\':n+\\'?f=m\\'}}},r=document.querySelector(\\'.share_btn\\'),i=document.getElementById(\\'rSocialShareButton\\'),a=document.getElementById(\\'rSocialShareLayerContainer\\'),d=new socialshareRenewal.Main(i,{moreViewContainer:a,action:\\'hover\\',link:n,prefix:t,service_name:\\'\\xeb\\x8b\\xa4\\xec\\x9d\\x8c\\xeb\\x89\\xb4\\xec\\x8a\\xa4\\',cafe:o,kakaoAPI:{appkey:\\'53e566aa17534bc816eb1b5d8f7415ee\\',kakaoLinkData:c}}),s=!1;function l(){e=setTimeout(function(){s=!1,r.classList.remove(\\'layer_open\\'),i.setAttribute(\\'aria-expanded\\',!1),d.close()},100)}function u(){s=!0,m(),r.classList.add(\\'layer_open\\'),i.setAttribute(\\'aria-expanded\\',!0),d.open()}function m(){clearTimeout(e)}i.addEventListener(\\'mouseenter\\',u),i.addEventListener(\\'mouseleave\\',l),i.addEventListener(\\'click\\',function(e){(s?l:u)()}),a.addEventListener(\\'mouseenter\\',m),a.addEventListener(\\'mouseleave\\',l),a.querySelectorAll(\\'a\\').forEach(function(e){e.addEventListener(\\'focus\\',m),e.addEventListener(\\'blur\\',l)})})();</script>\\n  <script>\"use strict\";!(function(){var e,t,n,o,i=document.querySelector(\\'.news_view\\'),s=document.querySelector(\\'.font_btn\\'),c=s.querySelector(\\'.btn_font\\'),r=s.querySelector(\\'.list_font\\'),u=r.querySelectorAll(\\'input\\'),a=\\'GS_font_size\\',l=\\'v.daum.net\\';function d(e){i.style.fontSize=\"\".concat(e,\"px\"),document.querySelector(\"#inpFont\".concat(e)).checked=!0,r.querySelectorAll(\\'label\\').forEach(function(e){return e.classList.remove(\\'on\\')}),r.querySelector(\"label[for=inpFont\".concat(e,\"]\")).classList.add(\\'on\\'),e=e,Cookies.set(a,\\'\\',{expires:-1}),Cookies.set(a,e,{domain:l,expires:new Date(1*new Date+365*864e5)})}function f(){clearTimeout(e),t.classList.add(\\'layer_open\\'),n.setAttribute(\\'aria-expanded\\',!0)}function v(){t.classList.remove(\\'layer_open\\'),n.setAttribute(\\'aria-expanded\\',!1)}function p(){o&&(e=setTimeout(v,1))}d(Cookies.get(a)||17),u.forEach(function(e){e.addEventListener(\\'change\\',function(e){d(e.target.value)})}),t=(c={layer:s,btn:c,inputs:u}).layer,n=c.btn,c=c.inputs,o=!1,t.addEventListener(\\'mouseover\\',function(){o=!0,f()}),t.addEventListener(\\'mouseleave\\',function(){o=!1,v()}),c.forEach(function(e){e.addEventListener(\\'focus\\',f),e.addEventListener(\\'blur\\',p)}),n.addEventListener(\\'click\\',function(e){((o=!o)?f:v)()}),s={options:s.querySelectorAll(\\'.ico_newsview\\'),inputs:u},u=s.options,s=s.inputs,u.forEach(function(e){e.addEventListener(\\'mouseover\\',function(){this.classList.add(\\'ico_focused\\')}),e.addEventListener(\\'mouseleave\\',function(){this.classList.remove(\\'ico_focused\\')})}),s.forEach(function(e){e.addEventListener(\\'focus\\',function(){this.nextElementSibling.querySelector(\\'span\\').classList.add(\\'ico_focused\\')}),e.addEventListener(\\'blur\\',function(){this.nextElementSibling.querySelector(\\'span\\').classList.remove(\\'ico_focused\\')})})})();</script>\\n  <script>\"use strict\";document.body.querySelector(\".btn_print\").parentNode.addEventListener(\"click\",function(t){t.preventDefault(),window.open(\\'https://news.v.daum.net/v/20170615203441266?s=print_news\\',\\'newsPrint\\',\\'width=750,height=550,scrollbars=yes\\')});</script>\\n  <script type=\"text/javascript\" src=\"//comment.daum.net/js/latest/alex.action.min.js\"></script>\\n  <script>\"use strict\";!(function(){var s=\"20170615203441266\",e=\"\".concat(Conf.api.hadesRest,\"/pc_mc2_news?cate=\").concat(\"news\",\"&id=\").concat(s),a=\\'<li class=\"on\"> <div class=\"inner_box\"><span class=\"link_txt\"><%= title %></span></div> </li>\\',i=\\'<li> <div class=\"inner_box\"><a href=\"https://news.v.daum.net/v/<%= contentId %>\" class=\"link_txt\"><%= title %></a></div> </li>\\',c=\\'//news.daum.net/series\\',r=document.querySelector(\\'.relate_series\\'),o=r.querySelector(\\'.title_series\\'),d=r.querySelector(\\'.link_more\\'),l=r.querySelector(\\'.list_series\\');function m(e){e&&e.parentNode.removeChild(e)}axios.get(e).then(function(e){var t,n=e.data.body.data.data;_.isEmpty(n)||\\'series\\'!==n[0].factor.type?m(r):(t=n[0],e=t.contents,n=t._id,t=t.title,e.length<3&&l.classList.add(\\'relate_series2\\'),o.textContent=t,d.setAttribute(\\'href\\',c+\\'/\\'+n),l.innerHTML=e.map(function(e){var t=e.contentId,e=e.title;return t==s?_.template(a)({title:e}):_.template(i)({contentId:t,title:e})}).join(\\'\\'),(e=r)&&e.classList.remove(\\'hide\\'))}).catch(function(e){console.error(\"[\\xed\\x81\\xb4\\xeb\\x9f\\xac\\xec\\x8a\\xa4\\xed\\x84\\xb0]: \\xeb\\x8d\\xb0\\xec\\x9d\\xb4\\xed\\x84\\xb0\\xeb\\xa5\\xbc \\xea\\xb0\\x80\\xec\\xa0\\xb8\\xec\\x98\\xa4\\xeb\\x8a\\x94\\xeb\\x8d\\xb0 \\xec\\x8b\\xa4\\xed\\x8c\\xa8\\xed\\x96\\x88\\xec\\x8a\\xb5\\xeb\\x8b\\x88\\xeb\\x8b\\xa4. \\xec\\x97\\x90\\xeb\\x9f\\xac: \",e,\"\\xec\\x97\\x90\\xeb\\x9f\\xac \\xeb\\x8d\\xb0\\xec\\x9d\\xb4\\xed\\x84\\xb0: \",e.response.data),m(r)})})();</script>\\n  <script>\"use strict\";function cmRenderFailCallBack(e){e.parentElement.removeChild(e)}</script>\\n  <script>\"use strict\";document.addEventListener(\\'DOMContentLoaded\\',function(){var t=\"\".concat(Conf.api.hadesRest)+\"/service_notice?id=\"+\"3393\",n=document.querySelector(\"#newsviewNotice\");axios.get(t).then(function(t){var e=t.data.body.data,t=e.noticeTitle,e=e.noticeUrl;null!==t?n.innerHTML=\"<strong class=\\\\\"tit_notice\\\\\">\\xea\\xb3\\xb5\\xec\\xa7\\x80</strong><span class=\\\\\"txt_notice\\\\\"><a href=\\\\\"\".concat(e,\"\\\\\" class=\\\\\"link_txt\\\\\">\").concat(t,\"</a></span>\"):n.parentNode.removeChild(n)}).catch(function(t){console.log(\"\\xeb\\x8c\\x93\\xea\\xb8\\x80 \\xea\\xb3\\xb5\\xec\\xa7\\x80 \\xec\\x98\\xa4\\xeb\\xa5\\x98: \"+t),n.parentNode.removeChild(n)})});</script>\\n  <script src=\"//comment.daum.net/js/latest/alex.single.min.js\"></script>\\n  <script>\"use strict\";window.excludeCorejs=!1,window.alexConfig={label:{emptyImage:\\'//i1.daumcdn.net/img-section/enter2013/liveviewer/pc_emot_co.gif\\'},onLoad:function(){window.isLoadComment=!0}};</script>\\n  <script>\"use strict\";!(function(){var t,n,a=document.querySelector(\\'.aside_popular\\'),e=document.querySelectorAll(\".tab_aside li a\"),i={\"\\xeb\\x89\\xb4\\xec\\x8a\\xa4\":\"news\",\"\\xec\\x97\\xb0\\xec\\x98\\x88\":\"entertain\",\"\\xec\\x8a\\xa4\\xed\\x8f\\xac\\xec\\xb8\\xa0\":\"sports\"},c={news:{el:e[0],korName:\"\\xeb\\x89\\xb4\\xec\\x8a\\xa4\",moreLink:\"https://news.daum.net/ranking/popular/all\"},entertain:{el:e[1],korName:\"\\xec\\x97\\xb0\\xec\\x98\\x88\",moreLink:\"https://entertain.daum.net/ranking/popular\"},sports:{el:e[2],korName:\"\\xec\\x8a\\xa4\\xed\\x8f\\xac\\xec\\xb8\\xa0\",moreLink:\"https://sports.daum.net/news/ranking\"}},r=c[\"news\"].el,l=1;function s(n){var e;r!==n&&((e=r.parentNode.querySelector(\".cont_aside\"))&&e.parentNode.removeChild(e),r.parentNode.classList.remove(\"on\"),n.parentNode.classList.add(\"on\"),l=1,o(n),r=n)}function o(n){var e=n.innerText,t=i[e],a=c[t].moreLink,s=document.createElement(\"div\"),t=d(t);function o(){var n=document.querySelector(\".cont_aside .list_ranking\"),e=r.innerText,e=i[e];l=this.classList.contains(\"btn_prev\")?1===l?3:l-1:3===l?1:l+1,n.innerHTML=d(e)}s.classList.add(\"cont_aside\"),s.innerHTML=\"\\\\n <strong class=\\\\\"screen_out\\\\\">\".concat(e,\"</strong>\\\\n <ol class=\\\\\"list_ranking\\\\\">\\\\n \").concat(t,\" \\\\n </ol>\\\\n <div class=\\\\\"util_aside\\\\\">\\\\n <button class=\\\\\"btn_slide btn_prev\\\\\"><span class=\\\\\"ico_newsview\\\\\">\\xec\\x9d\\xb4\\xec\\xa0\\x84</span></button>\\\\n <button class=\\\\\"btn_slide btn_next\\\\\"><span class=\\\\\"ico_newsview\\\\\">\\xeb\\x8b\\xa4\\xec\\x9d\\x8c</span></button>\\\\n <a href=\").concat(a,\" class=\\\\\"link_all\\\\\"><span class=\\\\\"txt_newsview\\\\\">\\xec\\xa0\\x84\\xec\\xb2\\xb4 \\xeb\\xb3\\xb4\\xea\\xb8\\xb0</span><span class=\\\\\"ico_newsview\\\\\"></span></a>\\\\n </div>\\\\n \"),n.parentNode.appendChild(s),s.querySelector(\".btn_prev\").addEventListener(\\'click\\',o),s.querySelector(\".btn_next\").addEventListener(\\'click\\',o)}function d(n){return c[n].contents.slice(10*(l-1),10*l).map(function(n){return\"\\\\n <li>\\\\n <em class=\\\\\"num_newsview num\".concat(n.index,\"\\\\\">\").concat(n.index,\"\\xec\\x9c\\x84</em>\\\\n <strong class=\\\\\"tit_g\\\\\"><a href=\\\\\"\").concat(n.pcLink,\"\\\\\" class=\\\\\"link_txt @\").concat(n.index,\"\\\\\">\").concat(n.title,\"</a></strong>\\\\n </li>\\\\n \")}).join(\\'\\')}t=c,n=\"\".concat(Conf.api.hadesRest,\"/pc_popular_news?size=30\"),axios.get(n).then(function(n){var e=n.data.body.data;Object.keys(e).forEach(function(n){t[n].contents=e[n]}),o(r),a.classList.remove(\\'hide\\')}).catch(function(n){a.parentNode.removeChild(a)}),e.forEach(function(n){n.addEventListener(\"mouseover\",function(n){return s(n.target)}),n.addEventListener(\"focus\",function(n){return s(n.target)})})})();</script>\\n  <script>\"use strict\";!(function(){var t=\"<li>\\\\n <a class=\\\\\"link_cont\\\\\" href=\\\\\"<%= url %>\\\\\">\\\\n <span class=\\\\\"wrap_thumb\\\\\">\\\\n <img class=\\\\\"thumb_g\\\\\" src=\\\\\"<%= thumbnail %>\\\\\" alt=\\\\\"\\\\\"/>\\\\n <span class=\\\\\"ico_phototv\\\\\">\\\\n <% if (type == \\'photo\\') { %>\\\\n <span class=\\\\\"ico_newsview ico_photo\\\\\">\\xed\\x8f\\xac\\xed\\x86\\xa0</span>\\\\n <% } else { %>\\\\n <span class=\\\\\"ico_newsview ico_vod\\\\\">\\xec\\x98\\x81\\xec\\x83\\x81</span>\\\\n <% } %>\\\\n </span>\\\\n </span>\\\\n <strong class=\\\\\"tit_thumb\\\\\"><%= title %></strong>\\\\n </a>\\\\n </li>\",o=document.querySelector(\\'.aside_phototv\\'),s=o.querySelector(\\'.list_phototv\\'),n=\"\".concat(Conf.api.hadesRest,\"/pc_photo_tv\");function a(n){n&&n.parentNode.removeChild(n)}axios.get(n).then(function(n){n=n.data.body.data;_.isEmpty(n)?a(o):(s.innerHTML=n.map(function(n){return _.template(t)(n)}).join(\\'\\'),(n=o)&&n.classList.remove(\\'hide\\'))}).catch(function(n){console.error(\\'[PC \\xeb\\x89\\xb4\\xec\\x8a\\xa4 \\xed\\x8f\\xac\\xed\\x86\\xa0&TV]:\\',n),a(o)})})();</script>\\n  <script>\"use strict\";!(function(){var n=\\'S570x320\\',e=\"20170615203441266\",t=encodeURIComponent(JSON.stringify({itemid:e,category:\"news\".replace(\\'tain\\',\\'\\')})),e={source:e},r=\"<a href=\\\\\"<%=obj.url%>\\\\\" class=\\\\\"link_cont\\\\\" data-itemid=\\\\\"<%=obj._id%>\\\\\"\\\\\" data-pos=\\\\\"<%=obj.pos%>\\\\\">\\\\n <span class=\\\\\"wrap_thumb\\\\\"><img src=\\\\\"<%=obj.thumbnail%>\\\\\" class=\\\\\"thumb_g\\\\\" alt=\\\\\"\\\\\"></span>\\\\n <strong class=\\\\\"tit_thumb\\\\\"><%=obj.title%></strong>\\\\n </a>\",o=\"<strong class=\\\\\"tit_g\\\\\">\\\\n <span class=\\\\\"info_news\\\\\"><%=obj.cp_name%></span>\\\\n <a href=\\\\\"<%=obj.url%>\\\\\" data-itemid=\\\\\"<%=obj._id%>\\\\\" data-pos=\\\\\"<%=obj.pos%>\\\\\" class=\\\\\"link_txt\\\\\"><%=obj.title%></a>\\\\n </strong>\",m=[];new Toros.Connector({url:\\'mediadaum/most_similar\\',queryParams:t,map:function(e){var t=e._id,a=e.title,i=e.image,e=e.cp_name,e={_id:t,url:\"https://v.daum.net/v/\".concat(t),title:a,thumbnail:StringUtil.makeThumbnail(i,n),cp_name:e};if(!(m.length<2&&i))return e;m.push(e)},svc:\\'mediadaum_sim\\',impLabel:\\'toros_mediadaum_sim_imp\\',impProps:e,viewLabel:\\'toros_mediadaum_sim_vimp\\',viewProps:e,clickLabel:\\'toros_mediadaum_sim_click\\',clickProps:e,customRender:function(e,i,n){var s=e.filter(function(e){return!!e._id});m.length<2||s.length<10?document.querySelector(\\'.realtime_news\\').remove():document.querySelectorAll(\\'.item_realtime_news\\').forEach(function(e,t){var a=t<2?{article:m.shift(),template:r}:{article:s.shift(),template:o},t=a.article,a=a.template;t?(e.insertAdjacentHTML(\\'beforeend\\',_.template(a)(t)),e.classList.remove(\\'item_realtime_news\\'),e.classList.length||e.removeAttribute(\\'class\\'),t=e.querySelector(\\'a\\'),i.observe(t),t.addEventListener(\\'click\\',n)):e.remove()})}}).render()})();</script>\\n  <script>\"use strict\";function onFailEtcBottomAd(){var t;null!==(t=document.querySelector(\\'.etc_bottom_ad\\'))&&void 0!==t&&t.remove()}</script>\\n  <script>\"use strict\";!(function(){var e=document.querySelector(\".direct_link\");e.querySelector(\".btn_fold\").addEventListener(\\'click\\',function(){e.classList.toggle(\"direct_open\")})})();</script>\\n  <script>\\n    window.minidaum_options = JSON.parse(\\'{\"bgType\":\"white\",\"enableLogoutRetun\":true,\"returnUrl\":\"\",\"disableHotissue\":false,\"disableLogo\":false,\"disableTracker\":true,\"enableTopLink\":false}\\');\\n</script>\\n  <script src=\"https://go.daum.net/minidaum_pc.daum\"></script>\\n  <script>\"use strict\";document.querySelectorAll(\\'.kakao_ad_area\\').forEach(function(a){a.setAttribute(\\'data-ad-param-channel\\',\\'harmony\\'),a.setAttribute(\\'data-ad-param-cp\\',\\'49_pc_media_news\\')});</script>\\n  <script>\"use strict\";!(function(){var e,t,i,c=\\'<div class=\"direct_view\" style=\"top:<%= top %>px; width:<%= width %>px; margin-left:<%= left %>px\"> <a href=\"<%= url %>\" class=\"link_view\"> <span class=\"txt_g\"><%= title %></span> <span class=\"ico_view\"> <span class=\"ico_newsview ico_gallery\">\\xea\\xb0\\xa4\\xeb\\x9f\\xac\\xeb\\xa6\\xac \\xec\\x9d\\xb4\\xeb\\x8f\\x99</span> </span> </a> </div>\\';e=\\'nkhSoinQsa\\',!(t=\\'\\')||(i=document.querySelector(\\'img[dmcf-mtype=\"image\"]\\'))&&!i.querySelector(\\'.direct_vod\\')&&axios.get(\"\".concat(Conf.api.hadesRest,\"/photo_gallery_link_info?docId=\").concat(e,\"&galleryId=\").concat(parseInt(t,10))).then(function(e){var t,a=e.data.body.data;t=i,a=(e=a).title,e=e.pcLink,a&&e&&(e={title:a,url:e,top:t.clientHeight-62,width:a=t.clientWidth,left:a/2*-1},a=document.createElement(\\'div\\'),t.parentNode.appendChild(a),a.outerHTML=_.template(c)(e))})})();</script>\\n  <script src=\"//search1.daumcdn.net/search/statics/common/js/g/search_dragselection.min.js\"></script>\\n  <script>\"use strict\";!(function(){var e=document.querySelector(\".head_media\"),n=document.getElementById(\"wrapMinidaum\").offsetHeight+e.offsetHeight,o=document.getElementById(\"barProgress\"),d=document.getElementById(\"mAside\"),s=document.getElementById(\"kakaoWrap\"),l=document.getElementById(\"kakaoGnb\"),r=document.getElementById(\"mArticle\"),a=document.querySelector(\".cmt_news\"),c=document.querySelector(\".aside_ad:first-child\"),f=document.querySelector(\".aside_ad:last-child\"),g=document.getElementById(\\'realtime_aside\\');function t(){var e=window.scrollY||window.pageYOffset,t=document.body.offsetHeight,i=window.innerHeight;n<e?(i=100*e/(t-i),s.classList.add(\"header_fixed\"),o.style.width=parseInt(i,10)+\"%\"):s.classList.remove(\"header_fixed\")}function i(){var e=window.scrollX||window.pageXOffset,t=cMain.clientWidth,i=r.clientWidth,n=t-i-d.clientWidth,o=getComputedStyle(cMain),s=null;s=g?(t=g.getBoundingClientRect().left)<880?t+e:t:i+n+parseInt(o[\\'marginLeft\\'],10)-e,r.offsetHeight<d.offsetHeight||(a.style.minHeight=\\'250px\\',0<(n=(window.scrollY||window.pageYOffset)-cMain.offsetTop-8-c.clientHeight)?(o=r.offsetHeight-a.offsetHeight,(e=d.offsetHeight-f.offsetHeight)+n+8<o?(d.style.position=\\'fixed\\',d.style.top=l.clientHeight-c.offsetHeight-74+\\'px\\',d.style.left=s+\\'px\\'):(d.style.position=\\'relative\\',d.style.top=o-e+\\'px\\',d.style.left=\\'inherit\\')):(d.style.position=\\'static\\',d.style.top=\\'inherit\\',d.style.left=\\'inherit\\'))}\\'false\\'!=\\'true\\'&&\\'news\\'==\\'news\\'?(window.addEventListener(\"resize\",_.throttle(i,100)),window.addEventListener(\"scroll\",_.throttle(function(){t(),i()},100)),t(),i()):(window.addEventListener(\"scroll\",_.throttle(function(){t()},100)),t())})();</script>\\n  <script type=\"text/javascript\" src=\"//t1.daumcdn.net/tiara/js/v1/tiara.min.js\"></script>\\n  <script>\"use strict\";!(function(){if(window.TiaraTracker){var c=!1,s=new Date,m=\"pc_news\",l=null;try{l=Cookies.get(\\'DAUMTOP\\')||Cookies.get(\\'HARMONY_TOROS_IMP\\')&&window.atob(Cookies.get(\\'HARMONY_TOROS_IMP\\'))}catch(e){l=Cookies.get(\\'DAUMTOP\\')}var u=\\'\\',g=\\'\\',y=TiaraTracker.getInstance().setSvcDomain(\"media.daum.net\").setPage(\"newsview\").trackPage(\"newsview\").setSection(\"economic\").setEnableAlwaysImage(!0),f={id:\"20170615203441266\",type:\"article\",name:\"\\\\uC794\\\\uAE08\\\\uB300\\\\uCD9C\\\\uC5D0\\\\uB3C4 DTI \\\\uADDC\\\\uC81C \\\\uC801\\\\uC6A9 \\\\uAC80\\\\uD1A0\",category_id:\"1041\",category:\"economic\",author:\"\\\\uAE40\\\\uB3D9\\\\uC6B1\",author_id:\"kdw1280@hankookilbo.com\",provider:\"\\\\uD55C\\\\uAD6D\\\\uC77C\\\\uBCF4\",provider_id:\"49\",regdate:\"2017-06-15 20:34:40\",plink:\"https://media.daum.net/v/20170615203441266\",image:\"https://t1.daumcdn.net/news/201706/15/hankooki/20170615044256378kzbd.jpg\",harmony_consumer_id:\"media\",media:\"pcweb\"},p={contentUniqueKey:\"hamny-\".concat(f.id),docId:\"nkhSoinQsa\",harmony_consumer_id:\"media\",media:\"pcweb\",reg_dt:\"2017-06-15 20:34:40\",reg_timestamp:\"1497526480954\"},e=function(){c||y.actionKind(\"ViewContent\").pageMeta(f).customProps(p).track()},t=function(){if(!c){c=!0;var e=document.body.scrollHeight,t=window.scrollY,a=e-t,o=window.innerHeight,n=Math.round(t/(e-o)*100),i={},o={duration:(new Date).getTime()-s.getTime(),scroll_percent:n,scroll_height:e,scroll_top:t,scroll_bottom:a,scroll_inner_height:o};try{var d,r=!1;!l||(d=JSON.parse(l)).contents_unique_key===p.contentUniqueKey&&(i={toros_imp_id:d.impression_id,toros_file_hash_key:d.toros_file_hash_key,toros_user_id_type:\"uuid\",toros_page_meta_id:p.contentUniqueKey,toros_event_meta_id:p.contentUniqueKey,toros_action_type:\"dwelltime\"},Cookies.remove(\\'HARMONY_TOROS_IMP\\',{path:\\'/\\',domain:location.hostname.substring(location.hostname.indexOf(\\'.\\'))}),Cookies.remove(\\'DAUMTOP\\',{path:\\'/\\',domain:\\'.daum.net\\'}),r=!0),!r&&0<u.length&&(i={toros_imp_id:window.atob(u),toros_file_hash_key:window.atob(g),toros_user_id_type:\"uuid\",toros_page_meta_id:p.contentUniqueKey,toros_event_meta_id:p.contentUniqueKey,toros_action_type:\"dwelltime\"})}catch(e){}y.trackUsage().actionKind(\"UsagePage\").pageMeta(f).usage(o).customProps(_.assignIn(p,i)).track()}};\"onpagehide\"in window?(window.addEventListener(\"pageshow\",e,!1),window.addEventListener(\"pagehide\",t,!1)):(window.addEventListener(\"load\",e,!1),window.addEventListener(\"unload\",t,!1)),document.addEventListener(\"visibilitychange\",function(){(document[\"hidden\"]?t:e)()},!1),document.addEventListener(\"mousedown\",function(e){var t,a,o,n,i,d,r=e.target,c=r.closest(\"[data-cloud]\"),s=r.closest(\"a\")||r.closest(\"button\")||r.closest(\\'div.selectionbox\\');s&&null!=c&&c.contains(s)&&((i=TiaraTracker.getClickInfo(e))&&(a=(null==(t=i.action)?void 0:t.name)||\"\",o=(null==t?void 0:t.kind)||\"\",n=_.assignIn(p,i.customProps),i=r.closest(\"[data-tiara]\"),r=s.querySelector(\"img\"),d=0,Array.from((c||i).querySelectorAll(\"a, button\")).map(function(e,t){e==s&&(d=t)}),e={layer1:m,layer2:c.dataset.cloud,layer3:(null==i?void 0:i.dataset.tiara)||\"\",click_url:s.href||\"\",ordnum:d,copy:s.classList.contains(\\'selectionbox\\')?null==t?void 0:t.name:s.innerText,image:(null==r?void 0:r.src)||\"\",posX:e.clientX,posY:e.clientY},y.trackEvent(a).pageMeta(f).actionKind(o).customProps(n).click(e).track()))})}})();</script>\\n </body>\\n</html>'"
      ]
     },
     "execution_count": 2,
     "metadata": {},
     "output_type": "execute_result"
    }
   ],
   "source": [
    "res.content"
   ]
  },
  {
   "cell_type": "code",
   "execution_count": 3,
   "id": "c38acf10",
   "metadata": {},
   "outputs": [
    {
     "name": "stdout",
     "output_type": "stream",
     "text": [
      "<!DOCTYPE html>\n",
      "\n",
      "<html lang=\"ko\">\n",
      "<head data-cloud-area=\"head\">\n",
      "<meta charset=\"utf-8\"/>\n",
      "<meta content=\"IE=edge\" http-equiv=\"X-UA-Compatible\"/>\n",
      "<style>\n",
      "            @import url('//t1.daumcdn.net/harmony_static/cloud/page/3e96c93f90d4df7aca693bfb2ba2ea76d2d14d92.css');\n",
      "            @import url('//t1.daumcdn.net/harmony_static/cloud/2021/05/03/common.4fa0ea63845693bada8b.css')\n",
      "        </style>\n",
      "<style>\n",
      "            /* 다음 카페 소셜 쉐어 임시 비활성화 */\n",
      "            .list_sns li:nth-child(6) {\n",
      "                display: none;\n",
      "            }\n",
      "        </style>\n",
      "<meta content=\"nkhSoinQsa\" property=\"mccp:docId\"/>\n",
      "<meta content=\"다음뉴스\" property=\"og:site_name\"/>\n",
      "<meta content=\"잔금대출에도 DTI 규제 적용 검토\" property=\"og:title\"/>\n",
      "<meta content=\"20170615203440\" property=\"og:regDate\"/>\n",
      "<meta content=\"article\" property=\"og:type\"/>\n",
      "<meta content=\"https://news.v.daum.net/v/nkhSoinQsa\" property=\"og:url\"/>\n",
      "<meta content=\"https://img1.daumcdn.net/thumb/S1200x630/?fname=https://t1.daumcdn.net/news/201706/15/hankooki/20170615044256378kzbd.jpg\" property=\"og:image\"/>\n",
      "<meta content=\"1200\" property=\"og:image:width\"/>\n",
      "<meta content=\"630\" property=\"og:image:height\"/>\n",
      "<meta content=\"내주 부동산 종합대책 발표 집값 상승 노린 투기 분양 차단 LTVㆍDTI 규제 다시 강화할 듯 저소득 실수요자 피해 우려도 금융당국이 급증하는 가계부채 증가세를 막기 위해 아파트 잔금대출에도 소득을 따져 대출한도를 정하는 총부채상환비율(DTI)을 적용하는 방안을 유력하게 검토하고 있다. 지금은 집값을 기준으로 대출한도를 매기는 주택담보인정비율(LTV) 규제\" property=\"og:description\"/>\n",
      "<meta content=\"daumapps://web?url=https%3A%2F%2Fnews.v.daum.net/v/nkhSoinQsa\" property=\"al:android:url\"/>\n",
      "<meta content=\"net.daum.android.daum\" property=\"al:android:package\"/>\n",
      "<meta content=\"다음앱\" property=\"al:android:app_name\"/>\n",
      "<meta content=\"daumapps://web?url=https%3A%2F%2Fnews.v.daum.net/v/nkhSoinQsa\" property=\"al:ios:url\"/>\n",
      "<meta content=\"365494029\" property=\"al:ios:app_store_id\"/>\n",
      "<meta content=\"다음앱\" property=\"al:ios:app_name\"/>\n",
      "<meta content=\"summary_large_image\" property=\"twitter:card\"/>\n",
      "<meta content=\"daumapps://web?url=https%3A%2F%2Fnews.v.daum.net/v/nkhSoinQsa\" property=\"twitter:app:url:googleplay\"/>\n",
      "<meta content=\"net.daum.android.daum\" property=\"twitter:app:id:googleplay\"/>\n",
      "<meta content=\"다음앱\" property=\"twitter:app:name:googleplay\"/>\n",
      "<meta content=\"KR\" property=\"twitter:app:country\"/>\n",
      "<meta content=\"daumapps://web?url=https%3A%2F%2Fnews.v.daum.net/v/nkhSoinQsa\" property=\"twitter:app:url:iphone\"/>\n",
      "<meta content=\"365494029\" property=\"twitter:app:id:iphone\"/>\n",
      "<meta content=\"다음앱\" property=\"twitter:app:name:iphone\"/>\n",
      "<meta content=\"daumapps://web?url=https%3A%2F%2Fnews.v.daum.net/v/nkhSoinQsa\" property=\"twitter:app:url:ipad\"/>\n",
      "<meta content=\"365494029\" property=\"twitter:app:id:ipad\"/>\n",
      "<meta content=\"다음앱\" property=\"twitter:app:name:ipad\"/>\n",
      "<meta content=\"always\" name=\"referrer\"/>\n",
      "<title>잔금대출에도 DTI 규제 적용 검토</title>\n",
      "<link href=\"//m2.daumcdn.net/img-media/2010ci/Daum_favicon.ico\" rel=\"shortcut icon\"/>\n",
      "</head>\n",
      "<body class=\"\">\n",
      "<div id=\"kakaoIndex\"> <a href=\"#kakaoBody\">본문 바로가기</a> <a href=\"#kakaoGnb\">메뉴 바로가기</a>\n",
      "</div>\n",
      "<div class=\"newsview_media\" id=\"kakaoWrap\">\n",
      "<div id=\"wrapMinidaum\"></div>\n",
      "<div data-cloud-area=\"header\" id=\"kakaoHead\" role=\"banner\">\n",
      "<div class=\"head_media\" data-cloud=\"pc_header_gnb\">\n",
      "<h1> <a class=\"link_daum\" href=\"https://www.daum.net\"> <img alt=\"Daum\" class=\"thumb_g\" height=\"19\" src=\"//t1.daumcdn.net/media/news/news2016/retina/logo_daum.jpg\" width=\"45\"/> </a> <a href=\"//news.daum.net\" id=\"kakaoServiceLogo\"><span class=\"ir_wa\">뉴스</span></a> </h1> <strong class=\"screen_out\">관련서비스</strong>\n",
      "<ul id=\"kakaoRelServices\">\n",
      "<li><a class=\"link_services link_services1\" href=\"https://entertain.daum.net/\"><span class=\"ir_wa\">연예</span></a></li>\n",
      "<li><a class=\"link_services link_services2\" href=\"https://sports.daum.net/\"><span class=\"ir_wa\">스포츠</span></a></li>\n",
      "</ul>\n",
      "<h2 class=\"screen_out\">검색</h2>\n",
      "<div class=\"search_news\" id=\"search_news\">\n",
      "<form action=\"https://search.daum.net/search\" id=\"kakaoSearch\" method=\"get\" name=\"kakaoSearch\">\n",
      "<fieldset class=\"fld_inside\"> <legend class=\"screen_out\">검색어 입력폼</legend>\n",
      "<div class=\"box_searchbar\"> <label class=\"lab_search\" for=\"qVal\">통합검색</label>\n",
      "<input name=\"nil_profile\" type=\"hidden\" value=\"search\"/>\n",
      "<input name=\"nil_src\" type=\"hidden\" value=\"media\"/>\n",
      "<input name=\"DA\" type=\"hidden\" value=\"23A\"/>\n",
      "<input name=\"rtmaxcoll\" type=\"hidden\" value=\"NNS\"/>\n",
      "<input autocomplete=\"off\" class=\"tf_keyword\" id=\"qVal\" name=\"q\" spellcheck=\"false\" title=\"검색어 입력\" type=\"text\" value=\"\"/> <button class=\"btn_search\" id=\"kakaoBtnSearch\" type=\"submit\"><span class=\"ir_wa\">검색</span></button>\n",
      "</div>\n",
      "</fieldset>\n",
      "<div class=\"wrap_suggestBox\" id=\"wrap_suggestBox\">\n",
      "<div class=\"suggestBox box_sub\" id=\"suggestBox\">\n",
      "<div class=\"baseBox bg\" style=\"display: none\"></div>\n",
      "</div>\n",
      "</div>\n",
      "</form>\n",
      "</div>\n",
      "</div>\n",
      "<div data-cloud=\"pc_header_gnb\" id=\"kakaoGnb\" role=\"navigation\">\n",
      "<div class=\"inner_gnb\">\n",
      "<h2 class=\"screen_out\">뉴스 메인메뉴</h2>\n",
      "<ul class=\"gnb_comm\" data-category=\"economic\">\n",
      "<li class=\"home\"><a class=\"link_gnb link_gnb1\" href=\"//news.daum.net/\"><span class=\"ir_wa\">홈</span><span class=\"bar_gnb\"><span class=\"inner_bar\"></span></span></a></li>\n",
      "<li class=\"society\"><a class=\"link_gnb link_gnb2\" href=\"//news.daum.net/society/\"><span class=\"ir_wa\">사회</span><span class=\"bar_gnb\"><span class=\"inner_bar\"></span></span></a></li>\n",
      "<li class=\"politics\"><a class=\"link_gnb link_gnb3\" href=\"//news.daum.net/politics/\"><span class=\"ir_wa\">정치</span><span class=\"bar_gnb\"><span class=\"inner_bar\"></span></span></a></li>\n",
      "<li class=\"economic\"><a class=\"link_gnb link_gnb4\" href=\"//news.daum.net/economic/\"><span class=\"ir_wa\">경제</span><span class=\"bar_gnb\"><span class=\"inner_bar\"></span></span></a></li>\n",
      "<li class=\"foreign\"><a class=\"link_gnb link_gnb5\" href=\"//news.daum.net/foreign/\"><span class=\"ir_wa\">국제</span><span class=\"bar_gnb\"><span class=\"inner_bar\"></span></span></a></li>\n",
      "<li class=\"culture\"><a class=\"link_gnb link_gnb6\" href=\"//news.daum.net/culture/\"><span class=\"ir_wa\">문화</span><span class=\"bar_gnb\"><span class=\"inner_bar\"></span></span></a></li>\n",
      "<li class=\"digital\"><a class=\"link_gnb link_gnb7\" href=\"//news.daum.net/digital/\"><span class=\"ir_wa\">IT</span><span class=\"bar_gnb\"><span class=\"inner_bar\"></span></span></a></li>\n",
      "<li class=\"popular\"><a class=\"link_gnb link_gnb8\" href=\"//news.daum.net/ranking/popular\"><span class=\"ir_wa\">랭킹</span><span class=\"bar_gnb\"><span class=\"inner_bar\"></span></span></a></li>\n",
      "<li class=\"series editorial\"><a class=\"link_gnb link_gnb9\" href=\"//news.daum.net/series\"><span class=\"ir_wa\">연재</span><span class=\"bar_gnb\"><span class=\"inner_bar\"></span></span></a></li>\n",
      "<li class=\"photo\"><a class=\"link_gnb link_gnb10\" href=\"//news.daum.net/photo\"><span class=\"ir_wa\">포토</span><span class=\"bar_gnb\"><span class=\"inner_bar\"></span></span></a></li>\n",
      "<li class=\"tv\"><a class=\"link_gnb link_gnb11\" href=\"//news.daum.net/tv\"><span class=\"ir_wa\">TV</span><span class=\"bar_gnb\"><span class=\"inner_bar\"></span></span></a></li>\n",
      "</ul>\n",
      "<div class=\"gnb_etc\">\n",
      "<ul class=\"gnb_with\">\n",
      "<li><a class=\"link_gnb link_gnb1\" href=\"//news.daum.net/1boon\"><span class=\"ir_wa\">1boon</span></a></li>\n",
      "<li><a class=\"link_gnb link_gnb2\" href=\"//gallery.v.daum.net/p/home\"><span class=\"ir_wa\">갤러리</span><span class=\"bar_gnb\"><span class=\"inner_bar\"></span></span></a></li>\n",
      "</ul>\n",
      "<div class=\"gnb_weather\"> <strong class=\"screen_out\">날씨 정보</strong>\n",
      "<div id=\"gnb_weather\">\n",
      "<ul class=\"list_weather\" data-nightyn=\"N\"></ul>\n",
      "</div>\n",
      "</div>\n",
      "</div>\n",
      "</div>\n",
      "</div>\n",
      "<div class=\"bar_progress\" data-cloud=\"pc_header_gnb\" id=\"barProgress\"></div>\n",
      "</div>\n",
      "<div id=\"dummyKakaoGnb\" style=\"height:137px; display:none;\"></div>\n",
      "<hr class=\"hide\"/>\n",
      "<div class=\"cont_view\" id=\"kakaoContent\" role=\"main\">\n",
      "<h2 class=\"screen_out\" id=\"kakaoBody\">경제</h2>\n",
      "<div data-cloud-area=\"title\" id=\"cSub\">\n",
      "<div class=\"head_view\" data-cloud=\"pc_article_title_and_util\"> <em class=\"info_cp\"> <a class=\"link_cp\" href=\"http://www.hankookilbo.com\" target=\"_blank\"> <img alt=\"한국일보\" class=\"thumb_g\" src=\"https://t1.daumcdn.net/media/news/news2016/cp/cp_hankooki.gif\"/> </a> </em>\n",
      "<h3 class=\"tit_view\" data-translation=\"true\">잔금대출에도 DTI 규제 적용 검토</h3> <span class=\"info_view\"> <span class=\"txt_info\">김동욱</span> <span class=\"txt_info\">입력 <span class=\"num_date\">2017. 06. 15. 20:34</span></span> <span class=\"txt_info\">수정 <span class=\"num_date\">2017. 06. 15. 21:31</span></span> <button class=\"emph_g2 link_cmt\" id=\"alexCounter\">댓글 <span class=\"alex-count-area\">0</span>개</button> </span>\n",
      "<div class=\"util_view\">\n",
      "<h4 class=\"screen_out\">기사 도구 모음</h4>\n",
      "<div class=\"btn_util util_summary\"> <button aria-expanded=\"false\" class=\"btn_summary\" type=\"button\"><span class=\"ico_newsview\">자동요약</span></button>\n",
      "<div class=\"wrap_setlayer\">\n",
      "<div class=\"layer_util layer_summary\">\n",
      "<p>금융당국이 급증하는 가계부채 증가세를 막기 위해 아파트 잔금대출에도 소득을 따져 대출한도를 정하는 총부채상환비율(DTI)을 적용하는 방안을 유력하게 검토하고 있다.</p>\n",
      "<p>지금은 집값을 기준으로 대출한도를 매기는 주택담보인정비율(LTV) 규제만 적용돼 소득이 없어도 집값의 70%를 빌려 잔금을 치르는 게 가능하다.</p>\n",
      "<p>앞으로 잔금대출에 DTI가 적용되면 소득이 없는 사람은 집값의 70% 대출 받는 게 어려워진다.</p> <span class=\"info_summary\"><span class=\"ico_newsview\"></span>기사 제목과 주요 문장을 기반으로 자동요약한 결과입니다. 전체 맥락을 이해하기 위해서는 본문 보기를 권장합니다.</span>\n",
      "</div>\n",
      "</div>\n",
      "</div>\n",
      "<div class=\"btn_util tts_btn\"> <button aria-expanded=\"false\" class=\"btn_set btn_tts\" type=\"button\"> <span class=\"ico_newsview ico_speak\">음성 기사 듣기</span> </button>\n",
      "<div class=\"wrap_setlayer\">\n",
      "<div class=\"layer_util layer_set layer_tts\"> <strong class=\"screen_out\">음성 기사 옵션 조절 레이어</strong>\n",
      "<ul class=\"list_set list_tts\">\n",
      "<li> <input class=\"screen_out\" id=\"ttsGenderMale\" name=\"ttsGender\" type=\"radio\" value=\"Male\"/> <label class=\"lab_set\" for=\"ttsGenderMale\"><span class=\"ico_newsview\"></span>남성</label> </li>\n",
      "<li> <input class=\"screen_out\" id=\"ttsGenderFemale\" name=\"ttsGender\" type=\"radio\" value=\"Female\"/> <label class=\"lab_set\" for=\"ttsGenderFemale\"><span class=\"ico_newsview\"></span>여성</label> </li>\n",
      "</ul>\n",
      "<ul class=\"list_set list_tts list_ttsspeed\">\n",
      "<li> <input class=\"screen_out\" id=\"ttsSpeedSlow\" name=\"ttsSpeed\" type=\"radio\" value=\"slow\"/> <label class=\"lab_set\" for=\"ttsSpeedSlow\"><span class=\"ico_newsview\"></span>느림</label> </li>\n",
      "<li> <input class=\"screen_out\" id=\"ttsSpeedNormal\" name=\"ttsSpeed\" type=\"radio\" value=\"normal\"/> <label class=\"lab_set\" for=\"ttsSpeedNormal\"><span class=\"ico_newsview\"></span>보통</label> </li>\n",
      "<li> <input class=\"screen_out\" id=\"ttsSpeedFast\" name=\"ttsSpeed\" type=\"radio\" value=\"fast\"/> <label class=\"lab_set\" for=\"ttsSpeedFast\"><span class=\"ico_newsview\"></span>빠름</label> </li>\n",
      "</ul>\n",
      "</div>\n",
      "</div>\n",
      "<audio id=\"ttsPlayer\" preload=\"none\" style=\"display:none\"></audio>\n",
      "</div>\n",
      "<div class=\"btn_util translate_btn\"> <button aria-expanded=\"false\" class=\"btn_set btn_translate #util #translate #set\" type=\"button\"><span class=\"ico_newsview\">번역 설정</span></button>\n",
      "<div class=\"wrap_translatelayer\">\n",
      "<div class=\"layer_util layer_translate\"> <strong class=\"tit_translate\">번역<span class=\"ico_newsview\">beta</span> </strong>\n",
      "<p class=\"desc_translate txt_newsview\">Translated by <a class=\"link_kakaoi #util #translate #kakaoi_link\" href=\"https://kakao.ai/\" target=\"_blank\">kakao i</a></p> <strong class=\"screen_out\">번역할 언어 선택</strong>\n",
      "<ul class=\"list_lang\">\n",
      "<li> <button class=\"btn_lang btn_en #util #translate #lang_en\" name=\"en\"> <span class=\"ico_newsview ico_flag\"></span> <strong class=\"ico_newsview tit_lang\">English</strong> </button> </li>\n",
      "<li> <button class=\"btn_lang btn_ch #util #translate #lang_cn\" name=\"cn\" type=\"button\"> <span class=\"ico_newsview ico_flag\"></span> <strong class=\"ico_newsview tit_lang\">简体中文</strong> </button> </li>\n",
      "<li> <button class=\"btn_lang btn_jp #util #translate #lang_jp\" name=\"jp\" type=\"button\"> <span class=\"ico_newsview ico_flag\"></span> <strong class=\"ico_newsview tit_lang\">日本語</strong> </button> </li>\n",
      "<li> <button class=\"btn_lang btn_ind #util #translate #lang_id\" name=\"id\" type=\"button\"> <span class=\"ico_newsview ico_flag\"></span> <strong class=\"ico_newsview tit_lang\">Bahasa Indonesia</strong> </button> </li>\n",
      "<li> <button class=\"btn_lang btn_viet #util #translate #lang_vi\" name=\"vi\" type=\"button\"> <span class=\"ico_newsview ico_flag\"></span> <strong class=\"ico_newsview tit_lang\">tiếng Việt</strong> </button> </li>\n",
      "<li> <button class=\"btn_lang btn_ko #util #translate #lang_kr\" name=\"kr\" type=\"button\"> <span class=\"ico_newsview ico_flag\"></span> <strong class=\"ico_newsview tit_lang\">한국어</strong> </button> </li>\n",
      "</ul>\n",
      "</div>\n",
      "</div>\n",
      "</div>\n",
      "<div class=\"btn_util share_btn\"> <button aria-expanded=\"false\" class=\"btn_set btn_share\" id=\"rSocialShareButton\"> <span class=\"ico_newsview\">공유</span> </button>\n",
      "<div id=\"rSocialShareLayerContainer\"></div>\n",
      "</div>\n",
      "<div class=\"btn_util font_btn\"> <button aria-expanded=\"false\" class=\"btn_set btn_font\" type=\"button\"> <span class=\"ico_newsview ico_font\">글씨크기 조절하기</span> </button>\n",
      "<div class=\"wrap_setlayer\">\n",
      "<div class=\"layer_util layer_set layer_font\"> <strong class=\"screen_out\">글자 크기 조절 레이어</strong>\n",
      "<ul class=\"list_set list_font\">\n",
      "<li> <input class=\"screen_out\" id=\"inpFont17\" name=\"inpFont\" type=\"radio\" value=\"17\"/> <label class=\"lab_set lab_size0\" for=\"inpFont17\"> <span class=\"ico_newsview\"></span> <span aria-hidden=\"true\">가나다라마바사</span> <span class=\"screen_out\">매우 작은 폰트</span> </label> </li>\n",
      "<li> <input class=\"screen_out\" id=\"inpFont18\" name=\"inpFont\" type=\"radio\" value=\"18\"/> <label class=\"lab_set lab_size1\" for=\"inpFont18\"> <span class=\"ico_newsview\"></span> <span aria-hidden=\"true\">가나다라마바사</span> <span class=\"screen_out\">작은 폰트</span> </label> </li>\n",
      "<li> <input class=\"screen_out\" id=\"inpFont19\" name=\"inpFont\" type=\"radio\" value=\"19\"/> <label class=\"lab_set lab_size2\" for=\"inpFont19\"> <span class=\"ico_newsview\"></span> <span aria-hidden=\"true\">가나다라마바사</span> <span class=\"screen_out\">보통 폰트</span> </label> </li>\n",
      "<li> <input class=\"screen_out\" id=\"inpFont20\" name=\"inpFont\" type=\"radio\" value=\"20\"/> <label class=\"lab_set lab_size3\" for=\"inpFont20\"> <span class=\"ico_newsview\"></span> <span aria-hidden=\"true\">가나다라마바사</span> <span class=\"screen_out\">큰 폰트</span> </label> </li>\n",
      "<li> <input class=\"screen_out\" id=\"inpFont21\" name=\"inpFont\" type=\"radio\" value=\"21\"/> <label class=\"lab_set lab_size4\" for=\"inpFont21\"> <span class=\"ico_newsview\"></span> <span aria-hidden=\"true\">가나다라마바사</span> <span class=\"screen_out\">매우 큰 폰트</span> </label> </li>\n",
      "</ul>\n",
      "</div>\n",
      "</div>\n",
      "</div>\n",
      "<div class=\"btn_util\"> <button class=\"btn_print\" type=\"button\"><span class=\"ico_newsview\">인쇄하기 새창열림</span></button>\n",
      "</div>\n",
      "</div>\n",
      "</div>\n",
      "</div>\n",
      "<div id=\"cMain\">\n",
      "<div id=\"mArticle\">\n",
      "<div data-cloud-area=\"article\">\n",
      "<div class=\"status_view\" data-cloud=\"pc_article_body\" id=\"translateNotice\" style=\"display:none;\"> <span class=\"notice_lang notice_lang_en\" style=\"display:none;\">The copyright belongs to the original writer of the content, and there may be errors in machine translation results.</span> <span class=\"notice_lang notice_lang_cn\" style=\"display:none;\">版权归内容原作者所有。机器翻译结果可能存在错误。</span> <span class=\"notice_lang notice_lang_jp\" style=\"display:none;\">原文の著作権は原著著作者にあり、機械翻訳の結果にエラーが含まれることがあります。</span> <span class=\"notice_lang notice_lang_id\" style=\"display:none;\">Hak cipta milik penulis asli dari konten, dan mungkin ditemukan kesalahan dalam hasil terjemahan mesin.</span> <span class=\"notice_lang notice_lang_vi\" style=\"display:none;\">Bản quyền thuộc về tác giả gốc của nội dung và có thể có lỗi trong kết quả dịch bằng máy.</span>\n",
      "</div>\n",
      "<div class=\"news_view\" data-cloud=\"pc_article_body\" style=\"font-size:17px\">\n",
      "<div class=\"article_view\" data-translation-body=\"true\" id=\"harmonyContainer\">\n",
      "<section dmcf-sid=\"ndxAvoEFLc\">\n",
      "<p dmcf-pid=\"nzrJ5KB3Cc\" dmcf-ptype=\"general\">내주 부동산 종합대책 발표</p>\n",
      "<p dmcf-pid=\"ncFbmYUgSc\" dmcf-ptype=\"general\">집값 상승 노린 투기 분양 차단</p>\n",
      "<p dmcf-pid=\"naDeB8j0HH\" dmcf-ptype=\"general\">LTVㆍDTI 규제 다시 강화할 듯</p>\n",
      "<p dmcf-pid=\"ngfl6lJwwk\" dmcf-ptype=\"general\">저소득 실수요자 피해 우려도</p>\n",
      "<figure class=\"figure_frm origin_fig\" dmcf-pid=\"nYQ8LWIMpD\" dmcf-ptype=\"figure\">\n",
      "<p class=\"link_figure\"><img class=\"thumb_g_article\" data-org-src=\"http://t1.daumcdn.net/news/201706/15/hankooki/20170615044256378kzbd.jpg\" data-org-width=\"330\" dmcf-mid=\"nkjJSoPdyb\" dmcf-mtype=\"image\" height=\"auto\" src=\"https://img1.daumcdn.net/thumb/R658x0.q70/?fname=http://t1.daumcdn.net/news/201706/15/hankooki/20170615044256378kzbd.jpg\" width=\"658\"/></p>\n",
      "</figure>\n",
      "<p dmcf-pid=\"n8guDAko3Z\" dmcf-ptype=\"general\">금융당국이 급증하는 가계부채 증가세를 막기 위해 아파트 잔금대출에도 소득을 따져 대출한도를 정하는 총부채상환비율(DTI)을 적용하는 방안을 유력하게 검토하고 있다. 지금은 집값을 기준으로 대출한도를 매기는 주택담보인정비율(LTV) 규제만 적용돼 소득이 없어도 집값의 70%를 빌려 잔금을 치르는 게 가능하다. 앞으로 잔금대출에 DTI가 적용되면 소득 없는 사람이 입주 뒤 집값 상승을 노리고 분양시장에 뛰어드는 게 사실상 불가능해진다. </p>\n",
      "<p dmcf-pid=\"nYPaCCRO1q\" dmcf-ptype=\"general\">금융당국 고위관계자는 15일 “잔금대출에도 DTI를 적용하는 방안을 검토 중”이라며 “다만 아직 최종 결론이 난 건 아니다”고 말했다. 정부는 내주 이 같은 내용을 포함한 부동산 종합 대책을 발표할 예정이다. </p>\n",
      "<p dmcf-pid=\"naZLBbSgoZ\" dmcf-ptype=\"general\">정부가 잔금대출 DTI 적용 카드를 꺼내는 건, 집단대출을 잡지 않고선 과열된 주택시장을 진정시키기 어렵다는 판단에서다. 실제 정부는 지난해 잔금대출도 대출 초기부터 원리금을 함께 갚도록 하는 여신심사 가이드라인을 도입했지만 이렇다 할 효과를 거두지 못했다. 오히려 정부 대책에도 불구, 집단대출 증가액은 매달 늘어나는 추세인데 지난달엔 2조원으로 올 들어 최고치를 기록했다. </p>\n",
      "<p dmcf-pid=\"nhAfneUtnA\" dmcf-ptype=\"general\">아파트 분양 집단대출은 중도금과 잔금대출로 구분된다. 계약금 10%를 내면 입주 전까지 집값의 60%를 중도금 대출로 받을 수 있다. 중도금 대출은 건설사 보증으로 이뤄져 소득심사를 안 거친다. 잔금대출은 건설사가 아닌 집을 담보로 이뤄지는 대출이다. LTV 규제만 적용돼 소득이 없어도 집값의 70%까지 대출이 가능하다. 때문에 지금은 잔금대출로 집값의 70%를 대출받아 기존 중도금 대출을 갚고 나머지 20%만 본인 돈으로 충당하면 집을 살 수 있다.</p>\n",
      "<p dmcf-pid=\"nCcfu6DK1b\" dmcf-ptype=\"general\">앞으로 잔금대출에 DTI가 적용되면 소득이 없는 사람은 집값의 70% 대출 받는 게 어려워진다. 입주 뒤 집값 상승을 노리는 투기수요를 확실히 걸러낼 초강력 대책이 될 수 있다. 하지만 부작용도 우려된다. 소득이 낮은 사회초년생 등은 청약통장을 갖고도 분양시장에 진입하는 게 어려워지기 때문이다. </p>\n",
      "<p dmcf-pid=\"nzh7QZekII\" dmcf-ptype=\"general\">이에 따라 잔금대출에 DTI를 적용하는 것 역시 지역 등에 따라 선별적으로 이뤄질 가능성이 높다. 현재 당국은 신규 분양 물량부터 규제를 적용할지 아니면 기존 분양 물량까지 규제 범위를 확대할지를 놓고 시뮬레이션을 하고 있다. </p>\n",
      "<p dmcf-pid=\"nihh22vlmu\" dmcf-ptype=\"general\">아울러 당국은 지난 2년간 완화됐던 LTV와 DTI를 다시 강화할 것으로 보인다. 현재 LTV(은행 기준)는 기존 50~60%에서 70%, DTI는 50~60%에서 60%로 완화돼 있는 상태다. 당국은 일괄적인 조이기보다 지역ㆍ집값 수준별로 기준을 다르게 적용하는 방식을 모색할 것으로 보인다.</p>\n",
      "<p dmcf-pid=\"naJ5HNfuMQ\" dmcf-ptype=\"general\">김동욱 기자 kdw1280@hankookilbo.com</p>\n",
      "</section>\n",
      "<p data-translation=\"true\">ⓒ한국일보 www.hankookilbo.com (무단복제 및 전재, 재배포를 금지합니다)</p>\n",
      "</div>\n",
      "</div>\n",
      "</div>\n",
      "<div class=\"foot_view\" data-cloud-area=\"addition\">\n",
      "<div class=\"emotion_wrap\" data-cloud=\"alex_action_emotion\">\n",
      "<div class=\"emotion_tit\"> <strong class=\"tit_emotion\">이 기사에 대해 어떻게 생각하시나요?</strong>\n",
      "</div>\n",
      "<div class=\"emotion_list\">\n",
      "<div class=\"alex-action\" data-action-mode=\"REACTION\" data-client-id=\"26BXAvKny5WF5Z09lr5k77Y8\" data-item-key=\"20170615203441266\" data-message-channel=\"alex-action-reactions\" data-on-select-animation-type=\"EXPAND\" data-selections=\"RECOMMEND,LIKE,IMPRESS,ANGRY,SAD\">\n",
      "</div>\n",
      "</div>\n",
      "</div>\n",
      "<div class=\"relate_series hide\" data-cloud=\"pc_news_cluster\"> <strong class=\"tit_series\"> <em class=\"tag_series\">연재</em> <span class=\"title_series\"></span> </strong>\n",
      "<ul class=\"list_series\"></ul> <a class=\"link_more\" href=\"#none\">더보기</a>\n",
      "</div>\n",
      "<div class=\"cp_view\" data-cloud=\"pc_related_news\">\n",
      "<div class=\"cp_tit\">\n",
      "<h3 class=\"tit_cp\">한국일보 주요 뉴스</h3>\n",
      "<p class=\"info_cp\">해당 언론사로 연결됩니다.</p>\n",
      "</div>\n",
      "<ul class=\"list_relate\">\n",
      "<li><a class=\"link_txt\" data-type=\"related\" href=\"http://www.hankookilbo.com/v/801b1cc777e5438f9aa8107a27ec29e1\" target=\"_blank\" title=\"[36.5°] 욕하면서 닮는 것도 적폐다\">[36.5°] 욕하면서 닮는 것도 적폐다</a></li>\n",
      "<li><a class=\"link_txt\" data-type=\"related\" href=\"http://www.hankookilbo.com/v/211ec3b6e3f441e394a0710975399045\" target=\"_blank\" title=\"실제와 너무 다른 '서울로 7017' 홍보 이미지\">실제와 너무 다른 '서울로 7017' 홍보 이미지</a></li>\n",
      "<li><a class=\"link_txt\" data-type=\"related\" href=\"http://www.hankookilbo.com/v/04b5627be58645dfa7960e16a4624b22\" target=\"_blank\" title=\"[영상] 동국대.충무로에서 인기 있는 맛집 BEST 5\">[영상] 동국대.충무로에서 인기 있는 맛집 BEST 5</a></li>\n",
      "<li><a class=\"link_txt\" data-type=\"related\" href=\"http://www.hankookilbo.com/v/dae59b9e0adfd851dae59b9e0adfd851\" target=\"_blank\" title='공승연 \"여진구 오빠 같아..잘생기면 오빠\"'>공승연 \"여진구 오빠 같아..잘생기면 오빠\"</a></li>\n",
      "<li><a class=\"link_txt\" data-type=\"related\" href=\"http://www.hankookilbo.com/v/6162946d032e4b53909f80f78ef9b69c\" target=\"_blank\" title='지드래곤 \"뭐가 문제죠?\".. USB 음반 논란 일격'>지드래곤 \"뭐가 문제죠?\".. USB 음반 논란 일격</a></li>\n",
      "</ul>\n",
      "</div>\n",
      "<div data-cloud=\"pc_article_bottom_ad\" id=\"alex-scroll-area\"></div>\n",
      "<ins class=\"kakao_ad_area recomm_ad\" data-ad-height=\"90\" data-ad-onfail=\"cmRenderFailCallBack\" data-ad-unit=\"DAN-1jezdswwiit7q\" data-ad-width=\"658\" data-cloud=\"pc_article_bottom_ad\" style=\"display:block; width: 658px; text-decoration: none; min-width: 658px;\"> </ins>\n",
      "<div class=\"cmt_news cmt_view\" data-cloud=\"pc_comment\">\n",
      "<div class=\"news_notice\" id=\"newsviewNotice\"></div>\n",
      "<div class=\"alex-area\" data-base-url=\"//comment.daum.net\" data-client-id=\"26BXAvKny5WF5Z09lr5k77Y8\" data-initial-limit=\"3\" data-is-mobile=\"false\" data-kakao-appkey=\"9076ba452fea1a434141d6b6a2c11a3c\" data-max-length=\"300\" data-page-limit=\"10\" data-post-id=\"@20170615203441266\" data-show-mask-alert=\"true\" data-sort=\"P\" data-use-attachment=\"false\" data-use-emoticon=\"true\" data-use-fold=\"true\" data-use-live-comment-mode=\"notify\" data-use-my=\"true\" data-use-official=\"true\" data-use-reply=\"true\" data-use-safebot=\"true\" data-use-skin=\"newsView\" data-use-social-share=\"true\" id=\"alex-area\">\n",
      "</div>\n",
      "</div>\n",
      "</div>\n",
      "</div>\n",
      "<div data-cloud-area=\"aside\" id=\"mAside\">\n",
      "<ins class=\"kakao_ad_area aside_g aside_ad\" data-ad-height=\"250\" data-ad-type=\"D\" data-ad-unit=\"05d24\" data-ad-width=\"250\" data-cloud=\"pc_aside_top_ad\" style=\"display:block;width:250px;height:250px;\"> </ins>\n",
      "<div class=\"aside_g aside_popular hide\" data-cloud=\"pc_popular_news\">\n",
      "<h3 class=\"txt_newsview\">많이본 뉴스</h3>\n",
      "<ul class=\"tab_aside tab_media\">\n",
      "<li class=\"on\"> <a class=\"link_tab link_tab2\" href=\"#none\">뉴스</a> </li>\n",
      "<li class=\"\"> <a class=\"link_tab link_tab3\" href=\"#none\">연예</a> </li>\n",
      "<li class=\"\"> <a class=\"link_tab link_tab4\" href=\"#none\">스포츠</a> </li>\n",
      "</ul>\n",
      "</div>\n",
      "<div class=\"aside_g aside_phototv hide\" data-cloud=\"pc_news_photo_tv\">\n",
      "<h3 class=\"txt_newsview\">포토&amp;TV</h3>\n",
      "<div class=\"cont_aside\">\n",
      "<ul class=\"list_phototv\"></ul>\n",
      "</div>\n",
      "</div>\n",
      "<ins class=\"kakao_ad_area aside_g aside_ad\" data-ad-height=\"250\" data-ad-type=\"D\" data-ad-unit=\"0QH44\" data-ad-width=\"250\" data-cloud=\"pc_aside_bottom_ad\" style=\"display:block;width:250px;height:250px;\"> </ins>\n",
      "</div>\n",
      "</div>\n",
      "<div id=\"cEtc\">\n",
      "<div class=\"realtime_view\">\n",
      "<div class=\"inner_realtime\">\n",
      "<div data-cloud-area=\"etc\">\n",
      "<div class=\"realtime_news\" data-cloud=\"pc_realtime_news\">\n",
      "<h3 class=\"txt_newsview\">이 시각 추천뉴스</h3>\n",
      "<ul class=\"list_realtime\">\n",
      "<li class=\"item_main item_realtime_news\"></li>\n",
      "<li class=\"item_main item_realtime_news\"></li>\n",
      "<li class=\"item_realtime_news\"></li>\n",
      "<li class=\"item_realtime_news\"></li>\n",
      "<li class=\"item_realtime_news\"></li>\n",
      "<li class=\"item_realtime_news\"></li>\n",
      "<li class=\"item_realtime_news\"></li>\n",
      "<li class=\"item_realtime_news\"></li>\n",
      "<li class=\"item_realtime_news\"></li>\n",
      "<li class=\"item_realtime_news\"></li>\n",
      "<li class=\"item_realtime_news\"></li>\n",
      "<li class=\"item_realtime_news\"></li>\n",
      "</ul>\n",
      "</div>\n",
      "</div>\n",
      "<div class=\"realtime_aside\" data-cloud-area=\"etc-aside\" id=\"realtime_aside\">\n",
      "<ins class=\"kakao_ad_area etc_bottom_ad\" data-ad-height=\"250\" data-ad-onfail=\"onFailEtcBottomAd\" data-ad-unit=\"DAN-kQxraZPBvpl52CWq\" data-ad-width=\"250\" data-cloud=\"pc_etc_bottom_ad\" style=\"display: block; width: 100%;\"> </ins>\n",
      "</div>\n",
      "</div>\n",
      "</div>\n",
      "<div data-cloud-area=\"etc-addition\">\n",
      "</div>\n",
      "</div>\n",
      "</div>\n",
      "<hr class=\"hide\"/>\n",
      "<div class=\"footer_comm\" data-cloud-area=\"footer\" id=\"kakaoFoot\" role=\"contentinfo\">\n",
      "<div class=\"inner_foot\" data-cloud=\"pc_footer\">\n",
      "<div class=\"direct_link\">\n",
      "<h2 class=\"tit_direct\">바로가기</h2>\n",
      "<div class=\"item_bundle\"> <a class=\"link_txt\" href=\"https://news.daum.net/\">뉴스홈</a> <a class=\"link_txt\" href=\"https://news.daum.net/society/\">사회</a> <a class=\"link_txt\" href=\"https://news.daum.net/politics/\">정치</a> <a class=\"link_txt\" href=\"https://news.daum.net/economic/\">경제</a> <a class=\"link_txt\" href=\"https://news.daum.net/foreign/\">국제</a> <a class=\"link_txt\" href=\"https://news.daum.net/culture/\">문화</a> <a class=\"link_txt\" href=\"https://news.daum.net/digital/\">IT</a> <a class=\"link_txt\" href=\"https://news.daum.net/photo/\">포토</a> <a class=\"link_txt\" href=\"https://news.daum.net/tv/\">TV</a>\n",
      "</div>\n",
      "<div class=\"item_bundle\"> <a class=\"link_txt\" href=\"https://news.daum.net/cp\">언론사별 뉴스</a>\n",
      "</div>\n",
      "<div class=\"item_bundle\"> <a class=\"link_txt\" href=\"https://news.daum.net/newsbox\">배열이력</a>\n",
      "</div>\n",
      "<div class=\"item_bundle\"> <a class=\"link_txt\" href=\"https://news.daum.net/breakingnews\">전체뉴스</a> <a class=\"link_txt\" href=\"https://news.daum.net/ranking/popular\">랭킹</a> <a class=\"link_txt\" href=\"https://news.daum.net/series\">연재</a> <a class=\"link_txt\" href=\"https://news.daum.net/1boon\">1boon</a>\n",
      "</div> <button class=\"btn_fold\" type=\"button\"><span class=\"ico_news\">바로가기 링크 더보기/접기</span></button>\n",
      "</div>\n",
      "<h2 class=\"screen_out\">서비스 이용정보</h2>\n",
      "<div class=\"footer_link\"> <a class=\"link_info\" href=\"https://news.daum.net/info/intro\">다음뉴스 소개</a> <span class=\"txt_dot\"> ・ </span> <a class=\"link_info\" href=\"https://news.daum.net/notice\">공지사항</a> <span class=\"txt_dot\"> ・ </span> <a class=\"link_info\" href=\"https://news.daum.net/info/bbsrule\">게시물 운영원칙</a> <span class=\"txt_dot\"> ・ </span> <a class=\"link_info\" href=\"https://policy.daum.net/info/info\">서비스 약관/정책</a> <span class=\"txt_dot\"> ・ </span> <a class=\"link_info\" href=\"https://with.kakao.com/media\">뉴스제휴</a> <span class=\"txt_dot\"> ・ </span> <a class=\"link_info\" href=\"https://business.kakao.com/\">비즈니스</a> <span class=\"txt_dot\"> ・ </span> <a class=\"link_info\" href=\"https://cs.daum.net/redbell/top.html\">권리침해신고</a> <span class=\"txt_dot\"> ・ </span> <a class=\"link_info\" href=\"https://cs.daum.net/faq/63.html\">다음뉴스 고객센터</a>\n",
      "</div>\n",
      "<div class=\"footer_link\"> <a class=\"link_info\" href=\"https://news.daum.net/info/newscenter24\">24시간 뉴스센터</a> <span class=\"txt_dot\"> ・ </span> <a class=\"link_info\" href=\"https://news.daum.net/info/edit\">서비스원칙</a> <span class=\"txt_dot\"> ・ </span> <a class=\"link_info\" href=\"https://news.daum.net/info/correct\">바로잡습니다</a> <span class=\"txt_dot\"> ・ </span> <span class=\"link_info\">기사배열책임자 : 김희정</span> <span class=\"txt_dot\"> ・ </span> <span class=\"link_info\">청소년보호책임자 : 이준목</span>\n",
      "</div>\n",
      "<div class=\"info_copyright\"> <strong class=\"info_warn\">위 내용에 대한 저작권 및 법적 책임은 자료제공사 또는 <br/>글쓴이에 있으며, Kakao의 입장과 다를 수 있습니다.</strong> <small class=\"txt_copyright\">Copyright © <strong class=\"txt_kakao\"><a class=\"link_kakao\" href=\"https://www.kakaocorp.com\">Kakao Corp.</a></strong> All rights reserved.</small>\n",
      "</div>\n",
      "</div>\n",
      "</div> <samp data-cloud-area=\"util\"> </samp>\n",
      "</div>\n",
      "<script src=\"//t1.daumcdn.net/harmony_static/cloud/2021/05/03/vendor.39958ce6937d202010c7.js\"></script>\n",
      "<script src=\"//t1.daumcdn.net/harmony_static/cloud/2021/05/03/common.4fa0ea63845693bada8b.js\"></script>\n",
      "<script src=\"//t1.daumcdn.net/kas/static/ba.min.js\"></script>\n",
      "<script src=\"//t1.daumcdn.net/kas/static/na.min.js\"></script>\n",
      "<script src=\"//m1.daumcdn.net/svc/original/U03/cssjs/userAgent/userAgent-1.0.12.min.js\"></script>\n",
      "<script>\"use strict\";function _classCallCheck(e,t){if(!(e instanceof t))throw new TypeError(\"Cannot call a class as a function\")}function _defineProperties(e,t){for(var a=0;a<t.length;a++){var n=t[a];n.enumerable=n.enumerable||!1,n.configurable=!0,\"value\"in n&&(n.writable=!0),Object.defineProperty(e,n.key,n)}}function _createClass(e,t,a){return t&&_defineProperties(e.prototype,t),a&&_defineProperties(e,a),e}!(function(){var a=\"<li>\\n <a href=\\\"https://search.daum.net/search?nil_suggest=btn&amp;w=tot&amp;DA=SBC&amp;q=<%= specialRegionName %>%20날씨\\\" class=\\\"link_cont\\\">\\n <span class=\\\"ico_weather ico_weather<%= weatherIconCode %>\\\"><%= specialRegionName %></span> \\n <span class=\\\"txt_weather\\\"><%= specialRegionName %>\\n <span class=\\\"num_heat\\\"><%= temperature %></span> \\n <span class=\\\"txt_heat\\\">℃</span>\\n </span>\\n </a>\\n </li>\",t=document.querySelector('.gnb_weather'),n=t.querySelector('ul'),e=\"\".concat(Conf.api.hadesRest,\"/pc_weather\");axios.get(e).then(function(e){var t=e.data.body.data,e=t.isNightIconYn,t=t.weatherData;n.dataset.nightyn=e,n.innerHTML=t.map(function(e){return _.template(a)(e)}).join('');new s(n)}).catch(function(e){t.parentNode.removeChild(t)});var s=(function(){function t(e){_classCallCheck(this,t),this.PAUSE_TIME=4e3,this.TRANSITION_TIME=500,this.list=e,this.frameId=null,this.pause=this.pause.bind(this),this.start=this.start.bind(this),this.moveUp=this.moveUp.bind(this),this.init(),this.start(),this.list.style.marginTop='0px'}return _createClass(t,[{key:\"start\",value:function(){this.frameId=setInterval(this.moveUp,this.PAUSE_TIME)}},{key:\"pause\",value:function(){clearInterval(this.frameId)}},{key:\"moveUp\",value:function(){var e=this.list,t=e.firstElementChild.cloneNode(!0);e.classList.add('slidein'),e.style.marginTop='-30px',setTimeout(function(){e.classList.remove('slidein'),e.style.marginTop='0px',e.removeChild(e.firstElementChild),e.appendChild(t)},this.TRANSITION_TIME)}},{key:\"init\",value:function(){var t=this,e=this.list;e.addEventListener('mouseenter',this.pause),e.addEventListener('mouseleave',this.start),e.querySelectorAll('a').forEach(function(e){e.addEventListener('focus',t.pause),e.addEventListener('blur',t.start)})}}]),t})()})();</script>\n",
      "<script>\"use strict\";!(function(){var e=-1<''.indexOf('tv_news')?'tv':'economic',t=document.querySelector('.gnb_comm');(t=e&&t.querySelector(\".\".concat(e)))&&t.setAttribute('class',\"\".concat(e,\" on\"))})();</script>\n",
      "<script src=\"https://t1.daumcdn.net/cssjs/jquery/jquery-1.9.0.min.js\"></script>\n",
      "<script src=\"https://search1.daumcdn.net/search/suggest_pc/suggest-1.2.16.min.js\"></script>\n",
      "<script>\"use strict\";!(function(){document.getElementById('search_news'),new suggest.Suggest(document.getElementById(\"search_news\"),{inputEl:'qVal',suggestBoxEl:'suggestBox',autoFocus:'NORMAL',suggestLimit:10,isReverse:!1,searchURL:'https://search.daum.net/search',APIServer:{host:'//dapi.kakao.com/suggest/v2/pc.json',apiType:suggest.Suggest.APITYPE.DAPISUGGEST,appkey:'d7022f6ca2a04430ce1b97b922da58e8',queries:{mod:'json',code:'utf_in_out'}}}).on('click-item',function(){var e=document.getElementById('kakaoSearch');e.querySelector(\"input[name='DA']\").value='23B',e.submit()});var t=document.getElementById('qVal');t.addEventListener?(t.addEventListener('focus',function(e){e&&e.preventDefault(),0<=t.value.length&&t.parentNode.classList.add('search_on')}),t.addEventListener('blur',function(e){e&&e.preventDefault(),0===t.value.length&&t.parentNode.classList.remove('search_on')})):(t.attachEvent('onfocus',function(e){e&&(e.preventDefault?e.preventDefault():e.returnValue=!1),0<=t.value.length&&t.parentNode.setAttribute('class','box_searchbar search_on')}),t.attachEvent('onblur',function(e){e&&(e.preventDefault?e.preventDefault():e.returnValue=!1),0===t.value.length&&t.parentNode.setAttribute('class','box_searchbar')}))})(jQuery);</script>\n",
      "<script src=\"//t1.daumcdn.net/daumtop_deco/socialshare/socialshare_nocss_pc-2.4.2.js\"></script>\n",
      "<script>\"use strict\";!(function(){var t=document.querySelector('.util_summary'),r=t.querySelector('.btn_summary'),e=t.querySelectorAll(\".layer_summary p\"),n=!1;function i(){t.classList.remove('layer_open'),r.setAttribute('aria-expanded',!1)}function a(e){if(e.target===r||e.target===r.children[0])return!1;i(),window.removeEventListener('click',a)}e.forEach(function(e){return e.classList.add(\"desc_news\")}),r.addEventListener('click',function(e){(n=!n)?(t.classList.add('layer_open'),r.setAttribute('aria-expanded',!0),window.addEventListener('click',a)):i()}),r.addEventListener('blur',function(e){n=!1,i()})})();</script>\n",
      "<script>\"use strict\";function _slicedToArray(e,t){return _arrayWithHoles(e)||_iterableToArrayLimit(e,t)||_unsupportedIterableToArray(e,t)||_nonIterableRest()}function _nonIterableRest(){throw new TypeError(\"Invalid attempt to destructure non-iterable instance.\\nIn order to be iterable, non-array objects must have a [Symbol.iterator]() method.\")}function _unsupportedIterableToArray(e,t){if(e){if(\"string\"==typeof e)return _arrayLikeToArray(e,t);var n=Object.prototype.toString.call(e).slice(8,-1);return\"Object\"===n&&e.constructor&&(n=e.constructor.name),\"Map\"===n||\"Set\"===n?Array.from(e):\"Arguments\"===n||/^(?:Ui|I)nt(?:8|16|32)(?:Clamped)?Array$/.test(n)?_arrayLikeToArray(e,t):void 0}}function _arrayLikeToArray(e,t){(null==t||t>e.length)&&(t=e.length);for(var n=0,r=new Array(t);n<t;n++)r[n]=e[n];return r}function _iterableToArrayLimit(e,t){if(\"undefined\"!=typeof Symbol&&Symbol.iterator in Object(e)){var n=[],r=!0,o=!1,a=void 0;try{for(var i,s=e[Symbol.iterator]();!(r=(i=s.next()).done)&&(n.push(i.value),!t||n.length!==t);r=!0);}catch(e){o=!0,a=e}finally{try{r||null==s[\"return\"]||s[\"return\"]()}finally{if(o)throw a}}return n}}function _arrayWithHoles(e){if(Array.isArray(e))return e}!(function(){var t,e,n,r,o,a='VIEW_TTS',i='v.daum.net',s={slow_Male:'http://k-v1.kakaocdn.net/dn/NOgW7/btqgKWvtqGv/CQTdjDUR8uSGZXdMgPZ7A1/original.m4a',normal_Male:'http://k-v1.kakaocdn.net/dn/cXPoNE/btqgLdpZ1XH/0kIcLNoARmcaqkhk2SHU4K/original.m4a',fast_Male:'http://k-v1.kakaocdn.net/dn/b66M8d/btqgLjKgomG/D2ix5CwksQaIhaKc9AfHL1/original.m4a',slow_Female:'http://k-v1.kakaocdn.net/dn/9mKZv/btqgLi5D021/JsjWeBVKUi4p9QRJq2yB40/original.m4a',normal_Female:'http://k-v1.kakaocdn.net/dn/l2fEG/btqgLdXP5vd/SuJrPdCJIMDyKW75c5vnk1/original.m4a',fast_Female:'http://k-v1.kakaocdn.net/dn/bn9fI7/btqgLkColIa/XkhP2boJTxpSGpaZ0Nnsjk/original.m4a'},l=document.querySelector('.util_view .tts_btn'),c=l.querySelectorAll('.list_tts input'),u=l.querySelector('.btn_tts'),d=l.querySelector('.ico_speak'),y=l.querySelector('.wrap_setlayer').querySelectorAll('.ico_newsview'),f=l.querySelector('#ttsPlayer');function m(){var e,t,n,r,o=(e=l.querySelector('input[name=ttsSpeed]:checked').value,t=l.querySelector('input[name=ttsGender]:checked').value,\"\".concat(e,\"_\").concat(t));f.setAttribute('src',s[o]),n=o,Cookies.set(a,'',{expires:-1}),Cookies.set(a,n,{domain:i,expires:new Date(1*new Date+365*864e5)}),r=o,u.className='btn_set btn_tts #util #tts #p_'+r}function p(e){'playOptions'==e?(m(),f.load(),f.play(),d.textContent='음성 기사 정지'):'play'==e?(f.load(),f.play(),d.textContent='음성 기사 정지'):(f[e](),d.textContent='음성 기사 듣기')}function v(){clearTimeout(n),t.classList.add('layer_open'),e.setAttribute('aria-expanded',!0)}function _(){r||(n=setTimeout(b,100))}function b(){t.classList.remove('layer_open'),e.setAttribute('aria-expanded',!1)}function L(e){e?t.classList.add('on'):t.classList.remove('on')}function h(e,t){document.getElementById(\"ttsSpeed\".concat(e)).checked=!0,document.getElementById(\"ttsGender\".concat(t)).checked=!0}t=(o={layer:l,btn:u,radios:c}).layer,e=o.btn,o=o.radios,r=!(n=0),t.addEventListener('mouseover',function(e){r=!0,v()}),t.addEventListener('mouseleave',function(e){r=!1,_()}),e.addEventListener('keydown',function(e){13===e.keyCode&&((r=!r)?v:b)()}),t.addEventListener('blur',function(e){r=!1,_()}),e.addEventListener('click',function(e){f.paused?(L(!0),p('play')):(L(!1),p('pause'))}),o.forEach(function(e){e.addEventListener('change',function(e){t.classList.add('on'),p('playOptions')}),e.addEventListener('blur',function(e){r=!1,_()}),e.addEventListener('focus',function(e){r=!0,v()})}),y=(o={icons:y,radios:c}).icons,c=o.radios,y.forEach(function(e){e.addEventListener('mouseover',function(e){this.classList.add('ico_focused')}),e.addEventListener('mouseleave',function(e){this.classList.remove('ico_focused')})}),c.forEach(function(e){e.addEventListener('focus',function(e){this.nextElementSibling.querySelector('span').classList.add('ico_focused')}),e.addEventListener('blur',function(e){this.nextElementSibling.querySelector('span').classList.remove('ico_focused')})}),f.addEventListener('ended',function(e){l.classList.remove('on')}),void 0===(o=Cookies.get(a))||o.includes('undefined')?h('Normal','Male'):(c=(y=_slicedToArray(o.split('_'),2))[0],y=y[1],h(c=(o=c).charAt(0).toUpperCase()+o.slice(1),y)),m()})();</script>\n",
      "<script>\"use strict\";!(function(){var n=document.createElement('DIV');n.innerHTML=\"\\n <div id=\\\"translatingLayer\\\" class=\\\"translate_layer\\\">\\n <div class=\\\"inner_translate_layer\\\">\\n <div class=\\\"layer_body\\\">\\n <strong class=\\\"tit_translate\\\">\\n 번역중 <span class=\\\"eng_tit\\\">Now in translation</span>\\n </strong>\\n </div>\\n </div>\\n </div>\\n\\n <div id=\\\"translateErrorLayer\\\" class=\\\"translate_layer\\\">\\n <div class=\\\"inner_translate_layer inner_error_layer\\\">\\n <div class=\\\"layer_body\\\">\\n <span class=\\\"ico_newsview ico_error\\\"></span>\\n <strong class=\\\"tit_translate\\\">\\n 잠시 후 다시 시도해 주세요 <span class=\\\"eng_tit\\\">Please try again in a moment</span>\\n </strong>\\n </div>\\n </div>\\n </div>\\n \",document.body.querySelector(\"#kakaoWrap\").appendChild(n)})();</script>\n",
      "<script>\"use strict\";function _toConsumableArray(e){return _arrayWithoutHoles(e)||_iterableToArray(e)||_unsupportedIterableToArray(e)||_nonIterableSpread()}function _nonIterableSpread(){throw new TypeError(\"Invalid attempt to spread non-iterable instance.\\nIn order to be iterable, non-array objects must have a [Symbol.iterator]() method.\")}function _unsupportedIterableToArray(e,t){if(e){if(\"string\"==typeof e)return _arrayLikeToArray(e,t);var n=Object.prototype.toString.call(e).slice(8,-1);return\"Object\"===n&&e.constructor&&(n=e.constructor.name),\"Map\"===n||\"Set\"===n?Array.from(e):\"Arguments\"===n||/^(?:Ui|I)nt(?:8|16|32)(?:Clamped)?Array$/.test(n)?_arrayLikeToArray(e,t):void 0}}function _iterableToArray(e){if(\"undefined\"!=typeof Symbol&&Symbol.iterator in Object(e))return Array.from(e)}function _arrayWithoutHoles(e){if(Array.isArray(e))return _arrayLikeToArray(e)}function _arrayLikeToArray(e,t){(null==t||t>e.length)&&(t=e.length);for(var n=0,r=new Array(t);n<t;n++)r[n]=e[n];return r}!(function(){var e,t,n,r,a=document.querySelector('.translate_btn'),o=a.querySelector('.btn_translate'),l=a.querySelector('.link_kakaoi'),s=a.querySelectorAll('.btn_lang'),i=document.getElementById('translatingLayer'),c=document.getElementById('translateErrorLayer'),y=document.getElementById('kakaoWrap');function u(){i.style.display='none',c.style.display='none',document.body.style.overflow=''}function d(){clearTimeout(e),t.classList.add('layer_open'),n.setAttribute('aria-expanded',!0)}function f(){t.classList.remove('layer_open'),n.setAttribute('aria-expanded',!1)}function p(){r||(e=setTimeout(f,1))}function m(e){var t=e.currentTarget.name;u(),i.style.display='block',document.body.style.overflow='hidden';try{HarmonyTranslator.translate('kr',t,_,b)}catch(e){console.error('번역 에러:',e)}}function _(e){var t=document.querySelector('#translateNotice'),e=e.targetLang;switch(e){case'en':case'id':y.classList.add('lang_type1'),y.classList.remove('lang_type2'),y.classList.remove('lang_type3');break;case'cn':case'jp':y.classList.remove('lang_type1'),y.classList.add('lang_type2'),y.classList.remove('lang_type3');break;case'vi':y.classList.remove('lang_type1'),y.classList.remove('lang_type2'),y.classList.add('lang_type3');break;default:y.classList.remove('lang_type1'),y.classList.remove('lang_type2'),y.classList.remove('lang_type3')}'kr'==e?(t.querySelectorAll('.notice_lang').forEach(function(e){e.style.display='none'}),t.style.display='none'):(t.querySelectorAll(\".notice_lang:not(.notice_lang_\".concat(e,\")\")).forEach(function(e){e.style.display='none'}),t.querySelector(\".notice_lang.notice_lang_\".concat(e)).style.display='block',t.style.display='block'),setTimeout(function(){u()},500)}function b(e,t){u(),c.style.display='block',document.body.style.overflow='hidden',setTimeout(function(){u()},2e3)}l={layer:a,btn:o,inputs:[l].concat(_toConsumableArray(s))},t=l.layer,n=l.btn,l=l.inputs,r=!1,n.addEventListener('click',function(){((r=!r)?d:p)()}),t.addEventListener('mouseover',function(){r=!0,d()}),t.addEventListener('mouseleave',function(){r=!1,f()}),l.forEach(function(e){e.addEventListener('focus',function(e){r=!0,d()}),e.addEventListener('blur',function(e){r=!1,p()})}),s.forEach(function(e){e.addEventListener('click',m)})})();</script>\n",
      "<script>\"use strict\";!(function(){var e,t=(o='잔금대출에도 DTI 규제 적용 검토',(c=document.createElement('div')).innerHTML=o,c.textContent),a='20170615203441266'||'nkhSoinQsa',n=\"\".concat(location.protocol,\"//\").concat(location.host,\"/v/\").concat(a),o=\"http://scrap.cafe.daum.net/_dss_/scrap?folder_id=100000&source_location_code=10&target_location_code=1&data_id=\".concat(a),c={shareType:'sendScrap',shareData:{requestUrl:n,templateId:7952,installTalk:!0,templateArgs:{'${EncodingUrl}':encodeURIComponent(n),'${webUrl}':n+'?f=p','${mobileWebUrl}':n+'?f=m'}}},r=document.querySelector('.share_btn'),i=document.getElementById('rSocialShareButton'),a=document.getElementById('rSocialShareLayerContainer'),d=new socialshareRenewal.Main(i,{moreViewContainer:a,action:'hover',link:n,prefix:t,service_name:'다음뉴스',cafe:o,kakaoAPI:{appkey:'53e566aa17534bc816eb1b5d8f7415ee',kakaoLinkData:c}}),s=!1;function l(){e=setTimeout(function(){s=!1,r.classList.remove('layer_open'),i.setAttribute('aria-expanded',!1),d.close()},100)}function u(){s=!0,m(),r.classList.add('layer_open'),i.setAttribute('aria-expanded',!0),d.open()}function m(){clearTimeout(e)}i.addEventListener('mouseenter',u),i.addEventListener('mouseleave',l),i.addEventListener('click',function(e){(s?l:u)()}),a.addEventListener('mouseenter',m),a.addEventListener('mouseleave',l),a.querySelectorAll('a').forEach(function(e){e.addEventListener('focus',m),e.addEventListener('blur',l)})})();</script>\n",
      "<script>\"use strict\";!(function(){var e,t,n,o,i=document.querySelector('.news_view'),s=document.querySelector('.font_btn'),c=s.querySelector('.btn_font'),r=s.querySelector('.list_font'),u=r.querySelectorAll('input'),a='GS_font_size',l='v.daum.net';function d(e){i.style.fontSize=\"\".concat(e,\"px\"),document.querySelector(\"#inpFont\".concat(e)).checked=!0,r.querySelectorAll('label').forEach(function(e){return e.classList.remove('on')}),r.querySelector(\"label[for=inpFont\".concat(e,\"]\")).classList.add('on'),e=e,Cookies.set(a,'',{expires:-1}),Cookies.set(a,e,{domain:l,expires:new Date(1*new Date+365*864e5)})}function f(){clearTimeout(e),t.classList.add('layer_open'),n.setAttribute('aria-expanded',!0)}function v(){t.classList.remove('layer_open'),n.setAttribute('aria-expanded',!1)}function p(){o&&(e=setTimeout(v,1))}d(Cookies.get(a)||17),u.forEach(function(e){e.addEventListener('change',function(e){d(e.target.value)})}),t=(c={layer:s,btn:c,inputs:u}).layer,n=c.btn,c=c.inputs,o=!1,t.addEventListener('mouseover',function(){o=!0,f()}),t.addEventListener('mouseleave',function(){o=!1,v()}),c.forEach(function(e){e.addEventListener('focus',f),e.addEventListener('blur',p)}),n.addEventListener('click',function(e){((o=!o)?f:v)()}),s={options:s.querySelectorAll('.ico_newsview'),inputs:u},u=s.options,s=s.inputs,u.forEach(function(e){e.addEventListener('mouseover',function(){this.classList.add('ico_focused')}),e.addEventListener('mouseleave',function(){this.classList.remove('ico_focused')})}),s.forEach(function(e){e.addEventListener('focus',function(){this.nextElementSibling.querySelector('span').classList.add('ico_focused')}),e.addEventListener('blur',function(){this.nextElementSibling.querySelector('span').classList.remove('ico_focused')})})})();</script>\n",
      "<script>\"use strict\";document.body.querySelector(\".btn_print\").parentNode.addEventListener(\"click\",function(t){t.preventDefault(),window.open('https://news.v.daum.net/v/20170615203441266?s=print_news','newsPrint','width=750,height=550,scrollbars=yes')});</script>\n",
      "<script src=\"//comment.daum.net/js/latest/alex.action.min.js\" type=\"text/javascript\"></script>\n",
      "<script>\"use strict\";!(function(){var s=\"20170615203441266\",e=\"\".concat(Conf.api.hadesRest,\"/pc_mc2_news?cate=\").concat(\"news\",\"&id=\").concat(s),a='<li class=\"on\"> <div class=\"inner_box\"><span class=\"link_txt\"><%= title %></span></div> </li>',i='<li> <div class=\"inner_box\"><a href=\"https://news.v.daum.net/v/<%= contentId %>\" class=\"link_txt\"><%= title %></a></div> </li>',c='//news.daum.net/series',r=document.querySelector('.relate_series'),o=r.querySelector('.title_series'),d=r.querySelector('.link_more'),l=r.querySelector('.list_series');function m(e){e&&e.parentNode.removeChild(e)}axios.get(e).then(function(e){var t,n=e.data.body.data.data;_.isEmpty(n)||'series'!==n[0].factor.type?m(r):(t=n[0],e=t.contents,n=t._id,t=t.title,e.length<3&&l.classList.add('relate_series2'),o.textContent=t,d.setAttribute('href',c+'/'+n),l.innerHTML=e.map(function(e){var t=e.contentId,e=e.title;return t==s?_.template(a)({title:e}):_.template(i)({contentId:t,title:e})}).join(''),(e=r)&&e.classList.remove('hide'))}).catch(function(e){console.error(\"[클러스터]: 데이터를 가져오는데 실패했습니다. 에러: \",e,\"에러 데이터: \",e.response.data),m(r)})})();</script>\n",
      "<script>\"use strict\";function cmRenderFailCallBack(e){e.parentElement.removeChild(e)}</script>\n",
      "<script>\"use strict\";document.addEventListener('DOMContentLoaded',function(){var t=\"\".concat(Conf.api.hadesRest)+\"/service_notice?id=\"+\"3393\",n=document.querySelector(\"#newsviewNotice\");axios.get(t).then(function(t){var e=t.data.body.data,t=e.noticeTitle,e=e.noticeUrl;null!==t?n.innerHTML=\"<strong class=\\\"tit_notice\\\">공지</strong><span class=\\\"txt_notice\\\"><a href=\\\"\".concat(e,\"\\\" class=\\\"link_txt\\\">\").concat(t,\"</a></span>\"):n.parentNode.removeChild(n)}).catch(function(t){console.log(\"댓글 공지 오류: \"+t),n.parentNode.removeChild(n)})});</script>\n",
      "<script src=\"//comment.daum.net/js/latest/alex.single.min.js\"></script>\n",
      "<script>\"use strict\";window.excludeCorejs=!1,window.alexConfig={label:{emptyImage:'//i1.daumcdn.net/img-section/enter2013/liveviewer/pc_emot_co.gif'},onLoad:function(){window.isLoadComment=!0}};</script>\n",
      "<script>\"use strict\";!(function(){var t,n,a=document.querySelector('.aside_popular'),e=document.querySelectorAll(\".tab_aside li a\"),i={\"뉴스\":\"news\",\"연예\":\"entertain\",\"스포츠\":\"sports\"},c={news:{el:e[0],korName:\"뉴스\",moreLink:\"https://news.daum.net/ranking/popular/all\"},entertain:{el:e[1],korName:\"연예\",moreLink:\"https://entertain.daum.net/ranking/popular\"},sports:{el:e[2],korName:\"스포츠\",moreLink:\"https://sports.daum.net/news/ranking\"}},r=c[\"news\"].el,l=1;function s(n){var e;r!==n&&((e=r.parentNode.querySelector(\".cont_aside\"))&&e.parentNode.removeChild(e),r.parentNode.classList.remove(\"on\"),n.parentNode.classList.add(\"on\"),l=1,o(n),r=n)}function o(n){var e=n.innerText,t=i[e],a=c[t].moreLink,s=document.createElement(\"div\"),t=d(t);function o(){var n=document.querySelector(\".cont_aside .list_ranking\"),e=r.innerText,e=i[e];l=this.classList.contains(\"btn_prev\")?1===l?3:l-1:3===l?1:l+1,n.innerHTML=d(e)}s.classList.add(\"cont_aside\"),s.innerHTML=\"\\n <strong class=\\\"screen_out\\\">\".concat(e,\"</strong>\\n <ol class=\\\"list_ranking\\\">\\n \").concat(t,\" \\n </ol>\\n <div class=\\\"util_aside\\\">\\n <button class=\\\"btn_slide btn_prev\\\"><span class=\\\"ico_newsview\\\">이전</span></button>\\n <button class=\\\"btn_slide btn_next\\\"><span class=\\\"ico_newsview\\\">다음</span></button>\\n <a href=\").concat(a,\" class=\\\"link_all\\\"><span class=\\\"txt_newsview\\\">전체 보기</span><span class=\\\"ico_newsview\\\"></span></a>\\n </div>\\n \"),n.parentNode.appendChild(s),s.querySelector(\".btn_prev\").addEventListener('click',o),s.querySelector(\".btn_next\").addEventListener('click',o)}function d(n){return c[n].contents.slice(10*(l-1),10*l).map(function(n){return\"\\n <li>\\n <em class=\\\"num_newsview num\".concat(n.index,\"\\\">\").concat(n.index,\"위</em>\\n <strong class=\\\"tit_g\\\"><a href=\\\"\").concat(n.pcLink,\"\\\" class=\\\"link_txt @\").concat(n.index,\"\\\">\").concat(n.title,\"</a></strong>\\n </li>\\n \")}).join('')}t=c,n=\"\".concat(Conf.api.hadesRest,\"/pc_popular_news?size=30\"),axios.get(n).then(function(n){var e=n.data.body.data;Object.keys(e).forEach(function(n){t[n].contents=e[n]}),o(r),a.classList.remove('hide')}).catch(function(n){a.parentNode.removeChild(a)}),e.forEach(function(n){n.addEventListener(\"mouseover\",function(n){return s(n.target)}),n.addEventListener(\"focus\",function(n){return s(n.target)})})})();</script>\n",
      "<script>\"use strict\";!(function(){var t=\"<li>\\n <a class=\\\"link_cont\\\" href=\\\"<%= url %>\\\">\\n <span class=\\\"wrap_thumb\\\">\\n <img class=\\\"thumb_g\\\" src=\\\"<%= thumbnail %>\\\" alt=\\\"\\\"/>\\n <span class=\\\"ico_phototv\\\">\\n <% if (type == 'photo') { %>\\n <span class=\\\"ico_newsview ico_photo\\\">포토</span>\\n <% } else { %>\\n <span class=\\\"ico_newsview ico_vod\\\">영상</span>\\n <% } %>\\n </span>\\n </span>\\n <strong class=\\\"tit_thumb\\\"><%= title %></strong>\\n </a>\\n </li>\",o=document.querySelector('.aside_phototv'),s=o.querySelector('.list_phototv'),n=\"\".concat(Conf.api.hadesRest,\"/pc_photo_tv\");function a(n){n&&n.parentNode.removeChild(n)}axios.get(n).then(function(n){n=n.data.body.data;_.isEmpty(n)?a(o):(s.innerHTML=n.map(function(n){return _.template(t)(n)}).join(''),(n=o)&&n.classList.remove('hide'))}).catch(function(n){console.error('[PC 뉴스 포토&TV]:',n),a(o)})})();</script>\n",
      "<script>\"use strict\";!(function(){var n='S570x320',e=\"20170615203441266\",t=encodeURIComponent(JSON.stringify({itemid:e,category:\"news\".replace('tain','')})),e={source:e},r=\"<a href=\\\"<%=obj.url%>\\\" class=\\\"link_cont\\\" data-itemid=\\\"<%=obj._id%>\\\"\\\" data-pos=\\\"<%=obj.pos%>\\\">\\n <span class=\\\"wrap_thumb\\\"><img src=\\\"<%=obj.thumbnail%>\\\" class=\\\"thumb_g\\\" alt=\\\"\\\"></span>\\n <strong class=\\\"tit_thumb\\\"><%=obj.title%></strong>\\n </a>\",o=\"<strong class=\\\"tit_g\\\">\\n <span class=\\\"info_news\\\"><%=obj.cp_name%></span>\\n <a href=\\\"<%=obj.url%>\\\" data-itemid=\\\"<%=obj._id%>\\\" data-pos=\\\"<%=obj.pos%>\\\" class=\\\"link_txt\\\"><%=obj.title%></a>\\n </strong>\",m=[];new Toros.Connector({url:'mediadaum/most_similar',queryParams:t,map:function(e){var t=e._id,a=e.title,i=e.image,e=e.cp_name,e={_id:t,url:\"https://v.daum.net/v/\".concat(t),title:a,thumbnail:StringUtil.makeThumbnail(i,n),cp_name:e};if(!(m.length<2&&i))return e;m.push(e)},svc:'mediadaum_sim',impLabel:'toros_mediadaum_sim_imp',impProps:e,viewLabel:'toros_mediadaum_sim_vimp',viewProps:e,clickLabel:'toros_mediadaum_sim_click',clickProps:e,customRender:function(e,i,n){var s=e.filter(function(e){return!!e._id});m.length<2||s.length<10?document.querySelector('.realtime_news').remove():document.querySelectorAll('.item_realtime_news').forEach(function(e,t){var a=t<2?{article:m.shift(),template:r}:{article:s.shift(),template:o},t=a.article,a=a.template;t?(e.insertAdjacentHTML('beforeend',_.template(a)(t)),e.classList.remove('item_realtime_news'),e.classList.length||e.removeAttribute('class'),t=e.querySelector('a'),i.observe(t),t.addEventListener('click',n)):e.remove()})}}).render()})();</script>\n",
      "<script>\"use strict\";function onFailEtcBottomAd(){var t;null!==(t=document.querySelector('.etc_bottom_ad'))&&void 0!==t&&t.remove()}</script>\n",
      "<script>\"use strict\";!(function(){var e=document.querySelector(\".direct_link\");e.querySelector(\".btn_fold\").addEventListener('click',function(){e.classList.toggle(\"direct_open\")})})();</script>\n",
      "<script>\n",
      "    window.minidaum_options = JSON.parse('{\"bgType\":\"white\",\"enableLogoutRetun\":true,\"returnUrl\":\"\",\"disableHotissue\":false,\"disableLogo\":false,\"disableTracker\":true,\"enableTopLink\":false}');\n",
      "</script>\n",
      "<script src=\"https://go.daum.net/minidaum_pc.daum\"></script>\n",
      "<script>\"use strict\";document.querySelectorAll('.kakao_ad_area').forEach(function(a){a.setAttribute('data-ad-param-channel','harmony'),a.setAttribute('data-ad-param-cp','49_pc_media_news')});</script>\n",
      "<script>\"use strict\";!(function(){var e,t,i,c='<div class=\"direct_view\" style=\"top:<%= top %>px; width:<%= width %>px; margin-left:<%= left %>px\"> <a href=\"<%= url %>\" class=\"link_view\"> <span class=\"txt_g\"><%= title %></span> <span class=\"ico_view\"> <span class=\"ico_newsview ico_gallery\">갤러리 이동</span> </span> </a> </div>';e='nkhSoinQsa',!(t='')||(i=document.querySelector('img[dmcf-mtype=\"image\"]'))&&!i.querySelector('.direct_vod')&&axios.get(\"\".concat(Conf.api.hadesRest,\"/photo_gallery_link_info?docId=\").concat(e,\"&galleryId=\").concat(parseInt(t,10))).then(function(e){var t,a=e.data.body.data;t=i,a=(e=a).title,e=e.pcLink,a&&e&&(e={title:a,url:e,top:t.clientHeight-62,width:a=t.clientWidth,left:a/2*-1},a=document.createElement('div'),t.parentNode.appendChild(a),a.outerHTML=_.template(c)(e))})})();</script>\n",
      "<script src=\"//search1.daumcdn.net/search/statics/common/js/g/search_dragselection.min.js\"></script>\n",
      "<script>\"use strict\";!(function(){var e=document.querySelector(\".head_media\"),n=document.getElementById(\"wrapMinidaum\").offsetHeight+e.offsetHeight,o=document.getElementById(\"barProgress\"),d=document.getElementById(\"mAside\"),s=document.getElementById(\"kakaoWrap\"),l=document.getElementById(\"kakaoGnb\"),r=document.getElementById(\"mArticle\"),a=document.querySelector(\".cmt_news\"),c=document.querySelector(\".aside_ad:first-child\"),f=document.querySelector(\".aside_ad:last-child\"),g=document.getElementById('realtime_aside');function t(){var e=window.scrollY||window.pageYOffset,t=document.body.offsetHeight,i=window.innerHeight;n<e?(i=100*e/(t-i),s.classList.add(\"header_fixed\"),o.style.width=parseInt(i,10)+\"%\"):s.classList.remove(\"header_fixed\")}function i(){var e=window.scrollX||window.pageXOffset,t=cMain.clientWidth,i=r.clientWidth,n=t-i-d.clientWidth,o=getComputedStyle(cMain),s=null;s=g?(t=g.getBoundingClientRect().left)<880?t+e:t:i+n+parseInt(o['marginLeft'],10)-e,r.offsetHeight<d.offsetHeight||(a.style.minHeight='250px',0<(n=(window.scrollY||window.pageYOffset)-cMain.offsetTop-8-c.clientHeight)?(o=r.offsetHeight-a.offsetHeight,(e=d.offsetHeight-f.offsetHeight)+n+8<o?(d.style.position='fixed',d.style.top=l.clientHeight-c.offsetHeight-74+'px',d.style.left=s+'px'):(d.style.position='relative',d.style.top=o-e+'px',d.style.left='inherit')):(d.style.position='static',d.style.top='inherit',d.style.left='inherit'))}'false'!='true'&&'news'=='news'?(window.addEventListener(\"resize\",_.throttle(i,100)),window.addEventListener(\"scroll\",_.throttle(function(){t(),i()},100)),t(),i()):(window.addEventListener(\"scroll\",_.throttle(function(){t()},100)),t())})();</script>\n",
      "<script src=\"//t1.daumcdn.net/tiara/js/v1/tiara.min.js\" type=\"text/javascript\"></script>\n",
      "<script>\"use strict\";!(function(){if(window.TiaraTracker){var c=!1,s=new Date,m=\"pc_news\",l=null;try{l=Cookies.get('DAUMTOP')||Cookies.get('HARMONY_TOROS_IMP')&&window.atob(Cookies.get('HARMONY_TOROS_IMP'))}catch(e){l=Cookies.get('DAUMTOP')}var u='',g='',y=TiaraTracker.getInstance().setSvcDomain(\"media.daum.net\").setPage(\"newsview\").trackPage(\"newsview\").setSection(\"economic\").setEnableAlwaysImage(!0),f={id:\"20170615203441266\",type:\"article\",name:\"\\uC794\\uAE08\\uB300\\uCD9C\\uC5D0\\uB3C4 DTI \\uADDC\\uC81C \\uC801\\uC6A9 \\uAC80\\uD1A0\",category_id:\"1041\",category:\"economic\",author:\"\\uAE40\\uB3D9\\uC6B1\",author_id:\"kdw1280@hankookilbo.com\",provider:\"\\uD55C\\uAD6D\\uC77C\\uBCF4\",provider_id:\"49\",regdate:\"2017-06-15 20:34:40\",plink:\"https://media.daum.net/v/20170615203441266\",image:\"https://t1.daumcdn.net/news/201706/15/hankooki/20170615044256378kzbd.jpg\",harmony_consumer_id:\"media\",media:\"pcweb\"},p={contentUniqueKey:\"hamny-\".concat(f.id),docId:\"nkhSoinQsa\",harmony_consumer_id:\"media\",media:\"pcweb\",reg_dt:\"2017-06-15 20:34:40\",reg_timestamp:\"1497526480954\"},e=function(){c||y.actionKind(\"ViewContent\").pageMeta(f).customProps(p).track()},t=function(){if(!c){c=!0;var e=document.body.scrollHeight,t=window.scrollY,a=e-t,o=window.innerHeight,n=Math.round(t/(e-o)*100),i={},o={duration:(new Date).getTime()-s.getTime(),scroll_percent:n,scroll_height:e,scroll_top:t,scroll_bottom:a,scroll_inner_height:o};try{var d,r=!1;!l||(d=JSON.parse(l)).contents_unique_key===p.contentUniqueKey&&(i={toros_imp_id:d.impression_id,toros_file_hash_key:d.toros_file_hash_key,toros_user_id_type:\"uuid\",toros_page_meta_id:p.contentUniqueKey,toros_event_meta_id:p.contentUniqueKey,toros_action_type:\"dwelltime\"},Cookies.remove('HARMONY_TOROS_IMP',{path:'/',domain:location.hostname.substring(location.hostname.indexOf('.'))}),Cookies.remove('DAUMTOP',{path:'/',domain:'.daum.net'}),r=!0),!r&&0<u.length&&(i={toros_imp_id:window.atob(u),toros_file_hash_key:window.atob(g),toros_user_id_type:\"uuid\",toros_page_meta_id:p.contentUniqueKey,toros_event_meta_id:p.contentUniqueKey,toros_action_type:\"dwelltime\"})}catch(e){}y.trackUsage().actionKind(\"UsagePage\").pageMeta(f).usage(o).customProps(_.assignIn(p,i)).track()}};\"onpagehide\"in window?(window.addEventListener(\"pageshow\",e,!1),window.addEventListener(\"pagehide\",t,!1)):(window.addEventListener(\"load\",e,!1),window.addEventListener(\"unload\",t,!1)),document.addEventListener(\"visibilitychange\",function(){(document[\"hidden\"]?t:e)()},!1),document.addEventListener(\"mousedown\",function(e){var t,a,o,n,i,d,r=e.target,c=r.closest(\"[data-cloud]\"),s=r.closest(\"a\")||r.closest(\"button\")||r.closest('div.selectionbox');s&&null!=c&&c.contains(s)&&((i=TiaraTracker.getClickInfo(e))&&(a=(null==(t=i.action)?void 0:t.name)||\"\",o=(null==t?void 0:t.kind)||\"\",n=_.assignIn(p,i.customProps),i=r.closest(\"[data-tiara]\"),r=s.querySelector(\"img\"),d=0,Array.from((c||i).querySelectorAll(\"a, button\")).map(function(e,t){e==s&&(d=t)}),e={layer1:m,layer2:c.dataset.cloud,layer3:(null==i?void 0:i.dataset.tiara)||\"\",click_url:s.href||\"\",ordnum:d,copy:s.classList.contains('selectionbox')?null==t?void 0:t.name:s.innerText,image:(null==r?void 0:r.src)||\"\",posX:e.clientX,posY:e.clientY},y.trackEvent(a).pageMeta(f).actionKind(o).customProps(n).click(e).track()))})}})();</script>\n",
      "</body>\n",
      "</html>\n"
     ]
    }
   ],
   "source": [
    "print(soup) # 파서가 문자열을 분석해서 보기 편하게 만듦"
   ]
  },
  {
   "cell_type": "code",
   "execution_count": 4,
   "id": "7acc47ad",
   "metadata": {},
   "outputs": [
    {
     "name": "stdout",
     "output_type": "stream",
     "text": [
      "금융당국이 급증하는 가계부채 증가세를 막기 위해 아파트 잔금대출에도 소득을 따져 대출한도를 정하는 총부채상환비율(DTI)을 적용하는 방안을 유력하게 검토하고 있다.\n",
      "지금은 집값을 기준으로 대출한도를 매기는 주택담보인정비율(LTV) 규제만 적용돼 소득이 없어도 집값의 70%를 빌려 잔금을 치르는 게 가능하다.\n",
      "앞으로 잔금대출에 DTI가 적용되면 소득이 없는 사람은 집값의 70% 대출 받는 게 어려워진다.\n",
      "Translated by kakao i\n",
      "내주 부동산 종합대책 발표\n",
      "집값 상승 노린 투기 분양 차단\n",
      "LTVㆍDTI 규제 다시 강화할 듯\n",
      "저소득 실수요자 피해 우려도\n",
      "\n",
      "금융당국이 급증하는 가계부채 증가세를 막기 위해 아파트 잔금대출에도 소득을 따져 대출한도를 정하는 총부채상환비율(DTI)을 적용하는 방안을 유력하게 검토하고 있다. 지금은 집값을 기준으로 대출한도를 매기는 주택담보인정비율(LTV) 규제만 적용돼 소득이 없어도 집값의 70%를 빌려 잔금을 치르는 게 가능하다. 앞으로 잔금대출에 DTI가 적용되면 소득 없는 사람이 입주 뒤 집값 상승을 노리고 분양시장에 뛰어드는 게 사실상 불가능해진다. \n",
      "금융당국 고위관계자는 15일 “잔금대출에도 DTI를 적용하는 방안을 검토 중”이라며 “다만 아직 최종 결론이 난 건 아니다”고 말했다. 정부는 내주 이 같은 내용을 포함한 부동산 종합 대책을 발표할 예정이다. \n",
      "정부가 잔금대출 DTI 적용 카드를 꺼내는 건, 집단대출을 잡지 않고선 과열된 주택시장을 진정시키기 어렵다는 판단에서다. 실제 정부는 지난해 잔금대출도 대출 초기부터 원리금을 함께 갚도록 하는 여신심사 가이드라인을 도입했지만 이렇다 할 효과를 거두지 못했다. 오히려 정부 대책에도 불구, 집단대출 증가액은 매달 늘어나는 추세인데 지난달엔 2조원으로 올 들어 최고치를 기록했다. \n",
      "아파트 분양 집단대출은 중도금과 잔금대출로 구분된다. 계약금 10%를 내면 입주 전까지 집값의 60%를 중도금 대출로 받을 수 있다. 중도금 대출은 건설사 보증으로 이뤄져 소득심사를 안 거친다. 잔금대출은 건설사가 아닌 집을 담보로 이뤄지는 대출이다. LTV 규제만 적용돼 소득이 없어도 집값의 70%까지 대출이 가능하다. 때문에 지금은 잔금대출로 집값의 70%를 대출받아 기존 중도금 대출을 갚고 나머지 20%만 본인 돈으로 충당하면 집을 살 수 있다.\n",
      "앞으로 잔금대출에 DTI가 적용되면 소득이 없는 사람은 집값의 70% 대출 받는 게 어려워진다. 입주 뒤 집값 상승을 노리는 투기수요를 확실히 걸러낼 초강력 대책이 될 수 있다. 하지만 부작용도 우려된다. 소득이 낮은 사회초년생 등은 청약통장을 갖고도 분양시장에 진입하는 게 어려워지기 때문이다. \n",
      "이에 따라 잔금대출에 DTI를 적용하는 것 역시 지역 등에 따라 선별적으로 이뤄질 가능성이 높다. 현재 당국은 신규 분양 물량부터 규제를 적용할지 아니면 기존 분양 물량까지 규제 범위를 확대할지를 놓고 시뮬레이션을 하고 있다. \n",
      "아울러 당국은 지난 2년간 완화됐던 LTV와 DTI를 다시 강화할 것으로 보인다. 현재 LTV(은행 기준)는 기존 50~60%에서 70%, DTI는 50~60%에서 60%로 완화돼 있는 상태다. 당국은 일괄적인 조이기보다 지역ㆍ집값 수준별로 기준을 다르게 적용하는 방식을 모색할 것으로 보인다.\n",
      "김동욱 기자 kdw1280@hankookilbo.com\n",
      "ⓒ한국일보 www.hankookilbo.com (무단복제 및 전재, 재배포를 금지합니다)\n",
      "해당 언론사로 연결됩니다.\n"
     ]
    }
   ],
   "source": [
    "paragraph_data = soup.find_all('p')\n",
    "\n",
    "for paragraph in paragraph_data:\n",
    "    print(paragraph.get_text())"
   ]
  },
  {
   "cell_type": "code",
   "execution_count": 5,
   "id": "7e06b23b",
   "metadata": {},
   "outputs": [
    {
     "name": "stdout",
     "output_type": "stream",
     "text": [
      "웹페이지에서 필요한 데이터를 추출하는 것\n"
     ]
    }
   ],
   "source": [
    "from bs4 import BeautifulSoup\n",
    "html =      \"<html> \\\n",
    "                <body> \\\n",
    "                        <h1 id='title'>[1]크롤링이란?</h1> \\\n",
    "                        <p class='cssstyle'>웹페이지에서 필요한 데이터를 추출하는 것</p> \\\n",
    "                        <p id='body' align='center'>파이썬을 중심으로 다양한 웹크롤링 기술 발달</p> \\\n",
    "                </body> \\\n",
    "            </html>\"\n",
    "soup = BeautifulSoup(html, \"html.parser\")\n",
    "\n",
    "# 태그로 검색 방법\n",
    "#data = soup.find('p', class_='cssstyle')\n",
    "#data = soup.find('p', 'cssstyle')\n",
    "#data = soup.find('p', attrs = {'align':'center'})\n",
    "#data = soup.find(id='body')\n",
    "\n",
    "data = soup.find('p')\n",
    "print(data.string)"
   ]
  },
  {
   "cell_type": "code",
   "execution_count": 6,
   "id": "f019af82",
   "metadata": {},
   "outputs": [
    {
     "name": "stdout",
     "output_type": "stream",
     "text": [
      "웹페이지에서 필요한 데이터를 추출하는 것\n",
      "파이썬을 중심으로 다양한 웹크롤링 기술 발달\n"
     ]
    }
   ],
   "source": [
    "html =      \"<html> \\\n",
    "                <body> \\\n",
    "                        <h1 id='title'>[1]크롤링이란?</h1> \\\n",
    "                        <p class='cssstyle'>웹페이지에서 필요한 데이터를 추출하는 것</p> \\\n",
    "                        <p id='body' align='center'>파이썬을 중심으로 다양한 웹크롤링 기술 발달</p> \\\n",
    "                </body> \\\n",
    "            </html>\"\n",
    "\n",
    "paragraph_data = soup.find_all('p')\n",
    "\n",
    "for paragraph in paragraph_data:\n",
    "    print(paragraph.get_text())"
   ]
  },
  {
   "cell_type": "code",
   "execution_count": 7,
   "id": "50614637",
   "metadata": {},
   "outputs": [
    {
     "name": "stdout",
     "output_type": "stream",
     "text": [
      "2017. 06. 15. 20:34\n"
     ]
    }
   ],
   "source": [
    "import requests\n",
    "from bs4 import BeautifulSoup\n",
    "\n",
    "res = requests.get('http://v.media.daum.net/v/20170615203441266')\n",
    "soup = BeautifulSoup(res.content, 'html.parser')\n",
    "data = soup.find('span','num_date')\n",
    "print(data.get_text())"
   ]
  },
  {
   "cell_type": "code",
   "execution_count": 8,
   "id": "edfd9b12",
   "metadata": {},
   "outputs": [
    {
     "name": "stdout",
     "output_type": "stream",
     "text": [
      "잔금대출에도 DTI 규제 적용 검토\n"
     ]
    }
   ],
   "source": [
    "data = soup.find('h3','tit_view')\n",
    "print(data.get_text())"
   ]
  },
  {
   "cell_type": "code",
   "execution_count": 9,
   "id": "952e23b0",
   "metadata": {},
   "outputs": [
    {
     "name": "stdout",
     "output_type": "stream",
     "text": [
      "김동욱\n"
     ]
    }
   ],
   "source": [
    "data = soup.find('span', 'txt_info')\n",
    "print(data.get_text())"
   ]
  },
  {
   "cell_type": "code",
   "execution_count": 10,
   "id": "f86ff96f",
   "metadata": {},
   "outputs": [
    {
     "name": "stdout",
     "output_type": "stream",
     "text": [
      "김동욱\n",
      "입력 2017. 06. 15. 20:34\n",
      "수정 2017. 06. 15. 21:31\n"
     ]
    }
   ],
   "source": [
    "data = soup.find_all('span', 'txt_info')\n",
    "for item in data:\n",
    "    print(item.get_text())"
   ]
  },
  {
   "cell_type": "code",
   "execution_count": 11,
   "id": "fbd5f022",
   "metadata": {},
   "outputs": [
    {
     "name": "stdout",
     "output_type": "stream",
     "text": [
      "입력 2017. 06. 15. 20:34\n"
     ]
    }
   ],
   "source": [
    "data = soup.find_all('span', 'txt_info')\n",
    "print(data[1].get_text())"
   ]
  },
  {
   "cell_type": "code",
   "execution_count": 12,
   "id": "5c566002",
   "metadata": {},
   "outputs": [
    {
     "name": "stdout",
     "output_type": "stream",
     "text": [
      "\n",
      "금융당국이 급증하는 가계부채 증가세를 막기 위해 아파트 잔금대출에도 소득을 따져 대출한도를 정하는 총부채상환비율(DTI)을 적용하는 방안을 유력하게 검토하고 있다.\n",
      "지금은 집값을 기준으로 대출한도를 매기는 주택담보인정비율(LTV) 규제만 적용돼 소득이 없어도 집값의 70%를 빌려 잔금을 치르는 게 가능하다.\n",
      "앞으로 잔금대출에 DTI가 적용되면 소득이 없는 사람은 집값의 70% 대출 받는 게 어려워진다. 기사 제목과 주요 문장을 기반으로 자동요약한 결과입니다. 전체 맥락을 이해하기 위해서는 본문 보기를 권장합니다.\n",
      "\n"
     ]
    }
   ],
   "source": [
    "data = soup.find('div', 'layer_util layer_summary')\n",
    "print(data.get_text())"
   ]
  },
  {
   "cell_type": "code",
   "execution_count": 13,
   "id": "c03c8c88",
   "metadata": {
    "scrolled": true
   },
   "outputs": [
    {
     "name": "stdout",
     "output_type": "stream",
     "text": [
      "(왕초보) - 클래스 소개\n",
      "(왕초보) - 블로그 개발 필요한 준비물 준비하기\n",
      "(왕초보) - Github pages 설정해서 블로그 첫 페이지 만들어보기\n",
      "(왕초보) - 초간단 페이지 만들어보기\n",
      "(왕초보) - 이쁘게 테마 적용해보기\n",
      "(왕초보) - 마크다운 기초 이해하고, 실제 나만의 블로그 페이지 만들기\n",
      "(왕초보) - 다양한 마크다운 기법 익혀보며, 나만의 블로그 페이지 꾸며보기\n",
      "(초급) - 강사가 실제 사용하는 자동 프로그램 소개 [2]\n",
      "(초급) - 필요한 프로그램 설치 시연 [5]\n",
      "(초급) - 데이터를 엑셀 파일로 만들기 [9]\n",
      "(초급) -     엑셀 파일 이쁘게! 이쁘게! [8]\n",
      "(초급) -     나대신 주기적으로 파이썬 프로그램 실행하기 [7]\n",
      "(초급) - 파이썬으로 슬랙(slack) 메신저에 글쓰기 [40]\n",
      "(초급) - 웹사이트 변경사항 주기적으로 체크해서, 메신저로 알람주기 [12]\n",
      "(초급) - 네이버 API 사용해서, 블로그에 글쓰기 [42]\n",
      "(중급) - 자동으로 쿠팡파트너스 API 로 가져온 상품 정보, 네이버 블로그/트위터에 홍보하기 [412]\n"
     ]
    }
   ],
   "source": [
    "import requests\n",
    "from bs4 import BeautifulSoup\n",
    "\n",
    "res = requests.get('https://davelee-fun.github.io/blog/crawl_test')\n",
    "soup = BeautifulSoup(res.content, 'html.parser')\n",
    "titles = soup.find_all('li','course')\n",
    "for title in titles:\n",
    "    print(title.get_text())"
   ]
  },
  {
   "cell_type": "code",
   "execution_count": 14,
   "id": "2b8ead61",
   "metadata": {},
   "outputs": [
    {
     "name": "stdout",
     "output_type": "stream",
     "text": [
      "(왕초보) - 클래스 소개\n",
      "(왕초보) - 블로그 개발 필요한 준비물 준비하기\n",
      "(왕초보) - Github pages 설정해서 블로그 첫 페이지 만들어보기\n",
      "(왕초보) - 초간단 페이지 만들어보기\n",
      "(왕초보) - 이쁘게 테마 적용해보기\n",
      "(왕초보) - 마크다운 기초 이해하고, 실제 나만의 블로그 페이지 만들기\n",
      "(왕초보) - 다양한 마크다운 기법 익혀보며, 나만의 블로그 페이지 꾸며보기\n"
     ]
    }
   ],
   "source": [
    "import requests\n",
    "from bs4 import BeautifulSoup\n",
    "\n",
    "res = requests.get('https://davelee-fun.github.io/blog/crawl_test')\n",
    "soup = BeautifulSoup(res.content, 'html.parser')\n",
    "\n",
    "section = soup.find('ul', id='hobby_course_list')\n",
    "titles = section.find_all('li','course')\n",
    "for title in titles:\n",
    "    print(title.get_text())"
   ]
  },
  {
   "cell_type": "code",
   "execution_count": 15,
   "id": "0fa55979",
   "metadata": {},
   "outputs": [
    {
     "name": "stdout",
     "output_type": "stream",
     "text": [
      "(초급) - 강사가 실제 사용하는 자동 프로그램 소개 [2]\n",
      "(초급) - 필요한 프로그램 설치 시연 [5]\n",
      "(초급) - 데이터를 엑셀 파일로 만들기 [9]\n",
      "(초급) -     엑셀 파일 이쁘게! 이쁘게! [8]\n",
      "(초급) -     나대신 주기적으로 파이썬 프로그램 실행하기 [7]\n",
      "(초급) - 파이썬으로 슬랙(slack) 메신저에 글쓰기 [40]\n",
      "(초급) - 웹사이트 변경사항 주기적으로 체크해서, 메신저로 알람주기 [12]\n",
      "(초급) - 네이버 API 사용해서, 블로그에 글쓰기 [42]\n",
      "(중급) - 자동으로 쿠팡파트너스 API 로 가져온 상품 정보, 네이버 블로그/트위터에 홍보하기 [412]\n"
     ]
    }
   ],
   "source": [
    "import requests\n",
    "from bs4 import BeautifulSoup\n",
    "\n",
    "res = requests.get('https://davelee-fun.github.io/blog/crawl_test')\n",
    "soup = BeautifulSoup(res.content, 'html.parser')\n",
    "\n",
    "section = soup.find('ul', id='dev_course_list')\n",
    "titles = section.find_all('li','course')\n",
    "for title in titles:\n",
    "    print(title.get_text())"
   ]
  },
  {
   "cell_type": "code",
   "execution_count": 16,
   "id": "c80f34bf",
   "metadata": {},
   "outputs": [
    {
     "name": "stdout",
     "output_type": "stream",
     "text": [
      "1. 클래스 소개\n",
      "2. 블로그 개발 필요한 준비물 준비하기\n",
      "3. Github pages 설정해서 블로그 첫 페이지 만들어보기\n",
      "4. 초간단 페이지 만들어보기\n",
      "5. 이쁘게 테마 적용해보기\n",
      "6. 마크다운 기초 이해하고, 실제 나만의 블로그 페이지 만들기\n",
      "7. 다양한 마크다운 기법 익혀보며, 나만의 블로그 페이지 꾸며보기\n"
     ]
    }
   ],
   "source": [
    "import requests\n",
    "from bs4 import BeautifulSoup\n",
    "\n",
    "res = requests.get('https://davelee-fun.github.io/blog/crawl_test')\n",
    "soup = BeautifulSoup(res.content, 'html.parser')\n",
    "\n",
    "section = soup.find('ul', id='hobby_course_list')\n",
    "titles = section.find_all('li','course')\n",
    "for index, title in enumerate(titles):\n",
    "    print(str(index + 1)+'.', title.get_text().split('-')[1].split('[')[0].strip())"
   ]
  },
  {
   "cell_type": "markdown",
   "id": "8048525a",
   "metadata": {},
   "source": [
    "##### print(str(index + 1)+'.'\n",
    "- . 과 달리 index +1 은 숫자라서 같은 문자열로 통합한다는 뜻\n",
    "##### title.get_text().split('-')[1].split('[')[0].strip())\n",
    "-.split 는 문자열을 나누는 파이썬 함수!\n",
    "###### title.get_text().split('-')[1]\n",
    "- .split('-')[1] =  - 를 기준으로 리스트를 생성해서 나눈 문자열 중에 2번째 값 선택\n",
    "- ex) (초급) - 강사가 실제 사용하는 자동 프로그램 소개 [2] 가 있다면 ['(초급)', '강사가 실제로 사용하는 어쩌구']\n",
    "##### .split('[')[0]\n",
    "- .split('[')[0] = [ 를 기준으로 리스트를 생성해서 나눈 문자열 중에 1번째 값 선택\n",
    "- ex) 위의 .split('-')[1]이 이미 적용되어 있으므로 나오는 리스트의 모양은 ['강사가 실제로 사용하는 어쩌구', 'n]']\n",
    "##### .strip())\n",
    "- .strip()은 문자열에 있는 연속된 모든 공백을 삭제"
   ]
  },
  {
   "cell_type": "code",
   "execution_count": 17,
   "id": "b598cdd1",
   "metadata": {},
   "outputs": [
    {
     "name": "stdout",
     "output_type": "stream",
     "text": [
      "잔재미코딩 크롤링 테스트 페이지 (커리큘럼)\n"
     ]
    }
   ],
   "source": [
    "import requests\n",
    "from bs4 import BeautifulSoup\n",
    "\n",
    "res = requests.get('https://davelee-fun.github.io/blog/crawl_test_css.html')\n",
    "soup = BeautifulSoup(res.content, 'html.parser')\n",
    "items = soup.select('h1')\n",
    "for item in items:\n",
    "    print(item.get_text())"
   ]
  },
  {
   "cell_type": "code",
   "execution_count": 18,
   "id": "b3296a55",
   "metadata": {},
   "outputs": [
    {
     "name": "stdout",
     "output_type": "stream",
     "text": [
      "잔재미코딩 크롤링 테스트 페이지 (커리큘럼)\n"
     ]
    }
   ],
   "source": [
    "import requests\n",
    "from bs4 import BeautifulSoup\n",
    "\n",
    "res = requests.get('https://davelee-fun.github.io/blog/crawl_test_css.html')\n",
    "soup = BeautifulSoup(res.content, 'html.parser')\n",
    "items = soup.select('html body h1')\n",
    "for item in items:\n",
    "    print(item.get_text())"
   ]
  },
  {
   "cell_type": "code",
   "execution_count": 19,
   "id": "04a67e13",
   "metadata": {},
   "outputs": [
    {
     "name": "stdout",
     "output_type": "stream",
     "text": [
      "(왕초보) - 클래스 소개\n",
      "(왕초보) - 블로그 개발 필요한 준비물 준비하기\n",
      "(왕초보) - Github pages 설정해서 블로그 첫 페이지 만들어보기\n",
      "(왕초보) - 초간단 페이지 만들어보기\n",
      "(왕초보) - 이쁘게 테마 적용해보기\n",
      "(왕초보) - 마크다운 기초 이해하고, 실제 나만의 블로그 페이지 만들기\n",
      "(왕초보) - 다양한 마크다운 기법 익혀보며, 나만의 블로그 페이지 꾸며보기\n",
      "(초급) - 강사가 실제 사용하는 자동 프로그램 소개 [2]\n",
      "(초급) - 필요한 프로그램 설치 시연 [5]\n",
      "(초급) - 데이터를 엑셀 파일로 만들기 [9]\n",
      "(초급) -     엑셀 파일 이쁘게! 이쁘게! [8]\n",
      "(초급) -     나대신 주기적으로 파이썬 프로그램 실행하기 [7]\n",
      "(초급) - 파이썬으로 슬랙(slack) 메신저에 글쓰기 [40]\n",
      "(초급) - 웹사이트 변경사항 주기적으로 체크해서, 메신저로 알람주기 [12]\n",
      "(초급) - 네이버 API 사용해서, 블로그에 글쓰기 [42]\n",
      "(중급) - 자동으로 쿠팡파트너스 API 로 가져온 상품 정보, 네이버 블로그/트위터에 홍보하기 [412]\n"
     ]
    }
   ],
   "source": [
    "import requests\n",
    "from bs4 import BeautifulSoup\n",
    "\n",
    "res = requests.get('https://davelee-fun.github.io/blog/crawl_test_css.html')\n",
    "soup = BeautifulSoup(res.content, 'html.parser')\n",
    "items = soup.select('ul > li')\n",
    "for item in items:\n",
    "    print(item.get_text())"
   ]
  },
  {
   "cell_type": "code",
   "execution_count": 20,
   "id": "ac4e24e3",
   "metadata": {},
   "outputs": [
    {
     "name": "stdout",
     "output_type": "stream",
     "text": [
      "(왕초보) - 클래스 소개\n",
      "(왕초보) - 블로그 개발 필요한 준비물 준비하기\n",
      "(왕초보) - Github pages 설정해서 블로그 첫 페이지 만들어보기\n",
      "(왕초보) - 초간단 페이지 만들어보기\n",
      "(왕초보) - 이쁘게 테마 적용해보기\n",
      "(왕초보) - 마크다운 기초 이해하고, 실제 나만의 블로그 페이지 만들기\n",
      "(왕초보) - 다양한 마크다운 기법 익혀보며, 나만의 블로그 페이지 꾸며보기\n",
      "(초급) - 강사가 실제 사용하는 자동 프로그램 소개 [2]\n",
      "(초급) - 필요한 프로그램 설치 시연 [5]\n",
      "(초급) - 데이터를 엑셀 파일로 만들기 [9]\n",
      "(초급) -     엑셀 파일 이쁘게! 이쁘게! [8]\n",
      "(초급) -     나대신 주기적으로 파이썬 프로그램 실행하기 [7]\n",
      "(초급) - 파이썬으로 슬랙(slack) 메신저에 글쓰기 [40]\n",
      "(초급) - 웹사이트 변경사항 주기적으로 체크해서, 메신저로 알람주기 [12]\n",
      "(초급) - 네이버 API 사용해서, 블로그에 글쓰기 [42]\n",
      "(중급) - 자동으로 쿠팡파트너스 API 로 가져온 상품 정보, 네이버 블로그/트위터에 홍보하기 [412]\n"
     ]
    }
   ],
   "source": [
    "import requests\n",
    "from bs4 import BeautifulSoup\n",
    "\n",
    "res = requests.get('https://davelee-fun.github.io/blog/crawl_test_css.html')\n",
    "soup = BeautifulSoup(res.content, 'html.parser')\n",
    "items = soup.select('.course')\n",
    "for item in items:\n",
    "    print(item.get_text())\n",
    "    \n",
    "# 클래스 이름 하고 싶으면 .course"
   ]
  },
  {
   "cell_type": "code",
   "execution_count": 21,
   "id": "88e9d6ae",
   "metadata": {},
   "outputs": [
    {
     "name": "stdout",
     "output_type": "stream",
     "text": [
      "(왕초보) - 클래스 소개\n",
      "(왕초보) - 블로그 개발 필요한 준비물 준비하기\n",
      "(왕초보) - Github pages 설정해서 블로그 첫 페이지 만들어보기\n",
      "(왕초보) - 초간단 페이지 만들어보기\n",
      "(왕초보) - 이쁘게 테마 적용해보기\n",
      "(왕초보) - 마크다운 기초 이해하고, 실제 나만의 블로그 페이지 만들기\n",
      "(왕초보) - 다양한 마크다운 기법 익혀보며, 나만의 블로그 페이지 꾸며보기\n"
     ]
    }
   ],
   "source": [
    "import requests\n",
    "from bs4 import BeautifulSoup\n",
    "\n",
    "res = requests.get('https://davelee-fun.github.io/blog/crawl_test_css.html')\n",
    "soup = BeautifulSoup(res.content, 'html.parser')\n",
    "items = soup.select('#start')\n",
    "for item in items:\n",
    "    print(item.get_text())"
   ]
  },
  {
   "cell_type": "code",
   "execution_count": 22,
   "id": "0ae24271",
   "metadata": {},
   "outputs": [
    {
     "name": "stdout",
     "output_type": "stream",
     "text": [
      "(중급) - 자동으로 쿠팡파트너스 API 로 가져온 상품 정보, 네이버 블로그/트위터에 홍보하기 [412]\n"
     ]
    }
   ],
   "source": [
    "import requests\n",
    "from bs4 import BeautifulSoup\n",
    "\n",
    "res = requests.get('https://davelee-fun.github.io/blog/crawl_test_css.html')\n",
    "soup = BeautifulSoup(res.content, 'html.parser')\n",
    "items = soup.select('li.course.paid')\n",
    "for item in items:\n",
    "    print(item.get_text())"
   ]
  },
  {
   "cell_type": "code",
   "execution_count": 23,
   "id": "edbce66c",
   "metadata": {},
   "outputs": [
    {
     "name": "stdout",
     "output_type": "stream",
     "text": [
      "(왕초보) - 클래스 소개\n",
      "(왕초보) - 블로그 개발 필요한 준비물 준비하기\n",
      "(왕초보) - Github pages 설정해서 블로그 첫 페이지 만들어보기\n",
      "(왕초보) - 초간단 페이지 만들어보기\n",
      "(왕초보) - 이쁘게 테마 적용해보기\n",
      "(왕초보) - 마크다운 기초 이해하고, 실제 나만의 블로그 페이지 만들기\n",
      "(왕초보) - 다양한 마크다운 기법 익혀보며, 나만의 블로그 페이지 꾸며보기\n"
     ]
    }
   ],
   "source": [
    "import requests\n",
    "from bs4 import BeautifulSoup\n",
    "\n",
    "res = requests.get('https://davelee-fun.github.io/blog/crawl_test_css.html')\n",
    "soup = BeautifulSoup(res.content, 'html.parser')\n",
    "items = soup.select('ul#hobby_course_list li.course')\n",
    "for item in items:\n",
    "    print(item.get_text())"
   ]
  },
  {
   "cell_type": "code",
   "execution_count": 24,
   "id": "62b9c883",
   "metadata": {},
   "outputs": [
    {
     "name": "stdout",
     "output_type": "stream",
     "text": [
      "(초급) - 강사가 실제 사용하는 자동 프로그램 소개 [2]\n",
      "(초급) - 필요한 프로그램 설치 시연 [5]\n",
      "(초급) - 데이터를 엑셀 파일로 만들기 [9]\n",
      "(초급) -     엑셀 파일 이쁘게! 이쁘게! [8]\n",
      "(초급) -     나대신 주기적으로 파이썬 프로그램 실행하기 [7]\n",
      "(초급) - 파이썬으로 슬랙(slack) 메신저에 글쓰기 [40]\n",
      "(초급) - 웹사이트 변경사항 주기적으로 체크해서, 메신저로 알람주기 [12]\n",
      "(초급) - 네이버 API 사용해서, 블로그에 글쓰기 [42]\n"
     ]
    }
   ],
   "source": [
    "import requests\n",
    "from bs4 import BeautifulSoup\n",
    "\n",
    "res = requests.get('https://davelee-fun.github.io/blog/crawl_test_css.html')\n",
    "soup = BeautifulSoup(res.content, 'html.parser')\n",
    "items = soup.select('#begin > a')\n",
    "for item in items:\n",
    "    print(item.get_text())"
   ]
  },
  {
   "cell_type": "markdown",
   "id": "2e7bc592",
   "metadata": {},
   "source": [
    "#### 네이버 쇼핑 사이트 크롤링 하기"
   ]
  },
  {
   "cell_type": "code",
   "execution_count": 25,
   "id": "fbd9fe00",
   "metadata": {},
   "outputs": [
    {
     "name": "stdout",
     "output_type": "stream",
     "text": [
      "면도기\n"
     ]
    }
   ],
   "source": [
    "import requests\n",
    "from bs4 import BeautifulSoup\n",
    "\n",
    "res = requests.get('https://search.shopping.naver.com/best100v2/main.nhn')\n",
    "soup = BeautifulSoup(res.content, 'html.parser')\n",
    "items = soup.select('#popular_srch_lst > li.on > span.txt')\n",
    "for item in items:\n",
    "    print(item.get_text())"
   ]
  },
  {
   "cell_type": "code",
   "execution_count": 26,
   "id": "cdbee317",
   "metadata": {},
   "outputs": [
    {
     "name": "stdout",
     "output_type": "stream",
     "text": [
      "면도기\n",
      "카네이션\n",
      "어버이날 용돈박스\n",
      "크록스\n",
      "닌텐도 스위치\n",
      "어버이날 선물\n",
      "크록스 키즈\n",
      "마스크\n",
      "에어팟 프로\n",
      "팝잇\n"
     ]
    }
   ],
   "source": [
    "import requests\n",
    "from bs4 import BeautifulSoup\n",
    "\n",
    "res = requests.get('https://search.shopping.naver.com/best100v2/main.nhn')\n",
    "soup = BeautifulSoup(res.content, 'html.parser')\n",
    "items = soup.select('#popular_srch_lst > li > span.txt')\n",
    "for item in items:\n",
    "    print(item.get_text())"
   ]
  },
  {
   "cell_type": "code",
   "execution_count": 27,
   "id": "2903a4bc",
   "metadata": {
    "collapsed": true
   },
   "outputs": [
    {
     "name": "stdout",
     "output_type": "stream",
     "text": [
      "타미힐피거 반팔 티셔츠 남자 여자 면티 T3...\n",
      "캘빈클라인언더웨어 남성 모던코튼 6팩 드로...\n",
      "나이키 남성용 NSW 클럽 조거팬츠 BV2679\n",
      "지오다노 여 프렌치 테리 조거핏 팬츠 4115...\n",
      "타미힐피거 남녀공용 카라티 반팔티 피케 폴...\n",
      "스튜디오톰보이 테일러드 린넨자켓 9100212...\n",
      "나이키 SB 로고 드라이핏 반팔티 AR4209-01...\n",
      "아디다스 코어18 레인 자켓 바람막이 윈드브...\n",
      "써스데이아일랜드 프릴 반팔 소매 원피스 T...\n",
      "지오다노 여 TR 블레이저 솔리드 371501\n",
      "나이키 W 스우시 하이 라이즈 우븐 팬츠 CZ...\n",
      "나이키 클럽 트레이닝 조거팬츠 BV2671 063\n",
      "아디다스 오버핏 데일리 바람막이 우븐소재...\n",
      "나이키 기능성 드라이핏 반팔티 레전드 718...\n",
      "메종키츠네 여성 폭스 헤드 반팔 WH AW0010...\n",
      "지오다노 여 나일론 조거팬츠 411522\n",
      "아디다스 바람막이 오운더런 자켓 M OWN TH...\n",
      "메종키츠네 폭스헤드 패치 반팔티 AM00103K...\n",
      "트리플에이 무지티 반팔티 무지 반팔티셔츠...\n",
      "리스트 기본 자켓 자켓 TWWJKK62010\n",
      "아디다스 FW19 T19 트랙 트레이닝 팬츠 DW6...\n",
      "캘빈클라인진 21S S 여성 슬림핏 기본로고 ...\n",
      "캘빈클라인 남성 모노그램 엠브로 반팔티셔...\n",
      "써스데이아일랜드 빈티지 페이즐리 원피스 ...\n",
      "아노락 바람막이 후드집업 반바지 트레이닝...\n",
      "지오다노 지오다노 여 레인코트 371513\n",
      "아디다스 M 삼선 윈드브레이커 GQ0600 GQ06...\n",
      "이경희 란제리 레이스 슬립 가운세트\n",
      "나이키 W 리펠 에센셜 GX 미드 라이즈 조거...\n",
      "SOUP 기본 린넨 자켓 SW5JK80\n",
      "나이키 스우시 반팔티 827021-100\n",
      "리스트 아웃포켓 원버튼 여름 자켓 TWWJKK6...\n",
      "나이키 NSW 클럽 크루 프렌치테리 맨투맨 남...\n",
      "아디다스 3D 트레포일 트랙팬츠 GN3534\n",
      "메종키츠네 그레이 폭스 패치 반팔 티셔츠 ...\n",
      "루앤 가슴압박 스포츠브라\n",
      "라코스테 멘즈 크루넥 피마 저지 티셔츠 4색...\n",
      "아디다스 남성 아이스 쿨 썸머 패키지 드로...\n",
      "써스데이아일랜드 볼륨소매 롱 원피스 T214...\n",
      "나이키 더블 스우시 아노락 우븐 윈드러너 ...\n",
      "나이키 드라이 핏 파크 트랙수트 스우시 트...\n",
      "지오다노 여성 린넨 블레이저 371514\n",
      "뉴발란스 W롱아노락 라이트핑크 85 - 남여공...\n",
      "나이키 남성 에센셜 후디 재킷 진주 CU5359...\n",
      "나이키 시티 에디션 우븐 트레이닝 긴바지 ...\n",
      "나이키 NSW 클럽 플리스 후드 집업 FZBB BV...\n",
      "캘빈클라인진 캘 빈클라인진 여성 여성 스트...\n",
      "나이키 스우시 스포츠브라 BV3637-010\n",
      "폴로랄프로렌 걸스 케이블 니트 가디건 헌터\n",
      "리스트 여름 오픈 더블버튼 린넨 투피스 자...\n",
      "지오다노 포플린 셔츠 340501\n",
      "지오다노 아노락 자켓 05 05371506\n",
      "나이키 스포츠웨어 윈드러너 후드 재킷 DA0...\n",
      "나이키 스포츠브라 CN3719-010\n",
      "달콤한레드 스윗드림 신혼부부 파자마 수면...\n",
      "지오다노 남 테이퍼드 슬랙스 110511\n",
      "블루선 곰돌이 캐릭터 순면 커플 잠옷 파자...\n",
      "쉬즈미스 와이드 핏 트임 팬츠 SWWSLK21010\n",
      "나이키 프렌치테리 후드 집업 BV2648-010 B...\n",
      "나이키 SB 로고 반팔티 821946\n",
      "라코스테 벨티드 피케 원피스 EF5471\n",
      "스톤아일랜드 나슬란 나일론 오버셔츠 투포...\n",
      "내셔널지오그래픽 더마인드 남성 아노락 바...\n",
      "폴로랄프로렌 반팔 카라티셔츠 커스텀핏 커...\n",
      "루앤 심리스 브라 노와이어 무봉제 수면 브...\n",
      "나이키 스포츠웨어 HBR 빅스우시 재킷 AR31...\n",
      "케네스레이디 투버튼 포인트 린넨 마 자켓 ...\n",
      "써스데이아일랜드 20 S/S 반다나 패턴 롱 원...\n",
      "지오다노 여 와이드데님 411539\n",
      "라코스테 반팔카라티 클래식 셔츠 L1212-00...\n",
      "타미힐피거 반팔카라티 TOMMY MENS POLLO B...\n",
      "플라스틱아일랜드 더블 기본 자켓 PL2EJ461\n",
      "지오다노 헤비코튼 크루넥 반팔 티셔츠 021...\n",
      "지오다노 조거핏 라운지 팬츠 05 05551501\n",
      "이경희 수면 파자마 홈웨어 라운지\n",
      "나이키 우먼스 에센셜 7/8 팬츠 BV2899-011\n",
      "칼하트 K87 남성 포켓 티셔츠 17종 택1\n",
      "신상특가 모그핑크 클라우디 심리스 사각팬...\n",
      "써스데이아일랜드 레이스 MIX 자켓형 블라우...\n",
      "캘빈클라인언더웨어 언더웨어 CK 여성 브라...\n",
      "스톤아일랜드 로고 와펜 후드집업 73166074...\n",
      "써스데이아일랜드 정상 벌룬 소매 자수 원피...\n",
      "폴로랄프로렌 여성 피마코튼 케이블 라운드...\n",
      "쉬즈미스 테일러드 원버튼 싱글 자켓 CR SW...\n",
      "지오다노 남 MW 테이퍼드 링클프리  110901\n",
      "아디다스 3S 우븐 7 8 팬츠 3S WVN 78 PANT...\n",
      "아디다스 러닝 바람막이 시티 베이스 후드 ...\n",
      "라코스테 2 여성 A라인 플레어 원피스 EF54...\n",
      "나이키 NSW 조거 프렌치테리 클럽 팬츠 BV2...\n",
      "아디다스 여성용 티 드레스 GN2777\n",
      "스톤아일랜드 와펜 패치 반팔 티셔츠 V0020...\n",
      "폴로랄프로렌 여성사이즈 옥스포드 코튼 긴...\n",
      "나이키 액티브 윈드러너 바람막이 자켓 AJ2...\n",
      "아디다스 여성용 오운 더 런 후드자켓 바람...\n",
      "캘빈클라인 속옷 남자 팬티 남성 모달 드로...\n",
      "랩 자가드 패턴 카라 니트 AM2KH460\n",
      "지오다노 반팔 폴로 피케 010501\n",
      "아디다스 파르마16 쇼트 속팬츠 반바지 AJ5...\n",
      "루앤 브라 캡 나시\n",
      "지오다노 여 크루넥 슬럽 반팔티 솔리드 32...\n"
     ]
    }
   ],
   "source": [
    "import requests\n",
    "from bs4 import BeautifulSoup\n",
    "\n",
    "res = requests.get('https://search.shopping.naver.com/best100v2/detail.nhn?catId=50000000')\n",
    "soup = BeautifulSoup(res.content, 'html.parser')\n",
    "items = soup.select('#productListArea > ul > li > p > a')\n",
    "for item in items:\n",
    "    print(item.get_text())"
   ]
  },
  {
   "cell_type": "code",
   "execution_count": 28,
   "id": "5487055a",
   "metadata": {
    "collapsed": true
   },
   "outputs": [
    {
     "name": "stdout",
     "output_type": "stream",
     "text": [
      "https://search.shopping.naver.com/best100v2/detail.nhn?catId=50000000\n",
      "1. 타미힐피거 반팔 티셔츠 남자 여자 면티 T3...\n",
      "2. 캘빈클라인언더웨어 남성 모던코튼 6팩 드로...\n",
      "3. 나이키 남성용 NSW 클럽 조거팬츠 BV2679\n",
      "4. 지오다노 여 프렌치 테리 조거핏 팬츠 4115...\n",
      "5. 타미힐피거 남녀공용 카라티 반팔티 피케 폴...\n",
      "6. 스튜디오톰보이 테일러드 린넨자켓 9100212...\n",
      "7. 나이키 SB 로고 드라이핏 반팔티 AR4209-01...\n",
      "8. 아디다스 코어18 레인 자켓 바람막이 윈드브...\n",
      "9. 써스데이아일랜드 프릴 반팔 소매 원피스 T...\n",
      "10. 지오다노 여 TR 블레이저 솔리드 371501\n",
      "11. 나이키 W 스우시 하이 라이즈 우븐 팬츠 CZ...\n",
      "12. 나이키 클럽 트레이닝 조거팬츠 BV2671 063\n",
      "13. 아디다스 오버핏 데일리 바람막이 우븐소재...\n",
      "14. 나이키 기능성 드라이핏 반팔티 레전드 718...\n",
      "15. 메종키츠네 여성 폭스 헤드 반팔 WH AW0010...\n",
      "16. 지오다노 여 나일론 조거팬츠 411522\n",
      "17. 아디다스 바람막이 오운더런 자켓 M OWN TH...\n",
      "18. 메종키츠네 폭스헤드 패치 반팔티 AM00103K...\n",
      "19. 트리플에이 무지티 반팔티 무지 반팔티셔츠...\n",
      "20. 리스트 기본 자켓 자켓 TWWJKK62010\n",
      "21. 아디다스 FW19 T19 트랙 트레이닝 팬츠 DW6...\n",
      "22. 캘빈클라인진 21S S 여성 슬림핏 기본로고 ...\n",
      "23. 캘빈클라인 남성 모노그램 엠브로 반팔티셔...\n",
      "24. 써스데이아일랜드 빈티지 페이즐리 원피스 ...\n",
      "25. 아노락 바람막이 후드집업 반바지 트레이닝...\n",
      "26. 지오다노 지오다노 여 레인코트 371513\n",
      "27. 아디다스 M 삼선 윈드브레이커 GQ0600 GQ06...\n",
      "28. 이경희 란제리 레이스 슬립 가운세트\n",
      "29. 나이키 W 리펠 에센셜 GX 미드 라이즈 조거...\n",
      "30. SOUP 기본 린넨 자켓 SW5JK80\n",
      "31. 나이키 스우시 반팔티 827021-100\n",
      "32. 리스트 아웃포켓 원버튼 여름 자켓 TWWJKK6...\n",
      "33. 나이키 NSW 클럽 크루 프렌치테리 맨투맨 남...\n",
      "34. 아디다스 3D 트레포일 트랙팬츠 GN3534\n",
      "35. 메종키츠네 그레이 폭스 패치 반팔 티셔츠 ...\n",
      "36. 루앤 가슴압박 스포츠브라\n",
      "37. 라코스테 멘즈 크루넥 피마 저지 티셔츠 4색...\n",
      "38. 아디다스 남성 아이스 쿨 썸머 패키지 드로...\n",
      "39. 써스데이아일랜드 볼륨소매 롱 원피스 T214...\n",
      "40. 나이키 더블 스우시 아노락 우븐 윈드러너 ...\n",
      "41. 나이키 드라이 핏 파크 트랙수트 스우시 트...\n",
      "42. 지오다노 여성 린넨 블레이저 371514\n",
      "43. 뉴발란스 W롱아노락 라이트핑크 85 - 남여공...\n",
      "44. 나이키 남성 에센셜 후디 재킷 진주 CU5359...\n",
      "45. 나이키 시티 에디션 우븐 트레이닝 긴바지 ...\n",
      "46. 나이키 NSW 클럽 플리스 후드 집업 FZBB BV...\n",
      "47. 캘빈클라인진 캘 빈클라인진 여성 여성 스트...\n",
      "48. 나이키 스우시 스포츠브라 BV3637-010\n",
      "49. 폴로랄프로렌 걸스 케이블 니트 가디건 헌터\n",
      "50. 리스트 여름 오픈 더블버튼 린넨 투피스 자...\n",
      "51. 지오다노 포플린 셔츠 340501\n",
      "52. 지오다노 아노락 자켓 05 05371506\n",
      "53. 나이키 스포츠웨어 윈드러너 후드 재킷 DA0...\n",
      "54. 나이키 스포츠브라 CN3719-010\n",
      "55. 달콤한레드 스윗드림 신혼부부 파자마 수면...\n",
      "56. 지오다노 남 테이퍼드 슬랙스 110511\n",
      "57. 블루선 곰돌이 캐릭터 순면 커플 잠옷 파자...\n",
      "58. 쉬즈미스 와이드 핏 트임 팬츠 SWWSLK21010\n",
      "59. 나이키 프렌치테리 후드 집업 BV2648-010 B...\n",
      "60. 나이키 SB 로고 반팔티 821946\n",
      "61. 라코스테 벨티드 피케 원피스 EF5471\n",
      "62. 스톤아일랜드 나슬란 나일론 오버셔츠 투포...\n",
      "63. 내셔널지오그래픽 더마인드 남성 아노락 바...\n",
      "64. 폴로랄프로렌 반팔 카라티셔츠 커스텀핏 커...\n",
      "65. 루앤 심리스 브라 노와이어 무봉제 수면 브...\n",
      "66. 나이키 스포츠웨어 HBR 빅스우시 재킷 AR31...\n",
      "67. 케네스레이디 투버튼 포인트 린넨 마 자켓 ...\n",
      "68. 써스데이아일랜드 20 S/S 반다나 패턴 롱 원...\n",
      "69. 지오다노 여 와이드데님 411539\n",
      "70. 라코스테 반팔카라티 클래식 셔츠 L1212-00...\n",
      "71. 타미힐피거 반팔카라티 TOMMY MENS POLLO B...\n",
      "72. 플라스틱아일랜드 더블 기본 자켓 PL2EJ461\n",
      "73. 지오다노 헤비코튼 크루넥 반팔 티셔츠 021...\n",
      "74. 지오다노 조거핏 라운지 팬츠 05 05551501\n",
      "75. 이경희 수면 파자마 홈웨어 라운지\n",
      "76. 나이키 우먼스 에센셜 7/8 팬츠 BV2899-011\n",
      "77. 칼하트 K87 남성 포켓 티셔츠 17종 택1\n",
      "78. 신상특가 모그핑크 클라우디 심리스 사각팬...\n",
      "79. 써스데이아일랜드 레이스 MIX 자켓형 블라우...\n",
      "80. 캘빈클라인언더웨어 언더웨어 CK 여성 브라...\n",
      "81. 스톤아일랜드 로고 와펜 후드집업 73166074...\n",
      "82. 써스데이아일랜드 정상 벌룬 소매 자수 원피...\n",
      "83. 폴로랄프로렌 여성 피마코튼 케이블 라운드...\n",
      "84. 쉬즈미스 테일러드 원버튼 싱글 자켓 CR SW...\n",
      "85. 지오다노 남 MW 테이퍼드 링클프리  110901\n",
      "86. 아디다스 3S 우븐 7 8 팬츠 3S WVN 78 PANT...\n",
      "87. 아디다스 러닝 바람막이 시티 베이스 후드 ...\n",
      "88. 라코스테 2 여성 A라인 플레어 원피스 EF54...\n",
      "89. 나이키 NSW 조거 프렌치테리 클럽 팬츠 BV2...\n",
      "90. 아디다스 여성용 티 드레스 GN2777\n",
      "91. 스톤아일랜드 와펜 패치 반팔 티셔츠 V0020...\n",
      "92. 폴로랄프로렌 여성사이즈 옥스포드 코튼 긴...\n",
      "93. 나이키 액티브 윈드러너 바람막이 자켓 AJ2...\n",
      "94. 아디다스 여성용 오운 더 런 후드자켓 바람...\n",
      "95. 캘빈클라인 속옷 남자 팬티 남성 모달 드로...\n",
      "96. 랩 자가드 패턴 카라 니트 AM2KH460\n",
      "97. 지오다노 반팔 폴로 피케 010501\n",
      "98. 아디다스 파르마16 쇼트 속팬츠 반바지 AJ5...\n",
      "99. 루앤 브라 캡 나시\n",
      "100. 지오다노 여 크루넥 슬럽 반팔티 솔리드 32...\n",
      "https://search.shopping.naver.com/best100v2/detail.nhn?catId=50000001\n",
      "1. 아디다스 알파바운스 슬라이드 슬리퍼 BA87...\n",
      "2. 크록스 바야밴드 클로그 205089-126\n",
      "3. 몽블랑 사토리얼 반지갑 6cc 113215\n",
      "4. 크록스 크록밴드 클로그 슬리퍼 샌들 크림 ...\n",
      "5. MLB 루키 볼캡 뉴욕양키스 32CP77011\n",
      "6. 나이키 팬텀 데이브레이크 써밋화이트 크림...\n",
      "7. 나이키 헤리티지 힙색 BA5750-010\n",
      "8. 나이키 헤리티지86 퓨추라 워시드캡 913011...\n",
      "9. 아디다스 알파바운스 슬라이드 B41720\n",
      "10. 크록스 라이트라이드 클로그 204592-4CC\n",
      "11. 컨버스 척테일러 1970S 하이 스니커즈화 16...\n",
      "12. 생로랑 YSL 모노그램 카드지갑 BOW01 1000 ...\n",
      "13. 나이키 에어 포스 1 07 CW2288-111\n",
      "14. 헬렌카민스키 비앙카 HSSHE100110\n",
      "15. 디올 오블리크 새들 플랫 카드지갑\n",
      "16. 나이키 우먼스 에어맥스 엑시스 러닝화 AA2...\n",
      "17. 나이키 데이브레이크 써밋화이트 CK2351-10...\n",
      "18. 크록스 바야밴드 클로그 7가지 컬러 205089\n",
      "19. 나이키 헤리티지 86 퓨추라 워시드 캡 9130...\n",
      "20. 나이키 국내매장판 데이브레이크 써밋화이트...\n",
      "21. 나이키 에어 테일윈드79 487754-100\n",
      "22. 몽블랑 블랙 레더 스트랩 벨트 38157\n",
      "23. 나이키 운동화 우먼스 코트 레거시 뮬 DB39...\n",
      "24. 크록스 바야밴드 클로그 205089\n",
      "25. 나이키 써밋화이트 우먼 TC7900 DD9682-100\n",
      "26. 컨버스 척 테일러 올스타 리프트 캔버스 56...\n",
      "27. 지샥 지코스모 지얄오크 정품보증서 쇼핑백...\n",
      "28. 프라다 버킷백 라지 1BH097\n",
      "29. 나이키 우먼스 레볼루션 5 BQ3207-002\n",
      "30. 뉴발란스 NEW BALANCE 슬리퍼 unisex SD150...\n",
      "31. 캉골 워시드 버킷햇 K4224HT\n",
      "32. 몽블랑 사토리얼 5cc 포켓 114603\n",
      "33. 뉴발란스 남녀공용 토앤토 NB X T T FLIPFL...\n",
      "34. 나이키 첼린저 OG 라이트본 런닝화 CW7645-...\n",
      "35. 나이키 레거시 91 테크 스우시 캡 볼캡 모자...\n",
      "36. 나이키 에어맥스 엑시스 AA2146-100\n",
      "37. 아디다스 공용 알파바운스 슬라이드 슬리퍼...\n",
      "38. 나이키 에어맥스 97 921733-100\n",
      "39. 머리끈 35종 세트 헤어밴드 헤어끈 머리고무...\n",
      "40. 보테가베네타 아몬드 인트레치아토 미니 조...\n",
      "41. 마이브렐라 PASTELLA 파스텔 자동우산 16K ...\n",
      "42. 생로랑 모노그램 엔벨로프 카드 지갑 41440...\n",
      "43. 뉴발란스 327 우먼스 먼셀 라이트그레이 화...\n",
      "44. 이경희 여자 가죽 링 벨트 청바지 포인트 허...\n",
      "45. 컨버스 런스타 하이크 보급형 166800C\n",
      "46. 남여공용 MLB N-COVER 볼캡 32CP66011\n",
      "47. 나이키 에어맥스97 트리플화이트 921826-10...\n",
      "48. 몽블랑 사토리얼 비즈니스 카드 홀더 11322...\n",
      "49. 마크제이콥스 로고스트랩 스냅샷 스몰 카메...\n",
      "50. 크록스 2020 성인 크록밴드 샌들 슬리퍼 8종...\n",
      "51. 디스커버리익스페디션 여성 뮬리 슬라이드 ...\n",
      "52. 프라다 포코노 나일론 버킷 파우치 블랙 1N...\n",
      "53. 닥스 블랙 퀼팅 가죽 미니 크로스백 DCWA0F...\n",
      "54. 샤넬 클래식 카드홀더 AP0214\n",
      "55. 나이키 에어 테일윈드 79 흰검 487754-100\n",
      "56. 살바토레페라가모 페레가모 정장벨트 실버블...\n",
      "57. 라코스테 레이디 미니 크로스백 NF2609\n",
      "58. 나이키 데이브레이크 망고 써밋 화이트 CK2...\n",
      "59. 나이키 W 에어 맥스 디아 CI3898-100\n",
      "60. 크록스 크록밴드 U 스투코 멜론 11016-1AS\n",
      "61. 카시오 무소음손목시계 수능시계 MQ24 MQ-2...\n",
      "62. 크록스 크록밴드 클로그 샌들 -화이트 1101...\n",
      "63. 캉골 에코 프렌들리백 플러스 0042 가방 에...\n",
      "64. 나이키 운동화 덩크 로우 범고래 검흰 PS 사...\n",
      "65. 뉴발란스 레어택 씨 솔트 스니커즈 MS327FE\n",
      "66. 크록스 아쿠아샌들 11016-410 네이비\n",
      "67. 나이키 쿠션 크루 삭스 SX7664-100\n",
      "68. 이경희 5 1 쁘띠 실크 스카프 65종 봄 가을...\n",
      "69. 크록스 크록밴드 11016-001\n",
      "70. 반스 Old Skool 올드스쿨 뮬 VN0A3MUS6BT\n",
      "71. 나이키 운동화 베이퍼와플 X 사카이 게임로...\n",
      "72. 푸마 여성 바리 뮬 리본 382331-02\n",
      "73. 반스 코어클래식 올드스쿨 VN000D3HY28\n",
      "74. 스케쳐스 고워크 조이맥스1 여성 봄 운동화...\n",
      "75. 컨버스 chuck 70 CLASSIC 162058C\n",
      "76. 나이키 스우시 레거시91 볼캡모자 남자 여자...\n",
      "77. 프라다 20FW 테수토 체인 스트랩 숄더백 1B...\n",
      "78. 캉골 컨버스 앨리스 버킷백 3738\n",
      "79. 컨버스 척테일러 1970S 파치먼트 162062C\n",
      "80. 골든구스 슈퍼스타 스니커즈 GWF00102 F000...\n",
      "81. 살바토레페라가모 66 A063 NERO DP 남성 간...\n",
      "82. 몽블랑 마이스터스튁 6cc 지갑 14548\n",
      "83. 샤넬 30번대 클래식 캐비어 똑딱이 카드지갑...\n",
      "84. 샤넬 클래식 Woc 캐비어 미니크로스백 AP02...\n",
      "85. 톰브라운 20FW 페블레더 카드 홀더 001 MAW...\n",
      "86. 크록스 브루클린 로우 웨지 샌들 206453-15...\n",
      "87. 조이그라이슨 햄튼 쇼퍼백 LW0SE8070 22\n",
      "88. 토리버치 키라 쉐브론 스몰 카메라백 53113\n",
      "89. 메종마르지엘라 스니커즈 S57WS0236 P1895 ...\n",
      "90. 뉴발란스 ML574 ML574EGW\n",
      "91. 아디다스 오즈위고 FX6029\n",
      "92. 나이키 우먼스 데이브레이크 W DBREAK CK23...\n",
      "93. 버버리 애쉬비 호보백 3945726\n",
      "94. 나이키 테크 힙색 웨이스트백 BA5751-010\n",
      "95. MLB 스몰로고 루키 볼캡 야구모자 32CP7791...\n",
      "96. 아디다스 이큅먼트 10 EM B96491\n",
      "97. 우포스 OOFOS 남여 공용 조리 1000\n",
      "98. 닥스 핸드백 체인 크로스백 DCWA0F217BK\n",
      "99. 나이키 우먼스 웨어올데이 CJ1677-100\n",
      "100. 메종마르지엘라 마르지엘라 5AC 미니 스몰 ...\n",
      "https://search.shopping.naver.com/best100v2/detail.nhn?catId=50000002\n",
      "1. 설화수 자음 2종 세트\n",
      "2. 헤라 블랙 쿠션 15g(SPF34)\n",
      "3. 설화수 탄력 에센셜 3종 세트\n",
      "4. 미쟝센 헬로 버블 컬러 90g\n",
      "5. 설화수 순행 클렌징폼 200ml\n",
      "6. 미쟝센 쉽고빠른 거품 염색약 80g\n",
      "7. 닥터지 그린 마일드 업 선 플러스 50ml(SPF...\n",
      "8. 헤라 선 메이트 프로텍터 50ml(SPF50+)\n",
      "9. AHC 유스래스팅 리얼 아이크림 포페이스 30...\n",
      "10. 쿤달 울트라 마이크로 휩 일라이트 클렌징 ...\n",
      "11. 설화수 탄력 크림 75ml\n",
      "12. 쿤달 시카 앤 칼라민 퍼펙트 리페어 선크림...\n",
      "13. 아베다 우든 패들 브러쉬\n",
      "14. 헤라 선 메이트 레포츠 프로 워터프루프 70...\n",
      "15. 피지오겔 데일리 모이스쳐 테라피 페이셜 크...\n",
      "16. 강블리 제주 유채꿀 영양 마스크 25ml\n",
      "17. 일리윤 세라마이드 아토 로션 528ml\n",
      "18. 설화수 상백 크림 50ml(SPF50+)\n",
      "19. TS 골드플러스 티에스 샴푸 500g\n",
      "20. 쿤달 에어리 퍼퓸 데오드란트 베이비 파우더...\n",
      "21. 강블리 제주 유채꿀 바디 로션 500ml\n",
      "22. 쿤달 카페인 탈모샴푸 500ml\n",
      "23. 강블리 알로에 베라 클렌징 폼 180ml\n",
      "24. 닥터지 레드 블레미쉬 클리어 수딩 크림 70...\n",
      "25. 센텔리안24 마데카크림 파워 부스팅 포뮬러...\n",
      "26. 강블리 제주 동백 에센셜 선 크림 50ml(SPF...\n",
      "27. 존바바토스 아티산 맨 오드뚜왈렛\n",
      "28. 헤라 블랙 파운데이션 35ml(SPF15)\n",
      "29. 클리오 프로 아이 팔레트 6g\n",
      "30. 미쟝센 샤이닝 에센스 헤어컬러 100g\n",
      "31. 랑방 에끌라 드 아르페쥬 우먼 오드퍼퓸\n",
      "32. 쿤달 허니 앤 마카다미아 퓨어 바디워시 베...\n",
      "33. 쿤달 퓨어 바디 로션 화이트 머스크 500ml\n",
      "34. 안나플러스 4GF 남자 스킨 로션 올인원 120...\n",
      "35. 쿤달 허니 앤 마카다미아 네이처 샴푸 베이...\n",
      "36. 안나플러스 천연 약산성 샴푸 500ml\n",
      "37. 강블리 제주 녹차 샴푸 500ml\n",
      "38. 맥 립스틱 3g\n",
      "39. 바이오더마 센시비오 H2O 500ml\n",
      "40. 아모스 녹차실감 산뜻한 타입 지성 모발용 ...\n",
      "41. 아이오페 UV 쉴드 선 프로텍터 XP 60ml(SPF...\n",
      "42. 쿤달 퓨어 앤 세이프 여성청결제 베르가못 ...\n",
      "43. 닥터지 블랙 스네일 크림 50ml\n",
      "44. 피지오겔 데일리 모이스쳐 테라피 페이셜 로...\n",
      "45. 설화수 자음 퍼스트케어 리추얼 3종 세트\n",
      "46. 헤드앤숄더 쿨 멘솔 샴푸 850ml\n",
      "47. 헤드앤숄더 가려운 두피케어 샴푸 850ml\n",
      "48. 일리윤 세라마이드 아토 6.0 탑투토 워시 5...\n",
      "49. 투쿨포스쿨 아트클래스 프로타주 펜슬 1.5g\n",
      "50. 불가리 옴니아 아메시스트 우먼 오드뚜왈렛\n",
      "51. 조말론 우드 세이지 앤 씨 솔트 코롱\n",
      "52. 쿤달 슈가 바디스크럽 550g\n",
      "53. 헤라 옴므 블랙 퍼펙트 2종 세트\n",
      "54. 아모스 컬링 에센스 2X 150ml\n",
      "55. 실크테라피 오리지널 에센스 150ml\n",
      "56. 디올 어딕트 립 글로우 3.5g(SPF10)\n",
      "57. 설화수 맨 본윤 2종 세트\n",
      "58. 강블리 제주 마유 바디워시 500ml\n",
      "59. 강블리 제주 유채꿀 에센셜 토너 150ml\n",
      "60. 설화수 윤조 에센스 90ml\n",
      "61. 불가리 블루 뿌르 옴므 오드뚜왈렛\n",
      "62. 헤라 선 메이트 스틱 20g(SPF50+)\n",
      "63. 닥터지 약산성 클렌징 젤 폼 200ml\n",
      "64. 키엘 울트라 페이셜 수분 크림 125ml\n",
      "65. 에르게니아 엘러건트 부케 우먼 오드퍼퓸\n",
      "66. 라운드랩 1025 독도 토너 500ml\n",
      "67. 헤라 센슈얼 프레쉬 누드 틴트 7ml\n",
      "68. 마녀공장 퓨어 클렌징 오일 200ml\n",
      "69. 려 우아채 멋내기 새치 크림 120g\n",
      "70. 아르마리오 맨 레이어드 퍼퓸 남자향수\n",
      "71. 닥터지 브라이트닝 업 선 50ml(SPF50+)\n",
      "72. 인셀덤 기초 3종 세트\n",
      "73. 도브 화이트 뷰티 바 100g\n",
      "74. 안나플러스 천연 약산성 4GF 딥 폼 클렌징 ...\n",
      "75. 세타필 모이스춰라이징 크림 550g\n",
      "76. 헤라 옴므 에센스 인 2종 세트\n",
      "77. 센텔리안24 마데카 크림 액티브 스킨 포뮬러...\n",
      "78. 안나플러스 헤어 트리트먼트 에센스 250ml\n",
      "79. 설화수 순행 클렌징 오일 200ml\n",
      "80. 달바 워터풀 에센스 선크림 50ml(SPF50+)\n",
      "81. 캘빈클라인 CK ONE 모이스처라이저 250ml\n",
      "82. 셀퓨전씨 레이저 썬 스크린 100 50ml(SPF50...\n",
      "83. 에르게니아 스위티 구르망 우먼 오드퍼퓸\n",
      "84. 려 자양윤모 지성용 샴푸 400ml\n",
      "85. 헤라 UV 미스트 쿠션 커버 15g(SPF50+)\n",
      "86. 쿤달 안티 헤어 로스 앤 스칼프 케어 탈모토...\n",
      "87. 어니우니 젤 네일스티커 붙이는 네일패치\n",
      "88. 샤넬 샹스 오 땅드르 우먼 오드뚜왈렛\n",
      "89. 메디큐브 제로 모공 패드 2.0 70매\n",
      "90. 에르게니아 업세스 머스크 맨 오드퍼퓸\n",
      "91. 일리윤 세라마이드 아토 로션 350ml\n",
      "92. 맥 파우더 키스 립스틱 3g\n",
      "93. 미쟝센 퍼펙트세럼 오리지널 80ml\n",
      "94. 끌레드벨 로지 글로우 물톡 크림 UV 30ml\n",
      "95. 아쿠아디파르마 미르토 디 파나레아 오드뚜...\n",
      "96. 입생로랑 엉크르 드 뽀 쿠션 14g\n",
      "97. 도브 뷰티 너리싱 바디워시 1L\n",
      "98. 헤라 센슈얼 파우더 매트 5g\n",
      "99. 뉴트로지나 딥클린 포밍 클렌저 175g(신형)\n",
      "100. 에르게니아 시트러스 자르딘 맨 오드퍼퓸\n"
     ]
    },
    {
     "name": "stdout",
     "output_type": "stream",
     "text": [
      "https://search.shopping.naver.com/best100v2/detail.nhn?catId=50000003\n",
      "1. 닌텐도 스위치 배터리개선\n",
      "2. 삼성전자 삼성 S27R35A\n",
      "3. Apple 아이패드 에어 4세대 WIFI 64G\n",
      "4. LG전자 오브제컬렉션 AO9571\n",
      "5. Apple 아이패드 8세대 WIFI 32G\n",
      "6. 닌텐도 스위치 모여봐요 동물의 숲 에디션\n",
      "7. 삼성전자 갤럭시 버즈 프로\n",
      "8. 삼성전자 삼성 F24T350\n",
      "9. Apple 에어팟 프로 (MWP22KH/A)\n",
      "10. EFM네트웍스 아이피타임 A3004T\n",
      "11. 삼성전자 삼성 S24R350 베젤리스 프리싱크 ...\n",
      "12. 삼성전자 갤럭시 A32 SM-A325N 64GB [자급제...\n",
      "13. 다이슨 에어랩 스타일러 컴플리트\n",
      "14. EFM네트웍스 아이피타임 A604R\n",
      "15. LG전자 코드제로 A9S A9370\n",
      "16. WD NEW My Passport Gen3\n",
      "17. 마이크로소프트 윈도우10홈\n",
      "18. EFM네트웍스 아이피타임 A2004MU\n",
      "19. 베리어 60W LED PD C to C타입 고속충전 케...\n",
      "20. 다이슨 슈퍼소닉 HD03\n",
      "21. 아이엠듀 아이패드 에어4 10.9인치 애플펜슬...\n",
      "22. EFM네트웍스 아이피타임 UH305\n",
      "23. 삼성전자 삼성 F24T450\n",
      "24. 아이리버 BUBBLE IR-K10\n",
      "25. 삼성전자 갤럭시 버즈 라이브\n",
      "26. 삼성전자 삼성 갤럭시 워치 액티브2 40mm 알...\n",
      "27. 삼성전자 갤럭시S21 5G 256GB [자급제]\n",
      "28. KAN 케이안 아이패드에어4 10.9인치 애플펜...\n",
      "29. LG전자 32QN650\n",
      "30. 삼성전자 갤럭시탭A 8.0 (2019) WiFi 32G\n",
      "31. 삼성전자 삼성 S27R350\n",
      "32. 씨게이트 New Backup Plus Slim +Rescue\n",
      "33. Apple 애플 펜슬 2세대 (MU8F2KH/A)\n",
      "34. 삼성전자 삼성 S27F350\n",
      "35. EFM네트웍스 아이피타임 N704BCM\n",
      "36. 삼성전자 삼성 커브드 C27R502 베젤리스 프...\n",
      "37. 삼성전자 삼성 갤럭시탭 A7 SM-T500N WIFI ...\n",
      "38. 베리어 LED C타입 고속충전 케이블\n",
      "39. 삼성전자 갤럭시탭 S6 라이트 WIFI 128GB\n",
      "40. 앱코 N550 ENC 가상 7.1 RGB 진동 노이즈 캔...\n",
      "41. 삼성전자 삼성 F27T350\n",
      "42. 삼성전자 삼성 SM-T870 갤럭시 탭 S7 WiFi ...\n",
      "43. Apple 에어팟 2세대 유선충전 모델 (MV7N2K...\n",
      "44. COX CK87 게이트론 LED 게이밍 기계식\n",
      "45. 삼성전자 갤럭시 버즈 플러스\n",
      "46. 조텍 지포스 RTX 3070 Twin Edge OC D6 8GB...\n",
      "47. EFM네트웍스 아이피타임 AX2004M\n",
      "48. 브리츠 BA-AW1\n",
      "49. 삼성전자 갤럭시탭S6 10.4 Lite WiFi 64G (...\n",
      "50. 베리어 충전식 무선 책상 LED 스탠드 조명 ...\n",
      "51. 팅크웨어 아이나비 QXD5000 (2채널)\n",
      "52. 크리에이티브 PEBBLE V2\n",
      "53. LG전자 그램16 16ZD90P-GX50K\n",
      "54. COX CH50 가상 7.1 진동 RGB LED 게이밍 헤...\n",
      "55. LG전자 28TN525S\n",
      "56. 삼성전자 제트 VS20T9218QDCC\n",
      "57. 한글과컴퓨터 한컴오피스 2020 가정용\n",
      "58. 브라보텍 EQUALE AP-2002 M-DESK USB 3.0\n",
      "59. EFM네트웍스 아이피타임 Extender N3\n",
      "60. 삼성전자 노트북 플러스2 NT550XDZ-AD1AW\n",
      "61. EFM네트웍스 아이피타임 A8004T\n",
      "62. LG전자 트롬 RH16VTS\n",
      "63. EFM네트웍스 아이피타임 Extender-GIGA\n",
      "64. 에프엔디 에프앤디 F&D R27BT\n",
      "65. EFM네트웍스 아이피타임 USB Type-C 멀티허...\n",
      "66. 아이엠듀 침대 핸드폰 자바라 거치대\n",
      "67. EFM네트웍스 아이피타임 H6008\n",
      "68. 브라보텍 EQUALE AP-2002 M-DESK\n",
      "69. 마이크로닉스 MANIC NX420\n",
      "70. EFM네트웍스 아이피타임 A1004NS\n",
      "71. EFM네트웍스 아이피타임 A2004NS-MU\n",
      "72. Apple 아이패드 에어 4세대 WIFI 256G\n",
      "73. Apple 아이폰 12 128GB [자급제]\n",
      "74. 삼성전자 오디세이 G5 C27G54T\n",
      "75. 베리어 PD USB C to 라이트닝 8핀 아이폰 고...\n",
      "76. LG전자 LG퓨리케어 플러스 AS191DWFR(렌탈)\n",
      "77. Apple 맥북 에어 2020년형 M1 256G 실버 (M...\n",
      "78. 브리츠 BR-1000A Plus\n",
      "79. Apple 아이폰 12 미니 128GB [자급제]\n",
      "80. 닌텐도 스위치 라이트\n",
      "81. 아이엠듀 아이패드 에어4 세대 10.9용 종이...\n",
      "82. 리버네트워크 넥시 HDMI 골드메탈 케이블 V...\n",
      "83. EFM네트웍스 아이피타임 UH308\n",
      "84. EFM네트웍스 아이피타임 AX3004ITL\n",
      "85. 프리즘 크레모아 V600\n",
      "86. 에이튜브 A601V 진공관 사운드바 스피커\n",
      "87. 삼성전자 갤럭시S21울트라 5G 256GB [자급제...\n",
      "88. COX SCARLET\n",
      "89. EFM네트웍스 아이피타임 A3000UA\n",
      "90. LG전자 코드제로 M970\n",
      "91. 삼성전자 갤럭시북 이온2 NT950XDA-X71AW\n",
      "92. 마이크로소프트 Windows 10 Pro\n",
      "93. EFM네트웍스 아이피타임 Extender-A3MU\n",
      "94. BOB 밸런스 레이저컷\n",
      "95. 씨게이트 New Backup Plus Portable + Resc...\n",
      "96. 베리어 2.1 HDMI 케이블\n",
      "97. EFM네트웍스 아이피타임 Extender-A8\n",
      "98. 이엠텍 지포스 RTX 3070 BLACK EDITION OC ...\n",
      "99. LG전자 디오스 F873S11E\n",
      "100. EFM네트웍스 아이피타임 A3000U\n",
      "https://search.shopping.naver.com/best100v2/detail.nhn?catId=50000004\n",
      "1. 에이블루 커블체어 와이더\n",
      "2. 한샘 샘키즈 수납장 1305 뉴트럴베이지\n",
      "3. 쿤달 퍼퓸 디퓨저 3구 세트  200ml\n",
      "4. 아이프리 3D LED 무소음 벽시계 대형 화이트...\n",
      "5. 어니우니 양키캔들 무드등 라지자 앤틱 캔들...\n",
      "6. 강블리 순면100% 지퍼형 솜베개\n",
      "7. 노르웨이숲 침대 프레임 매트리스 깔판 저상...\n",
      "8. 삼익가구 포텐 LED 4단 수납 원목 침대 프레...\n",
      "9. 앱코 라이프 메모리폼 필로우 ALP5371\n",
      "10. 디지지 바리스타 카페 주방 공방 롱 앞치마\n",
      "11. TMEID 3D 벽걸이 LED 시계 무소음 인테리어...\n",
      "12. 쉬즈홈 슬리브 옥스포드 삼각 등쿠션\n",
      "13. 로포텐 뉴텔라내추럴 4인용 6인용 세라믹식...\n",
      "14. 더프리그 로망스 물세탁 사계절 심플 단모 ...\n",
      "15. 수면공감 우유베개 라텍스 기능성 경추베개...\n",
      "16. 제닉스 NEW 아레나-X 제로 게이밍 의자\n",
      "17. 플라이토 루나 LED 온습도 거실 디지털 무소...\n",
      "18. 한샘 생드니 아쿠아텍스 스웨이드 4인용 패...\n",
      "19. 바숨 순면누빔 고정밴딩 패밀리 침대패드\n",
      "20. 시디즈 T20 TAB+ 탭플러스 T200HF 메쉬의자...\n",
      "21. 에보니아 리도 컵홀더 3인용 패브릭룩 방수...\n",
      "22. 커블체어 인체공학 자세교정 의자 와이더 1...\n",
      "23. 강블리 라이프 메모리폼 원형 방석\n",
      "24. 어니우니 그리드 양키캔들 라지자 캔들워머\n",
      "25. 창안애 내츄럴 콤비블라인드 거실 베란다 창...\n",
      "26. 루앤 못없이 커튼봉 안뚫어 고리\n",
      "27. 넥스트 유무선 LED스탠드 NEXT-211LAMP-W\n",
      "28. 제일매트 국산 현관 발코니 매장 사무실 업...\n",
      "29. JB자동차용품 일반형 20mm DIY 코일 현관매...\n",
      "30. 강블리 LED 우드시계 와이드 GL-EH0038\n",
      "31. 에보니아 라인 패브릭 방수원단 3인 독립형...\n",
      "32. 조아트 인조잔디 조화잔디 잔디매트 잔디 고...\n",
      "33. 왕자행거 2단 조절 행거 38mm\n",
      "34. 무아스 미니 퓨어 화이트골드 무소음 LED 벽...\n",
      "35. 까르엠가구 루이스 LED 평상형 수납 침대 프...\n",
      "36. 까르엠가구 올리브 생활방수 아쿠아텍스 3인...\n",
      "37. 시디즈 S500ACF 링고 학생용의자 고정형 + ...\n",
      "38. 강블리 메모리폼 방석\n",
      "39. 마켓비 DUGED 사이드테이블 KS1032TB\n",
      "40. 잠스쿨 떡실신 쿨매트 시원한 여름 냉매트 ...\n",
      "41. 라자가구 레브 무빙헤드 4인용 가죽 소파\n",
      "42. 시디즈 T50 air 시리즈 T500HDA 에어 화이트...\n",
      "43. 박나래의 오리지널 기절베개 2종세트\n",
      "44. 알레르망 타이르 여름인견차렵 베개세트 Q\n",
      "45. 침대 프레임 매트리스 깔판 저상형 패밀리 ...\n",
      "46. 투케이 규조토 발매트 욕실 화장실 다혈질냥...\n",
      "47. 퍼시스 CHN4311A 서울대 의자\n",
      "48. 32mm 강력스프링 압축봉 커튼봉 70-460cm\n",
      "49. 압축 커튼봉 텐션봉 길이조절 압축봉 간이커...\n",
      "50. 대형 모찌 집순이 뚱 인형 쿠션 바디필로우\n",
      "51. 제닉스 ARENA-X ZERO DESK 1200 1인용 컴퓨...\n",
      "52. 인텍스 에어소파 1인용 + 발판\n",
      "53. 강블리 극세사 대형 무릎 담요 이불\n",
      "54. 강블리 3D 경추 메모리폼 베개\n",
      "55. 강블리 블리빙 철제 원형 티테이블\n",
      "56. 아이엠듀 엘듀 LED 수유등 취침등 무드등\n",
      "57. 천일 100 Series 베란다 사무실 거실 방염 ...\n",
      "58. 오스본가구 원조 라티나 소가죽 구스다운 4...\n",
      "59. 왕자행거 뉴 프리미엄드레스룸 완전밀폐형 ...\n",
      "60. 모올글래드 린넨 원피스 앞치마\n",
      "61. 마켓비 RUSTA 장스탠드 E26 KS1322F\n",
      "62. 코코도르 카네이션 디퓨저 안개꽃형 X 2개\n",
      "63. 핀란디아 데니스 4인식탁세트 의자2 벤치1\n",
      "64. 무중력의자 접이식 데일리 리클라이너 안락...\n",
      "65. 시디즈 탭 플러스 화이트쉘 메쉬 의자 TNB2...\n",
      "66. 어니우니 양키캔들 무드등 라지자 모던 캔들...\n",
      "67. 한샘 휴 회전형 좌식 리클라이너\n",
      "68. 윈도우드레스 화이트 커튼레일\n",
      "69. 라로퍼니처 원목 식탁의자 카페의자 인테리...\n",
      "70. 알레르망 알레르망 퀼팅패드K\n",
      "71. 도아르 인조대리석 아일랜드식탁 홈바 테이...\n",
      "72. 일룸 링키플러스 1200폭 일반형 책상\n",
      "73. 무아스 듀얼 미러클락 거실 무드등 LED 벽시...\n",
      "74. 안고자는 긴 롱 수면 쫀득 쿠션 모찌 베게 ...\n",
      "75. 에이픽스 1인용 컴퓨터 게이밍 데스크 GD00...\n",
      "76. 시디즈 T50 시리즈 NEW T500HF 메쉬의자 TN...\n",
      "77. 템퍼 오리지날 베개 M\n",
      "78. 더프리그 먼지없는 사계절 헤링본 극세사 단...\n",
      "79. 더나은 핏체어 자세교정 의자 방석 등받이 ...\n",
      "80. 누움 첫눈 토퍼 바닥이불매트 요 알러지케어...\n",
      "81. 강블리 공간박스 수납장\n",
      "82. 나무뜰 올리브 1200 수납형 아일랜드식탁 G...\n",
      "83. 카네이션 드라이플라워 디퓨저 선물세트\n",
      "84. 홈 앤드 룸 북유럽풍 바 테이블 세트 bar\n",
      "85. 못없이 설치 안뚫어고리 버전1 2개 세트\n",
      "86. 발란스코드 실프베개 기능성 메모리폼 일자...\n",
      "87. 알레르망 아르테 여름인견 차렵베개세트 S\n",
      "88. 한샘 브레드 접이식 원목 테이블\n",
      "89. 왕자행거 2단 너비조절기획 행거 32mm\n",
      "90. 자코모 노바 4인 천연면피 소가죽 소파 + 스...\n",
      "91. 강블리 아크릴 거울\n",
      "92. 이케아 MULIG 행거\n",
      "93. 템퍼 오리지날 베개 S\n",
      "94. 삼익가구 아이비 트랜스폼 소파베드\n",
      "95. 라누베 매트리스 토퍼 침대 메모리폼 바닥이...\n",
      "96. 동서가구 이즈 카이 LED 수납침대 프레임 C...\n",
      "97. 시디즈 아이블 화이트쉘 패브릭 메쉬 의자 ...\n",
      "98. 강블리 프리미엄 사장님 중역 의자\n",
      "99. 슬립라인 목에좋은 코골이 방지 베개 목디스...\n",
      "100. 강블리 G-시리즈 게이밍 의자\n"
     ]
    }
   ],
   "source": [
    "import requests\n",
    "from bs4 import BeautifulSoup\n",
    "site_list= ['https://search.shopping.naver.com/best100v2/detail.nhn?catId=50000000',\n",
    "            'https://search.shopping.naver.com/best100v2/detail.nhn?catId=50000001',\n",
    "            'https://search.shopping.naver.com/best100v2/detail.nhn?catId=50000002',\n",
    "            'https://search.shopping.naver.com/best100v2/detail.nhn?catId=50000003',\n",
    "            'https://search.shopping.naver.com/best100v2/detail.nhn?catId=50000004']\n",
    "\n",
    "for site in site_list:\n",
    "    res = requests.get(site)\n",
    "    soup = BeautifulSoup(res.content,'html.parser')\n",
    "    items = soup.select('#productListArea > ul p > a')\n",
    "    print(site)\n",
    "    for index, item in enumerate(items) :\n",
    "        print(str(index +1) + '.', item.get_text())"
   ]
  },
  {
   "cell_type": "markdown",
   "id": "7706faf7",
   "metadata": {},
   "source": [
    "#### 네이버 주식 사이트 크롤링 하기"
   ]
  },
  {
   "cell_type": "code",
   "execution_count": 29,
   "id": "0e2ec409",
   "metadata": {
    "collapsed": true
   },
   "outputs": [
    {
     "name": "stdout",
     "output_type": "stream",
     "text": [
      "HMM\n",
      "삼성전자\n",
      "삼성중공업\n",
      "유바이오로직스\n",
      "카카오\n",
      "셀트리온\n",
      "LG전자\n",
      "KB금융\n",
      "팬오션\n",
      "대한항공\n"
     ]
    }
   ],
   "source": [
    "import requests\n",
    "from bs4 import BeautifulSoup\n",
    "\n",
    "res = requests.get('https://finance.naver.com/sise/')\n",
    "soup = BeautifulSoup(res.content, 'html.parser')\n",
    "items = soup.select('#popularItemList > li > a')\n",
    "for item in items:\n",
    "    print(item.get_text())"
   ]
  },
  {
   "cell_type": "code",
   "execution_count": 30,
   "id": "e07d9dd0",
   "metadata": {
    "collapsed": true
   },
   "outputs": [
    {
     "name": "stdout",
     "output_type": "stream",
     "text": [
      "다우산업\n",
      " 나스닥\n",
      " 홍콩H\n",
      " 상해종합\n",
      " 니케이225\n"
     ]
    }
   ],
   "source": [
    "import requests\n",
    "from bs4 import BeautifulSoup\n",
    "\n",
    "res = requests.get('https://finance.naver.com/sise/')\n",
    "soup = BeautifulSoup(res.content, 'html.parser')\n",
    "items = soup.select('div.rgt > ul.lst_major > li > a')\n",
    "for item in items:\n",
    "    print(item.get_text())"
   ]
  },
  {
   "cell_type": "code",
   "execution_count": 31,
   "id": "83302996",
   "metadata": {
    "collapsed": true
   },
   "outputs": [
    {
     "name": "stdout",
     "output_type": "stream",
     "text": [
      "지수이름: 다우산업 현재지수: 34,230.34 상승\n",
      "지수이름:  나스닥 현재지수: 13,582.43 하락\n",
      "지수이름:  홍콩H 현재지수: 10,732.78 상승\n",
      "지수이름:  상해종합 현재지수: 3,445.85 하락\n",
      "지수이름:  니케이225 현재지수: 29,331.37 상승\n"
     ]
    }
   ],
   "source": [
    "import requests\n",
    "from bs4 import BeautifulSoup\n",
    "\n",
    "res = requests.get('https://finance.naver.com/sise/')\n",
    "soup = BeautifulSoup(res.content, 'html.parser')\n",
    "items = soup.select('div.rgt > ul.lst_major > li')\n",
    "for item in items:\n",
    "    print(\"지수이름:\",item.find('a').get_text(), \"현재지수:\",item.find('span').get_text(), item.find('em').get_text())"
   ]
  },
  {
   "cell_type": "code",
   "execution_count": 32,
   "id": "e124879b",
   "metadata": {
    "collapsed": true
   },
   "outputs": [
    {
     "name": "stdout",
     "output_type": "stream",
     "text": [
      "해외 인기검색\n",
      "지수이름: 나스닥 종합\n",
      "지수이름: 다우 산업\n",
      "지수이름: 독일 DAX30\n",
      "지수이름: S&P 500\n",
      "지수이름: 필라델피아 반도체\n"
     ]
    }
   ],
   "source": [
    "import requests\n",
    "from bs4 import BeautifulSoup\n",
    "\n",
    "res = requests.get('https://finance.naver.com/world/')\n",
    "soup = BeautifulSoup(res.content, 'html.parser')\n",
    "items = soup.select('#as8 td em')\n",
    "print(\"해외 인기검색\")\n",
    "for item in items:\n",
    "    print(\"지수이름:\",item.find('a').get_text())#, \"%:\",item.find('th').get_text())"
   ]
  },
  {
   "cell_type": "markdown",
   "id": "a8e0bd7d",
   "metadata": {},
   "source": [
    "#### Urillib 라이브러리 사용법(잘 안 씀)"
   ]
  },
  {
   "cell_type": "code",
   "execution_count": 33,
   "id": "a089a091",
   "metadata": {
    "collapsed": true
   },
   "outputs": [
    {
     "name": "stdout",
     "output_type": "stream",
     "text": [
      "상품명: 보몽드 순면스퀘어 솔리드 누빔매트커버, 다크블루\n",
      "상품명: 슈에뜨룸 선인장 리플 침구 세트, 베이지\n",
      "상품명: 선우랜드 레인보우 2단 문걸이용 옷걸이 _중형, 화이트, 상세페이지참조\n",
      "상품명: 보드래 헬로우 누빔 매트리스커버, 핑크\n",
      "상품명: 보드래 퍼펙트 누빔 매트리스커버, 차콜\n",
      "상품명: 피아블 클래식 방수 매트리스커버, 화이트\n",
      "상품명: 더자리 에코항균 마이크로 매트리스커버, 밀키차콜그레이\n",
      "상품명: 더자리 프레쉬 퓨어 매트리스 커버, 퓨어 차콜그레이\n",
      "상품명: 몽쉐어 알러스킨 항균 매트리스 커버, 카키그레이\n",
      "상품명: 쿠팡 브랜드 - 코멧 홈 40수 트윌 순면 100% 홑겹 매트리스커버, 그레이\n",
      "상품명: 패브릭아트 항균 마이크로 원단 매트리스 커버, 아이보리\n",
      "상품명: 바숨 순면 누빔 침대 매트리스커버, 차콜\n",
      "상품명: WEMAX 다용도 문옷걸이, 화이트, 1개\n",
      "상품명: 타카타카 프리미엄 나노 화이바 누빔 매트리스 커버, 젠틀핑핑\n",
      "상품명: 보몽드 순면스퀘어 누빔매트커버, 다크그레이\n",
      "상품명: 보드래 국내산 순면 60수 누빔 매트리스커버, 그레이\n"
     ]
    }
   ],
   "source": [
    "from urllib.request import urlopen\n",
    "from bs4 import BeautifulSoup\n",
    "\n",
    "res = urlopen('https://davelee-fun.github.io/')\n",
    "soup = BeautifulSoup(res, 'html.parser')\n",
    "data = soup.select('h4.card-text')\n",
    "for item in data:\n",
    "    print(item.get_text().strip())"
   ]
  },
  {
   "cell_type": "markdown",
   "id": "529eeca1",
   "metadata": {},
   "source": [
    "### HTTP response code\n",
    "- (크롤링할 페이지가 없는 경우 확인 방법)"
   ]
  },
  {
   "cell_type": "code",
   "execution_count": 34,
   "id": "0fd6a99a",
   "metadata": {},
   "outputs": [
    {
     "name": "stdout",
     "output_type": "stream",
     "text": [
      "페이지 없음\n"
     ]
    }
   ],
   "source": [
    "import requests\n",
    "from bs4 import BeautifulSoup\n",
    "\n",
    "res = requests.get('https://davelee-fun.github.io/xxx')\n",
    "if res.status_code != 200:\n",
    "    print('페이지 없음')\n",
    "    \n",
    "else:\n",
    "    soup = BeautifulSoup(res.content, 'html.parser')\n",
    "    data = soup.select('h4.card-text')\n",
    "    \n",
    "    for item in data:\n",
    "        print(item.get_text())"
   ]
  },
  {
   "cell_type": "markdown",
   "id": "6cd0ced5",
   "metadata": {},
   "source": [
    "### 여러페이지 한번에 크롤링하는 기법"
   ]
  },
  {
   "cell_type": "code",
   "execution_count": 35,
   "id": "38de58e1",
   "metadata": {
    "collapsed": true
   },
   "outputs": [
    {
     "name": "stdout",
     "output_type": "stream",
     "text": [
      "상품명: 보드래 퍼펙트 누빔 매트리스커버, 베이지핑크\n",
      "상품명: 쿠팡 브랜드 - 코멧 홈 40수 순면 누빔 매트리스커버, 챠콜\n",
      "상품명: 바숨 순면 누빔 침대 매트리스커버, 화이트\n",
      "상품명: 프랑떼 항균 방수 매트리스커버, 화이트\n",
      "상품명: 보몽드 순면스퀘어 솔리드 누빔매트커버, 다크블루\n",
      "상품명: 네이쳐리빙 피아블 클래식 방수 매트리스커버, 그레이\n",
      "상품명: 쿠팡 브랜드 - 코멧 홈 순면 매트리스커버, 베이지\n",
      "상품명: 타카타카 프리미엄 나노 화이바 누빔 매트리스 커버, 프렌치불독\n",
      "상품명: 더자리 에코항균 마이크로 매트리스커버, 밀키그레이\n",
      "상품명: 보몽드 순면스퀘어 누빔매트커버, 화이트\n",
      "상품명: 피아블 클래식 방수 매트리스커버, 화이트\n",
      "상품명: 쿠팡 브랜드 - 코멧 홈 순면 매트리스커버, 차콜그레이\n",
      "상품명: 쉬즈홈 모던그리드 순면 여름이불 베개커버 패드세트, 핑크\n",
      "상품명: 스코홈 빅리플 여름 차렵이불패드 3종 세트, 마린그레이\n",
      "상품명: 아망떼 시어서커 리플 홑이불 패드세트, 웨이크\n",
      "상품명: 마이센스 무더운 여름엔 시어서커 여름이불 패드 베개 이불세트 30종, 시어서커_파스텔그레이\n",
      "상품명: 믹스앤매치 로라 프릴 시어서커 침구세트, 그레이\n",
      "상품명: 에피소드1 샤베트 프릴 시어서커 여름이불패드세트, 그레이\n",
      "상품명: 슈에뜨룸 선인장 리플 침구 세트, 베이지\n",
      "상품명: 아망떼 시어서커 리플 홑이불 패드세트, 허브티\n",
      "상품명: 지베딩 아이스베어 시어서커 여름침구 풀세트, 민트그레이\n",
      "상품명: 쁘리엘르 테스 시어서커 여름이불 패드세트, 그레이\n",
      "상품명: 쉬즈홈 시어서커 홑이불 + 토퍼 + 베개커버 세트, 나나 옐로우\n",
      "상품명: 아망떼 시어서커 리플 퀼팅 이불패드세트, 리엔나\n",
      "상품명: 바자르 트로피컬 인견 여름 이불세트 인견이불 + 베개커버 2p + 인견패드, 그린\n",
      "상품명: 바자르 라이닝 혼방 인견 여름 이불베개세트 + 패드 Q, 쿨 네이비\n",
      "상품명: 슈에뜨룸 비숑 피치스킨 침구세트, 그레이\n",
      "상품명: 스코홈 시어서커 여름 이불 패드 3종 세트, 차콜\n",
      "상품명: 스코홈 어번시리즈 순면 차렵이불 누빔 매트커버세트 S 차콜\n",
      "상품명: 쉬즈홈 루즈 시어서커 차렵이불 패드세트, 그레이\n",
      "상품명: 예가로드 메리엘 시어서커 누비이불 패드세트, 블루\n",
      "상품명: 에피소드1 샤베트 프릴 시어서커 여름이불패드세트, 화이트\n",
      "상품명: 쉬즈홈 플루 시어서커 차렵이불 패드세트, 그린\n",
      "상품명: 메종 레이스 차렵 이불 세트, 블루\n",
      "상품명: 믹스앤매치 로라 프릴 시어서커 침구세트, 그린\n",
      "상품명: 슈에뜨룸 발그레 피치 리플 침구 세트, 혼합 색상\n",
      "상품명: 보몽드 메종 레이스 차렵이불 3종 세트, 민트\n",
      "상품명: 슈에뜨룸 체크 피치스킨 침구세트, 모카\n",
      "상품명: 메리엘 시어서커 에어리플 이불세트, 그레이\n",
      "상품명: 슈에뜨룸 빠삐용 시어서커 침구세트, 네이비\n",
      "상품명: 믹스앤매치 에이프릴 리플 누비이불 패드세트, 화이트\n",
      "상품명: 쉬즈홈 시어서커 홑이불 토퍼세트, 루즈 그레이\n",
      "상품명: 이코디 5단 엔틱 도어 행거, 브라운, 1개\n",
      "상품명: 선우랜드 우드볼 도어훅 4구, 실버, 1개\n",
      "상품명: 리은상점 다용도 도어훅 문걸이 행거 모자걸이 머플러 목도리 걸이, 화이트, 5개\n",
      "상품명: 퍼니스코 다용도걸이 모자걸이 가방걸이 도어훅 도어행거 문걸이, 엔틱브라운, 1세트\n",
      "상품명: 스텐 도어후크 옷걸이/도어훅 문옷걸이 행거 바지걸이, 혼합 색상, 1개\n",
      "상품명: 디비플러스 키펙스 컬러 폭조절 오버 도어훅, 블랙, 1개\n",
      "상품명: 리빙스토리 1+1 문에 거는 문 옷걸이 음자리 도어후크 방문 행거, 음자리도어후크-로즈골드, 2개\n",
      "상품명: 나이스후크 도어행거 2개 세트 (문행거), 블랙+화이트\n",
      "상품명: 리빙파이 도어훅 옷걸이 행거 7구, 블랙, 1개\n",
      "상품명: 선우랜드 우드볼 도어훅 10구, 실버, 1개\n",
      "상품명: 웰렉스 도어행거 MH1060 신형 본사직발송 미니건조대 도어옷걸이 도어훅, 고동색, 1개\n",
      "상품명: 엔비 엔틱 7구 도어훅 옷걸이, 도어훅 1+1, 1+1\n",
      "상품명: 코시나 무타공 문걸이 후크선반 1단, 화이트, 1개\n",
      "상품명: 코시나 무타공 올스텐 문걸이행거, 혼합 색상, 1개\n",
      "상품명: [아트박스 POOM/이케아] ENUDDEN 도어 행거, 본품, 수량\n",
      "상품명: 비스비바 우드 폴 다용도걸이 3구, 혼합 색상, 1개\n",
      "상품명: 숲속애 웨이브 도어후크 5구, 블랙, 1개\n",
      "상품명: 펀타스틱 다용도 문틀걸이, 화이트, 1개\n",
      "상품명: 선우랜드 우드볼 도어훅 4구, 화이트, 1개\n",
      "상품명: 네이쳐리빙 어반모카 와이어 도어훅 옷걸이 6구, 단일 색상, 1개\n",
      "상품명: 까사마루 블랑 접이식 문걸이 건조대, 1개\n",
      "상품명: 선우랜드 우드볼 도어훅 6구, 실버, 1개\n",
      "상품명: 이케아 ENUDDEN 문걸이 행거 402.516.66, 화이트, 1개\n",
      "상품명: 선우랜드 우드볼 도어훅 10구, 화이트, 1개\n",
      "상품명: 코멧 홈 우드볼 도어행거, 6구, 혼합색상\n",
      "상품명: 선우랜드 레인보우 2단 문걸이용 옷걸이 _중형, 화이트, 상세페이지참조\n",
      "상품명: 코시나 무타공 문걸이 후크선반 2단, 화이트, 1개\n",
      "상품명: 스파이더락 도어후크 8구, 화이트, 1개\n",
      "상품명: 선우랜드 우드볼 도어훅 6구, 화이트, 1개\n",
      "상품명: 코멧 홈 우드볼 도어행거, 10구, 혼합색상\n",
      "상품명: 보드래 헬로우 누빔 매트리스커버, 핑크\n",
      "상품명: 보몽드 순면스퀘어 솔리드 누빔매트커버, 아이보리\n",
      "상품명: 더자리 에코항균 마이크로 매트리스커버, 밀키핑크\n",
      "상품명: 타카타카 프리미엄 나노 화이바 누빔 매트리스 커버, 미스밍고\n",
      "상품명: 네이쳐리빙 피아블 클래식 방수 매트리스커버, 그레이\n",
      "상품명: 프로텍트어베드 베이직 매트리스 방수커버, 그레이\n"
     ]
    }
   ],
   "source": [
    "import requests\n",
    "from bs4 import BeautifulSoup\n",
    "\n",
    "for page_num in range(10):\n",
    "    if page_num == 0:\n",
    "        res = requests.get('https://davelee-fun.github.io/')\n",
    "    else:\n",
    "        res = requests.get('https://davelee-fun.github.io/page' + str(page_num +1))\n",
    "        soup = BeautifulSoup(res.content, 'html.parser')\n",
    "        data = soup.select('h4.card-text')\n",
    "    \n",
    "        for item in data:\n",
    "            print(item.get_text().strip())"
   ]
  },
  {
   "cell_type": "markdown",
   "id": "1293f137",
   "metadata": {},
   "source": [
    "### 크롤링해서 엑셀파일로 데이터 저장\n",
    "- openpyxl 라이브러리 활용\n",
    "- xlsx 파일 읽고, 저장 모두 가능\n",
    "- 설치: 터미널 모드에서 다음 명령 실행"
   ]
  },
  {
   "cell_type": "code",
   "execution_count": null,
   "id": "dec5aecc",
   "metadata": {},
   "outputs": [],
   "source": [
    "pip install openpyxl"
   ]
  },
  {
   "cell_type": "markdown",
   "id": "f4d20775",
   "metadata": {},
   "source": [
    "#### 엑셀 파일 만들기\n",
    "- 함수로 작성해보면서, 함수 작성법과 활용법 이해하기"
   ]
  },
  {
   "cell_type": "code",
   "execution_count": null,
   "id": "f856ff0a",
   "metadata": {},
   "outputs": [],
   "source": [
    "import openpyxl\n",
    "\n",
    "def wirte_excel_template(filename, sheetname, listdata):\n",
    "    excel_file = openpyxl.Workbook()\n",
    "    excel_sheet = excel_file.active\n",
    "    excel_sheet.column_dimensions['A'].width = 100\n",
    "    excel_sheet.column_dimensions['B'].width = 20\n",
    "    \n",
    "    if sheetname != '':\n",
    "        excel_sheet.title = sheetname\n",
    "        \n",
    "        for item in listdata:\n",
    "            excel_sheet.append(item)\n",
    "            excel_file.sava(filename)\n",
    "            excel_file.close()"
   ]
  },
  {
   "cell_type": "markdown",
   "id": "a66c4e5d",
   "metadata": {},
   "source": [
    "#### 크롤링해서 엑셀 파일까지 만들기\n",
    "- 리스트 안에 리스트(각 행을 나타냄)가 들어가야 함"
   ]
  },
  {
   "cell_type": "code",
   "execution_count": null,
   "id": "fcc93a8d",
   "metadata": {},
   "outputs": [],
   "source": [
    "import requests\n",
    "from bs4 import BeautifulSoup\n",
    "\n",
    "product_list = list()\n",
    "\n",
    "for page_num in range(10):\n",
    "    if page_num == 0:\n",
    "        res = requests.get('https://davelee-fun.github.io/')\n",
    "    else:\n",
    "        res = requests.get('https://davelee-fun.github.io/page' + str(page_num +1))\n",
    "        soup = BeautifulSoup(res.content, 'html.parser')\n",
    "        data = soup.select('div.card')\n",
    "    \n",
    "        for item in data:\n",
    "            product_name = item.select_one('div.card-body h4.card-text')\n",
    "            product_date = item.select_one('div.wrapfooter span.post-date')\n",
    "            product_info = [product_name.get_text().strip(), product_date.get_text()]\n",
    "            product_list.append(product_info)\n",
    "\n",
    "excel_file.save('tmp.xlsx')\n",
    "excel_file.close()"
   ]
  },
  {
   "cell_type": "code",
   "execution_count": null,
   "id": "ab138b22",
   "metadata": {},
   "outputs": [],
   "source": [
    "write_excel_template('tmp.xlsx', '상품정보', product_list)\n",
    "#일부러 안 돌렸다! 이 컴퓨터에는 엑셀이 안 깔려있기 때문에 생성할 수 없다!"
   ]
  },
  {
   "cell_type": "markdown",
   "id": "c305df4c",
   "metadata": {},
   "source": [
    "#### 엑셀 파일 읽기\n",
    "- 라이브러리 임포트"
   ]
  },
  {
   "cell_type": "code",
   "execution_count": null,
   "id": "12fa449b",
   "metadata": {},
   "outputs": [],
   "source": [
    "import openpyxl"
   ]
  },
  {
   "cell_type": "markdown",
   "id": "91788123",
   "metadata": {},
   "source": [
    "- 엑셀 파일 오픈(load_workbook() 함수)"
   ]
  },
  {
   "cell_type": "code",
   "execution_count": null,
   "id": "5a3f52ea",
   "metadata": {},
   "outputs": [],
   "source": [
    "excel_file = openpyxl.load_workbook('tmp.xlsx')"
   ]
  },
  {
   "cell_type": "markdown",
   "id": "634ed966",
   "metadata": {},
   "source": [
    "- 해당 엑셀 파일 안에 있는 시트 이름 확인하기"
   ]
  },
  {
   "cell_type": "code",
   "execution_count": null,
   "id": "fd4e6594",
   "metadata": {},
   "outputs": [],
   "source": [
    "excel_file.sheetnames"
   ]
  },
  {
   "cell_type": "markdown",
   "id": "c1e750cd",
   "metadata": {},
   "source": [
    "- 해당 엑셀 파일 안에 있는 특정 시트 선택하기"
   ]
  },
  {
   "cell_type": "code",
   "execution_count": null,
   "id": "3852c4e1",
   "metadata": {},
   "outputs": [],
   "source": [
    "excel_sheet = excel_file[\"상품정보\"]"
   ]
  },
  {
   "cell_type": "markdown",
   "id": "45db3621",
   "metadata": {},
   "source": [
    "- 시트 안에 있는 데이터 읽기\n",
    "   - item에는 한 라인의 각 셀에 있는 데이터를 가져옴\n",
    "   - 각 데이터에는 각 리스트 아이템의 value 변수로부터 실제 데이터를 가져올 수 있음"
   ]
  },
  {
   "cell_type": "code",
   "execution_count": null,
   "id": "8a2369ee",
   "metadata": {},
   "outputs": [],
   "source": [
    "for item in excel_sheet.rows:\n",
    "    print(item[0].value, item[1].value)"
   ]
  }
 ],
 "metadata": {
  "kernelspec": {
   "display_name": "Python 3",
   "language": "python",
   "name": "python3"
  },
  "language_info": {
   "codemirror_mode": {
    "name": "ipython",
    "version": 3
   },
   "file_extension": ".py",
   "mimetype": "text/x-python",
   "name": "python",
   "nbconvert_exporter": "python",
   "pygments_lexer": "ipython3",
   "version": "3.8.9"
  }
 },
 "nbformat": 4,
 "nbformat_minor": 5
}
