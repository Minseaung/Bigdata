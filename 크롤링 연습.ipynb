{
 "cells": [
  {
   "cell_type": "code",
   "execution_count": 8,
   "id": "66bf4c05",
   "metadata": {
    "scrolled": false
   },
   "outputs": [
    {
     "name": "stdout",
     "output_type": "stream",
     "text": [
      "바이올린 협주곡 D장조(차이콥스키)\n"
     ]
    }
   ],
   "source": [
    "import requests\n",
    "from bs4 import BeautifulSoup\n",
    "\n",
    "res = requests.get('https://namu.wiki/w/%EB%B0%94%EC%9D%B4%EC%98%AC%EB%A6%B0%20%ED%98%91%EC%A3%BC%EA%B3%A1%20D%EC%9E%A5%EC%A1%B0(%EC%B0%A8%EC%9D%B4%EC%BD%A5%EC%8A%A4%ED%82%A4)')\n",
    "soup = BeautifulSoup(res.content, 'html.parser')\n",
    "title = soup.find('title')\n",
    "print(title.get_text().split('-')[0].strip())"
   ]
  },
  {
   "cell_type": "code",
   "execution_count": 26,
   "id": "4db3b58a",
   "metadata": {},
   "outputs": [
    {
     "name": "stdout",
     "output_type": "stream",
     "text": [
      "1. 개요\n",
      "2. 편성\n",
      "3. 구성\n",
      "3.1. 1악장\n",
      "3.2. 2악장\n",
      "3.3. 3악장\n"
     ]
    }
   ],
   "source": [
    "orders = soup.find_all('span', 'toc-item')\n",
    "for order in orders:\n",
    "    print(order.get_text())"
   ]
  },
  {
   "cell_type": "code",
   "execution_count": 32,
   "id": "a9bb3605",
   "metadata": {},
   "outputs": [
    {
     "name": "stdout",
     "output_type": "stream",
     "text": [
      "개요\n"
     ]
    }
   ],
   "source": [
    "titles = soup.find('span', id='개요')\n",
    "print(titles.get_text().split('[')[0])\n",
    "contents_ = soup.find_all('a', 'wiki-heading-content')\n",
    "for contents in contents_:\n",
    "    print(contents.get_text())"
   ]
  },
  {
   "cell_type": "code",
   "execution_count": null,
   "id": "99de6381",
   "metadata": {},
   "outputs": [],
   "source": []
  }
 ],
 "metadata": {
  "kernelspec": {
   "display_name": "Python 3",
   "language": "python",
   "name": "python3"
  },
  "language_info": {
   "codemirror_mode": {
    "name": "ipython",
    "version": 3
   },
   "file_extension": ".py",
   "mimetype": "text/x-python",
   "name": "python",
   "nbconvert_exporter": "python",
   "pygments_lexer": "ipython3",
   "version": "3.8.9"
  }
 },
 "nbformat": 4,
 "nbformat_minor": 5
}
